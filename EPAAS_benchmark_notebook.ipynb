{
 "cells": [
  {
   "cell_type": "code",
   "execution_count": 1,
   "metadata": {},
   "outputs": [],
   "source": [
    "from frontend.database import session\n",
    "from scripts import generate_fc_layer_circuit, benchmark_utils\n",
    "import numpy as np"
   ]
  },
  {
   "cell_type": "code",
   "execution_count": 2,
   "metadata": {},
   "outputs": [],
   "source": [
    "weight_size = 2000\n",
    "weight = np.asarray([int(np.random.random() > 0.5) for i in range(weight_size)])"
   ]
  },
  {
   "cell_type": "code",
   "execution_count": 3,
   "metadata": {},
   "outputs": [
    {
     "name": "stdout",
     "output_type": "stream",
     "text": [
      "/Users/asanyal/research/SHEEP//benchmark_inputs/mid_level/circuits/circuit-fc_layer-2000.sheep\n"
     ]
    }
   ],
   "source": [
    "circuit_file=generate_fc_layer_circuit.generate(weight.size, weight)\n",
    "print(circuit_file)"
   ]
  },
  {
   "cell_type": "code",
   "execution_count": 4,
   "metadata": {},
   "outputs": [],
   "source": [
    "inp_var = benchmark_utils.get_inputs(circuit_file)\n",
    "out_var = benchmark_utils.get_outputs(circuit_file)\n",
    "inp_dict = {}\n",
    "for inps in inp_var:\n",
    "    inp_dict[inps] = int(np.random.random() > 0.5)"
   ]
  },
  {
   "cell_type": "code",
   "execution_count": 5,
   "metadata": {},
   "outputs": [],
   "source": [
    "inputs_file = benchmark_utils.write_inputs_file(inp_dict)"
   ]
  },
  {
   "cell_type": "code",
   "execution_count": 6,
   "metadata": {},
   "outputs": [],
   "source": [
    "results = benchmark_utils.run_circuit(circuit_file,inputs_file,\"bool\",\"TFHE\")"
   ]
  },
  {
   "cell_type": "code",
   "execution_count": 34,
   "metadata": {},
   "outputs": [],
   "source": [
    "assert np.alltrue([int(weight[i]==inp_dict['FCINPUT_'+str(i)]) == int(results['Outputs']['XNOROUTPUT_'+str(i)]) for i in range(weight_size)])"
   ]
  },
  {
   "cell_type": "code",
   "execution_count": 35,
   "metadata": {},
   "outputs": [
    {
     "name": "stdout",
     "output_type": "stream",
     "text": [
      "0.00484\n"
     ]
    }
   ],
   "source": [
    "print(results['Processing times (s)']['circuit_evaluation'])"
   ]
  },
  {
   "cell_type": "code",
   "execution_count": 11,
   "metadata": {},
   "outputs": [],
   "source": [
    "from scripts.rocks import circuit\n",
    "from scripts.particles import variables\n",
    "from scripts.reusable_modules import nb_adder"
   ]
  },
  {
   "cell_type": "code",
   "execution_count": 12,
   "metadata": {},
   "outputs": [],
   "source": [
    "x = variables('x')\n",
    "y = variables('y')\n",
    "cin = variables('cin')\n",
    "s = variables('sum')\n",
    "c = variables('carry')\n",
    "b2_adder = nb_adder('2b_adder', [x, y, cin], [s, c], 2)\n",
    "c_obj = circuit('2 Bit Adder', b2_adder)\n",
    "c_obj.write_file(filename='./test.sheep')\n",
    "inp_dict = {'x':0, 'y':1, 'cin':1}\n",
    "inputs_file = benchmark_utils.write_inputs_file(inp_dict)\n",
    "results = benchmark_utils.run_circuit('./test.sheep',inputs_file,\"bool\",\"TFHE\")"
   ]
  },
  {
   "cell_type": "code",
   "execution_count": 13,
   "metadata": {},
   "outputs": [
    {
     "data": {
      "text/plain": [
       "{'Cleartext check': {'is_correct': True},\n",
       " 'Object sizes (bytes)': {u'ciphertext': u'24',\n",
       "  u'privateKey': u'48',\n",
       "  u'publicKey': u'48'},\n",
       " 'Outputs': {u'carry': u'1', u'sum': u'0'},\n",
       " 'Parameter values': {u'MinimumLambda': u'110'},\n",
       " 'Processing times (s)': {u'circuit_evaluation': '0.12925',\n",
       "  u'decryption': '0.0',\n",
       "  u'encryption': '8e-05',\n",
       "  u'setup': '0.41446'},\n",
       " 'context': 'TFHE',\n",
       " 'input_bitwidth': 1,\n",
       " 'input_signed': False}"
      ]
     },
     "execution_count": 13,
     "metadata": {},
     "output_type": "execute_result"
    }
   ],
   "source": [
    "results"
   ]
  },
  {
   "cell_type": "code",
   "execution_count": null,
   "metadata": {},
   "outputs": [],
   "source": []
  }
 ],
 "metadata": {
  "kernelspec": {
   "display_name": "Python 2",
   "language": "python",
   "name": "python2"
  },
  "language_info": {
   "codemirror_mode": {
    "name": "ipython",
    "version": 2
   },
   "file_extension": ".py",
   "mimetype": "text/x-python",
   "name": "python",
   "nbconvert_exporter": "python",
   "pygments_lexer": "ipython2",
   "version": "2.7.14"
  }
 },
 "nbformat": 4,
 "nbformat_minor": 2
}
