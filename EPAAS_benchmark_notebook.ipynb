{
 "cells": [
  {
   "cell_type": "code",
   "execution_count": 1,
   "metadata": {},
   "outputs": [],
   "source": [
    "from frontend.database import session\n",
    "from scripts import generate_fc_layer_circuit, benchmark_utils\n",
    "import numpy as np"
   ]
  },
  {
   "cell_type": "code",
   "execution_count": 2,
   "metadata": {},
   "outputs": [],
   "source": [
    "weight_size = 2000\n",
    "weight = np.asarray([int(np.random.random() > 0.5) for i in range(weight_size)])"
   ]
  },
  {
   "cell_type": "code",
   "execution_count": 3,
   "metadata": {},
   "outputs": [
    {
     "name": "stdout",
     "output_type": "stream",
     "text": [
      "/Users/asanyal/research/SHEEP//benchmark_inputs/mid_level/circuits/circuit-fc_layer-2000.sheep\n"
     ]
    }
   ],
   "source": [
    "circuit_file=generate_fc_layer_circuit.generate(weight.size, weight)\n",
    "print(circuit_file)"
   ]
  },
  {
   "cell_type": "code",
   "execution_count": 4,
   "metadata": {},
   "outputs": [],
   "source": [
    "inp_var = benchmark_utils.get_inputs(circuit_file)\n",
    "out_var = benchmark_utils.get_outputs(circuit_file)\n",
    "inp_dict = {}\n",
    "for inps in inp_var:\n",
    "    inp_dict[inps] = int(np.random.random() > 0.5)"
   ]
  },
  {
   "cell_type": "code",
   "execution_count": 5,
   "metadata": {},
   "outputs": [],
   "source": [
    "inputs_file = benchmark_utils.write_inputs_file(inp_dict)"
   ]
  },
  {
   "cell_type": "code",
   "execution_count": 6,
   "metadata": {},
   "outputs": [],
   "source": [
    "results = benchmark_utils.run_circuit(circuit_file,inputs_file,\"bool\",\"TFHE\")"
   ]
  },
  {
   "cell_type": "code",
   "execution_count": 7,
   "metadata": {},
   "outputs": [],
   "source": [
    "assert np.alltrue([int(weight[i]==inp_dict['FCINPUT_'+str(i)]) == int(results['Outputs']['XNOROUTPUT_'+str(i)]) for i in range(weight_size)])"
   ]
  },
  {
   "cell_type": "code",
   "execution_count": 8,
   "metadata": {},
   "outputs": [
    {
     "name": "stdout",
     "output_type": "stream",
     "text": [
      "0.0049\n"
     ]
    }
   ],
   "source": [
    "print(results['Processing times (s)']['circuit_evaluation'])"
   ]
  },
  {
   "cell_type": "code",
   "execution_count": 9,
   "metadata": {},
   "outputs": [],
   "source": [
    "from scripts.rocks import circuit, enc_vec\n",
    "from scripts.particles import variables\n",
    "from scripts.reusable_modules import oneb_adder, nb_adder"
   ]
  },
  {
   "cell_type": "code",
   "execution_count": 10,
   "metadata": {},
   "outputs": [],
   "source": [
    "x = variables('x')\n",
    "y = variables('y')\n",
    "cin = variables('cin')\n",
    "s = variables('sum')\n",
    "c = variables('carry')\n",
    "b1_adder = oneb_adder('1b_adder', [x, y, cin], [s, c], 1)\n",
    "c_obj = circuit('1 Bit Adder', b1_adder)\n",
    "c_obj.write_file(filename='./test.sheep')\n",
    "inp_dict = {'x':1, 'y':1, 'cin':1}\n",
    "inputs_file = benchmark_utils.write_inputs_file(inp_dict)\n",
    "results = benchmark_utils.run_circuit('./test.sheep',inputs_file,\"bool\",\"TFHE\")"
   ]
  },
  {
   "cell_type": "code",
   "execution_count": 11,
   "metadata": {},
   "outputs": [
    {
     "name": "stdout",
     "output_type": "stream",
     "text": [
      "Carry : 1 and Sum : 1\n"
     ]
    }
   ],
   "source": [
    "print('Carry : {:d} and Sum : {:d}'.format(int(results['Outputs']['carry']),int(results['Outputs']['sum'])))"
   ]
  },
  {
   "cell_type": "code",
   "execution_count": 12,
   "metadata": {},
   "outputs": [],
   "source": [
    "x1 = variables('x1')\n",
    "x2 = variables('x2')\n",
    "x3 = variables('x3')\n",
    "y1 = variables('y1')\n",
    "y2 = variables('y2')\n",
    "y3 = variables('y3')\n",
    "cin = variables('cin')\n",
    "s1 = variables('sum1')\n",
    "s2 = variables('sum2')\n",
    "s3 = variables('sum3')\n",
    "s4 = variables('sum4')\n",
    "b3_adder = nb_adder('2b_adder', [cin, x1, x2, x3, y1, y2, y3], [s1, s2, s3, s4], 3)\n",
    "c_obj = circuit('3 Bit Adder', b3_adder)\n",
    "c_obj.write_file(filename='./test.sheep')\n",
    "inp_dict = {'x1':0, 'x2':1, 'x3': 1, 'y1':1, 'y2':1,'y3':1,'cin':0}\n",
    "inputs_file = benchmark_utils.write_inputs_file(inp_dict)\n",
    "results = benchmark_utils.run_circuit('./test.sheep',inputs_file,\"bool\",\"TFHE\")"
   ]
  },
  {
   "cell_type": "code",
   "execution_count": 13,
   "metadata": {},
   "outputs": [
    {
     "name": "stdout",
     "output_type": "stream",
     "text": [
      "1011\n"
     ]
    }
   ],
   "source": [
    "print('{:d}{:d}{:d}{:d}'.format(int(results['Outputs']['sum1']),\n",
    "                            int(results['Outputs']['sum2']), \n",
    "                            int(results['Outputs']['sum3']), \n",
    "                            int(results['Outputs']['sum4'])\n",
    "                           ))"
   ]
  },
  {
   "cell_type": "code",
   "execution_count": 29,
   "metadata": {},
   "outputs": [],
   "source": [
    "cin_vec = enc_vec(name='cin', nb=1, randomize_name=4)\n",
    "t1 = enc_vec(name='v1', nb=3, randomize_name=4)\n",
    "t2 = enc_vec(name='v2', nb=2, randomize_name=4)"
   ]
  },
  {
   "cell_type": "code",
   "execution_count": 30,
   "metadata": {},
   "outputs": [
    {
     "ename": "TypeError",
     "evalue": "can only concatenate list (not \"enc_vec\") to list",
     "output_type": "error",
     "traceback": [
      "\u001b[0;31m---------------------------------------------------------------------------\u001b[0m",
      "\u001b[0;31mTypeError\u001b[0m                                 Traceback (most recent call last)",
      "\u001b[0;32m<ipython-input-30-c8fd42fb999a>\u001b[0m in \u001b[0;36m<module>\u001b[0;34m()\u001b[0m\n\u001b[0;32m----> 1\u001b[0;31m \u001b[0mt3\u001b[0m \u001b[0;34m=\u001b[0m \u001b[0mcin\u001b[0m \u001b[0;34m+\u001b[0m \u001b[0mt1\u001b[0m \u001b[0;34m+\u001b[0m \u001b[0mt2\u001b[0m\u001b[0;34m\u001b[0m\u001b[0m\n\u001b[0m",
      "\u001b[0;31mTypeError\u001b[0m: can only concatenate list (not \"enc_vec\") to list"
     ]
    }
   ],
   "source": [
    "t3 = cin + t1 + t2"
   ]
  },
  {
   "cell_type": "code",
   "execution_count": 17,
   "metadata": {},
   "outputs": [],
   "source": [
    "b3_adder = nb_adder('2b_adder', t3, [s1, s2, s3, s4], 2)\n",
    "c_obj = circuit('2 Bit Adder', b3_adder)\n",
    "c_obj.write_file(filename='./test.sheep')"
   ]
  },
  {
   "cell_type": "code",
   "execution_count": 27,
   "metadata": {},
   "outputs": [],
   "source": [
    "cin = [0]\n",
    "t1_inp = [0, 0, 1]\n",
    "t2_inp = [1, 1, 1]"
   ]
  },
  {
   "cell_type": "code",
   "execution_count": 28,
   "metadata": {},
   "outputs": [
    {
     "name": "stdout",
     "output_type": "stream",
     "text": [
      "110\n"
     ]
    }
   ],
   "source": [
    "inp_dict = t3.get_input_dict(cin+t1_inp+t2_inp)\n",
    "inputs_file = benchmark_utils.write_inputs_file(inp_dict)\n",
    "results = benchmark_utils.run_circuit('./test.sheep',inputs_file,\"bool\",\"TFHE\")\n",
    "print('{:d}{:d}{:d}'.format(int(results['Outputs']['sum1']),\n",
    "                            int(results['Outputs']['sum2']), \n",
    "                            int(results['Outputs']['sum3'])\n",
    "                           ))"
   ]
  },
  {
   "cell_type": "code",
   "execution_count": null,
   "metadata": {},
   "outputs": [],
   "source": []
  }
 ],
 "metadata": {
  "kernelspec": {
   "display_name": "Python 2",
   "language": "python",
   "name": "python2"
  },
  "language_info": {
   "codemirror_mode": {
    "name": "ipython",
    "version": 2
   },
   "file_extension": ".py",
   "mimetype": "text/x-python",
   "name": "python",
   "nbconvert_exporter": "python",
   "pygments_lexer": "ipython2",
   "version": "2.7.14"
  }
 },
 "nbformat": 4,
 "nbformat_minor": 2
}
