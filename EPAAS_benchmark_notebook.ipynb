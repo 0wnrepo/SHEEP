{
 "cells": [
  {
   "cell_type": "code",
   "execution_count": null,
   "metadata": {},
   "outputs": [],
   "source": [
    "from frontend.database import session\n",
    "from scripts import generate_fc_layer_circuit, benchmark_utils\n",
    "import numpy as np"
   ]
  },
  {
   "cell_type": "code",
   "execution_count": null,
   "metadata": {},
   "outputs": [],
   "source": [
    "weight_size = 2000\n",
    "weight = np.asarray([int(np.random.random() > 0.5) for i in range(weight_size)])"
   ]
  },
  {
   "cell_type": "code",
   "execution_count": null,
   "metadata": {},
   "outputs": [],
   "source": [
    "circuit_file=generate_fc_layer_circuit.generate(weight.size, weight)\n",
    "print(circuit_file)"
   ]
  },
  {
   "cell_type": "code",
   "execution_count": null,
   "metadata": {},
   "outputs": [],
   "source": [
    "inp_var = benchmark_utils.get_inputs(circuit_file)\n",
    "out_var = benchmark_utils.get_outputs(circuit_file)\n",
    "inp_dict = {}\n",
    "for inps in inp_var:\n",
    "    inp_dict[inps] = int(np.random.random() > 0.5)"
   ]
  },
  {
   "cell_type": "code",
   "execution_count": null,
   "metadata": {},
   "outputs": [],
   "source": [
    "inputs_file = benchmark_utils.write_inputs_file(inp_dict)"
   ]
  },
  {
   "cell_type": "code",
   "execution_count": null,
   "metadata": {},
   "outputs": [],
   "source": [
    "results = benchmark_utils.run_circuit(circuit_file,inputs_file,\"bool\",\"TFHE\")"
   ]
  },
  {
   "cell_type": "code",
   "execution_count": null,
   "metadata": {},
   "outputs": [],
   "source": [
    "assert np.alltrue([int(weight[i]==inp_dict['FCINPUT_'+str(i)]) == int(results['Outputs']['XNOROUTPUT_'+str(i)]) for i in range(weight_size)])"
   ]
  },
  {
   "cell_type": "code",
   "execution_count": null,
   "metadata": {},
   "outputs": [],
   "source": [
    "print(results['Processing times (s)']['circuit_evaluation'])"
   ]
  },
  {
   "cell_type": "code",
   "execution_count": null,
   "metadata": {},
   "outputs": [],
   "source": [
    "from scripts.circuit import circuit\n",
    "from scripts.particles import variables, enc_vec\n",
    "from scripts.reusable_modules import oneb_adder, nb_adder"
   ]
  },
  {
   "cell_type": "code",
   "execution_count": null,
   "metadata": {},
   "outputs": [],
   "source": [
    "x = variables('x')\n",
    "y = variables('y')\n",
    "cin = variables('cin')\n",
    "s = variables('sum')\n",
    "c = variables('carry')\n",
    "b1_adder = oneb_adder('1b_adder', [x, y, cin], [s, c], 1)\n",
    "c_obj = circuit('1 Bit Adder', b1_adder)\n",
    "c_obj.write_file(filename='./test.sheep')\n",
    "inp_dict = {'x':1, 'y':1, 'cin':1}\n",
    "inputs_file = benchmark_utils.write_inputs_file(inp_dict)\n",
    "results = benchmark_utils.run_circuit('./test.sheep',inputs_file,\"bool\",\"TFHE\")"
   ]
  },
  {
   "cell_type": "code",
   "execution_count": null,
   "metadata": {},
   "outputs": [],
   "source": [
    "print('Carry : {:d} and Sum : {:d}'.format(int(results['Outputs']['carry']),int(results['Outputs']['sum'])))"
   ]
  },
  {
   "cell_type": "code",
   "execution_count": null,
   "metadata": {},
   "outputs": [],
   "source": [
    "x1 = variables('x1')\n",
    "x2 = variables('x2')\n",
    "x3 = variables('x3')\n",
    "y1 = variables('y1')\n",
    "y2 = variables('y2')\n",
    "y3 = variables('y3')\n",
    "cin = variables('cin')\n",
    "s1 = variables('sum1')\n",
    "s2 = variables('sum2')\n",
    "s3 = variables('sum3')\n",
    "s4 = variables('sum4')\n",
    "b3_adder = nb_adder('2b_adder', [cin, x1, x2, x3, y1, y2, y3], [s1, s2, s3, s4], 3)\n",
    "c_obj = circuit('3 Bit Adder', b3_adder)\n",
    "c_obj.write_file(filename='./test.sheep')\n",
    "inp_dict = {'x1':0, 'x2':1, 'x3': 1, 'y1':1, 'y2':1,'y3':1,'cin':0}\n",
    "inputs_file = benchmark_utils.write_inputs_file(inp_dict)\n",
    "results = benchmark_utils.run_circuit('./test.sheep',inputs_file,\"bool\",\"TFHE\")"
   ]
  },
  {
   "cell_type": "code",
   "execution_count": null,
   "metadata": {},
   "outputs": [],
   "source": [
    "print('{:d}{:d}{:d}{:d}'.format(int(results['Outputs']['sum1']),\n",
    "                            int(results['Outputs']['sum2']), \n",
    "                            int(results['Outputs']['sum3']), \n",
    "                            int(results['Outputs']['sum4'])\n",
    "                           ))"
   ]
  },
  {
   "cell_type": "code",
   "execution_count": null,
   "metadata": {},
   "outputs": [],
   "source": [
    "cin = variables(name='cin', randomize_name=4)\n",
    "t1 = enc_vec(name='v1', nb=3, randomize_name=4)\n",
    "t2 = enc_vec(name='v2', nb=3, randomize_name=4)\n",
    "sum_vec = enc_vec(name='sum', nb=4, randomize_name=4)"
   ]
  },
  {
   "cell_type": "code",
   "execution_count": null,
   "metadata": {},
   "outputs": [],
   "source": [
    "t3 =  t1 + t2\n",
    "print t3.nb, len(t3)\n",
    "t3.push(cin)"
   ]
  },
  {
   "cell_type": "code",
   "execution_count": null,
   "metadata": {},
   "outputs": [],
   "source": [
    "b3_adder = nb_adder('2b_adder', t3, sum_vec, 3)\n",
    "c_obj = circuit('2 Bit Adder', b3_adder)\n",
    "c_obj.write_file(filename='./test.sheep')"
   ]
  },
  {
   "cell_type": "code",
   "execution_count": null,
   "metadata": {},
   "outputs": [],
   "source": [
    "cin_inp = [1]\n",
    "t1_inp = [1, 1, 1]\n",
    "t2_inp = [1, 1, 1]"
   ]
  },
  {
   "cell_type": "code",
   "execution_count": 13,
   "metadata": {},
   "outputs": [
    {
     "ename": "NameError",
     "evalue": "name 't3' is not defined",
     "output_type": "error",
     "traceback": [
      "\u001b[0;31m---------------------------------------------------------------------------\u001b[0m",
      "\u001b[0;31mNameError\u001b[0m                                 Traceback (most recent call last)",
      "\u001b[0;32m<ipython-input-13-08ede21c793e>\u001b[0m in \u001b[0;36m<module>\u001b[0;34m()\u001b[0m\n\u001b[0;32m----> 1\u001b[0;31m \u001b[0minp_dict\u001b[0m \u001b[0;34m=\u001b[0m \u001b[0mt3\u001b[0m\u001b[0;34m.\u001b[0m\u001b[0mget_input_dict\u001b[0m\u001b[0;34m(\u001b[0m\u001b[0mcin_inp\u001b[0m\u001b[0;34m+\u001b[0m\u001b[0mt1_inp\u001b[0m\u001b[0;34m+\u001b[0m\u001b[0mt2_inp\u001b[0m\u001b[0;34m)\u001b[0m\u001b[0;34m\u001b[0m\u001b[0m\n\u001b[0m\u001b[1;32m      2\u001b[0m \u001b[0minputs_file\u001b[0m \u001b[0;34m=\u001b[0m \u001b[0mbenchmark_utils\u001b[0m\u001b[0;34m.\u001b[0m\u001b[0mwrite_inputs_file\u001b[0m\u001b[0;34m(\u001b[0m\u001b[0minp_dict\u001b[0m\u001b[0;34m)\u001b[0m\u001b[0;34m\u001b[0m\u001b[0m\n\u001b[1;32m      3\u001b[0m \u001b[0mresults\u001b[0m \u001b[0;34m=\u001b[0m \u001b[0mbenchmark_utils\u001b[0m\u001b[0;34m.\u001b[0m\u001b[0mrun_circuit\u001b[0m\u001b[0;34m(\u001b[0m\u001b[0;34m'./test.sheep'\u001b[0m\u001b[0;34m,\u001b[0m\u001b[0minputs_file\u001b[0m\u001b[0;34m,\u001b[0m\u001b[0;34m\"bool\"\u001b[0m\u001b[0;34m,\u001b[0m\u001b[0;34m\"TFHE\"\u001b[0m\u001b[0;34m)\u001b[0m\u001b[0;34m\u001b[0m\u001b[0m\n\u001b[1;32m      4\u001b[0m \u001b[0mout_vars\u001b[0m \u001b[0;34m=\u001b[0m \u001b[0msum_vec\u001b[0m\u001b[0;34m.\u001b[0m\u001b[0mget_variables\u001b[0m\u001b[0;34m(\u001b[0m\u001b[0;34m)\u001b[0m\u001b[0;34m\u001b[0m\u001b[0m\n\u001b[1;32m      5\u001b[0m \u001b[0;32mprint\u001b[0m \u001b[0;34m''\u001b[0m\u001b[0;34m.\u001b[0m\u001b[0mjoin\u001b[0m\u001b[0;34m(\u001b[0m\u001b[0mresults\u001b[0m\u001b[0;34m[\u001b[0m\u001b[0;34m'Outputs'\u001b[0m\u001b[0;34m]\u001b[0m\u001b[0;34m[\u001b[0m\u001b[0mvar\u001b[0m\u001b[0;34m]\u001b[0m \u001b[0;32mfor\u001b[0m \u001b[0mvar\u001b[0m \u001b[0;32min\u001b[0m \u001b[0mout_vars\u001b[0m\u001b[0;34m)\u001b[0m\u001b[0;34m\u001b[0m\u001b[0m\n",
      "\u001b[0;31mNameError\u001b[0m: name 't3' is not defined"
     ]
    }
   ],
   "source": [
    "inp_dict = t3.get_input_dict(cin_inp+t1_inp+t2_inp)\n",
    "inputs_file = benchmark_utils.write_inputs_file(inp_dict)\n",
    "results = benchmark_utils.run_circuit('./test.sheep',inputs_file,\"bool\",\"TFHE\")\n",
    "out_vars = sum_vec.get_variables()\n",
    "print ''.join(results['Outputs'][var] for var in out_vars)"
   ]
  },
  {
   "cell_type": "code",
   "execution_count": 54,
   "metadata": {},
   "outputs": [
    {
     "name": "stdout",
     "output_type": "stream",
     "text": [
      "['in0D767', 'in1CB94', 'in2C70B', 'in31F80', 'in4B960', 'in5D170', 'in6B743', 'in7A177']\n",
      "0\n",
      "['in0D767', 'in1CB94']\n",
      "1\n",
      "['in2C70B', 'in31F80']\n",
      "2\n",
      "['in4B960', 'in5D170']\n",
      "3\n",
      "['in6B743', 'in7A177']\n",
      "0\n",
      "['adder_ra_105962', 'adder_ra_1172FA', 'adder_ra_1238C4', 'adder_ra_132EF0']\n",
      "1\n",
      "['adder_ra_141B20', 'adder_ra_15F4EC', 'adder_ra_16C083', 'adder_ra_1793A9']\n",
      "0\n",
      "['adder_ra_20DC2D', 'adder_ra_2144D3', 'adder_ra_22402B', 'adder_ra_23E8A8', 'adder_ra_248C66', 'adder_ra_25E90A']\n"
     ]
    }
   ],
   "source": [
    "from scripts.functions import reduce_add\n",
    "inp = enc_vec(name='in', nb=8)\n",
    "print inp.get_variables()\n",
    "out = enc_vec(name='out', nb=4)\n",
    "ra = reduce_add('adder', inp, out)\n",
    "ra_obj = circuit('reduce_add', ra)\n",
    "ra_obj.write_file(filename='./test.sheep')"
   ]
  },
  {
   "cell_type": "code",
   "execution_count": 55,
   "metadata": {},
   "outputs": [
    {
     "name": "stdout",
     "output_type": "stream",
     "text": [
      "['in0D767', 'in1CB94', 'in2C70B', 'in31F80', 'in4B960', 'in5D170', 'in6B743', 'in7A177']\n",
      "in0D767 in1CB94 ADD 2b_adder_0_tmp13\n",
      "2b_adder_0_tmp13 ALIAS adder_ra_105962\n",
      "in0D767 in1CB94 MULTIPLY 2b_adder_0_tmp24\n",
      "2b_adder_0_tmp24 ALIAS adder_ra_1_adder_0_carry_14\n",
      "adder_ra_1_adder_0_carry_14 ALIAS adder_ra_1172FA\n",
      "in2C70B in31F80 ADD 2b_adder_0_tmp13\n",
      "2b_adder_0_tmp13 ALIAS adder_ra_1238C4\n",
      "in2C70B in31F80 MULTIPLY 2b_adder_0_tmp26\n",
      "2b_adder_0_tmp26 ALIAS adder_ra_1_adder_1_carry_1B\n",
      "adder_ra_1_adder_1_carry_1B ALIAS adder_ra_132EF0\n",
      "in4B960 in5D170 ADD 2b_adder_0_tmp18\n",
      "2b_adder_0_tmp18 ALIAS adder_ra_141B20\n",
      "in4B960 in5D170 MULTIPLY 2b_adder_0_tmp29\n",
      "2b_adder_0_tmp29 ALIAS adder_ra_1_adder_2_carry_1C\n",
      "adder_ra_1_adder_2_carry_1C ALIAS adder_ra_15F4EC\n",
      "in6B743 in7A177 ADD 2b_adder_0_tmp15\n",
      "2b_adder_0_tmp15 ALIAS adder_ra_16C083\n",
      "in6B743 in7A177 MULTIPLY 2b_adder_0_tmp22\n",
      "2b_adder_0_tmp22 ALIAS adder_ra_1_adder_3_carry_1B\n",
      "adder_ra_1_adder_3_carry_1B ALIAS adder_ra_1793A9\n",
      "adder_ra_105962 adder_ra_1238C4 ADD 2b_adder_0_tmp1D\n",
      "2b_adder_0_tmp1D ALIAS adder_ra_20DC2D\n",
      "adder_ra_105962 adder_ra_1238C4 MULTIPLY 2b_adder_0_tmp2F\n",
      "2b_adder_0_tmp2F ALIAS adder_ra_2_adder_0_carry_1D\n",
      "adder_ra_1172FA adder_ra_132EF0 ADD 2b_adder_1_tmp1B\n",
      "2b_adder_1_tmp1B adder_ra_2_adder_0_carry_1D ADD adder_ra_2144D3\n",
      "adder_ra_1172FA adder_ra_132EF0 MULTIPLY 2b_adder_1_tmp24\n",
      "adder_ra_2_adder_0_carry_1D 2b_adder_1_tmp1B MULTIPLY 2b_adder_1_tmp38\n",
      "2b_adder_1_tmp38 2b_adder_1_tmp24 MAXIMUM adder_ra_2_adder_0_carry_23\n",
      "adder_ra_2_adder_0_carry_23 ALIAS adder_ra_22402B\n",
      "adder_ra_141B20 adder_ra_16C083 ADD 2b_adder_0_tmp1C\n",
      "2b_adder_0_tmp1C ALIAS adder_ra_23E8A8\n",
      "adder_ra_141B20 adder_ra_16C083 MULTIPLY 2b_adder_0_tmp26\n",
      "2b_adder_0_tmp26 ALIAS adder_ra_2_adder_1_carry_1F\n",
      "adder_ra_15F4EC adder_ra_1793A9 ADD 2b_adder_1_tmp12\n",
      "2b_adder_1_tmp12 adder_ra_2_adder_1_carry_1F ADD adder_ra_248C66\n",
      "adder_ra_15F4EC adder_ra_1793A9 MULTIPLY 2b_adder_1_tmp22\n",
      "adder_ra_2_adder_1_carry_1F 2b_adder_1_tmp12 MULTIPLY 2b_adder_1_tmp3E\n",
      "2b_adder_1_tmp3E 2b_adder_1_tmp22 MAXIMUM adder_ra_2_adder_1_carry_28\n",
      "adder_ra_2_adder_1_carry_28 ALIAS adder_ra_25E90A\n",
      "adder_ra_20DC2D adder_ra_23E8A8 ADD 2b_adder_0_tmp18\n",
      "2b_adder_0_tmp18 ALIAS adder_ra_309583\n",
      "adder_ra_20DC2D adder_ra_23E8A8 MULTIPLY 2b_adder_0_tmp21\n",
      "2b_adder_0_tmp21 ALIAS adder_ra_3_adder_0_carry_13\n",
      "adder_ra_2144D3 adder_ra_248C66 ADD 2b_adder_1_tmp11\n",
      "2b_adder_1_tmp11 adder_ra_3_adder_0_carry_13 ADD adder_ra_31793F\n",
      "adder_ra_2144D3 adder_ra_248C66 MULTIPLY 2b_adder_1_tmp2B\n",
      "adder_ra_3_adder_0_carry_13 2b_adder_1_tmp11 MULTIPLY 2b_adder_1_tmp31\n",
      "2b_adder_1_tmp31 2b_adder_1_tmp2B MAXIMUM adder_ra_3_adder_0_carry_29\n",
      "adder_ra_22402B adder_ra_25E90A ADD 2b_adder_2_tmp1D\n",
      "2b_adder_2_tmp1D adder_ra_3_adder_0_carry_29 ADD adder_ra_32C24A\n",
      "adder_ra_22402B adder_ra_25E90A MULTIPLY 2b_adder_2_tmp20\n",
      "adder_ra_3_adder_0_carry_29 2b_adder_2_tmp1D MULTIPLY 2b_adder_2_tmp32\n",
      "2b_adder_2_tmp32 2b_adder_2_tmp20 MAXIMUM adder_ra_3_adder_0_carry_3C\n",
      "adder_ra_3_adder_0_carry_3C ALIAS adder_ra_338099\n",
      "adder_ra_309583 ALIAS out04614\n",
      "adder_ra_31793F ALIAS out10C7B\n",
      "adder_ra_32C24A ALIAS out20606\n",
      "adder_ra_338099 ALIAS out33FEF\n",
      "['out04614', 'out10C7B', 'out20606', 'out33FEF']\n"
     ]
    }
   ],
   "source": [
    "print(inp.get_variables())\n",
    "print(ra)\n",
    "print(out.get_variables())"
   ]
  },
  {
   "cell_type": "code",
   "execution_count": 56,
   "metadata": {},
   "outputs": [
    {
     "ename": "AssertionError",
     "evalue": "0000 --0b0",
     "output_type": "error",
     "traceback": [
      "\u001b[0;31m---------------------------------------------------------------------------\u001b[0m",
      "\u001b[0;31mAssertionError\u001b[0m                            Traceback (most recent call last)",
      "\u001b[0;32m<ipython-input-56-4e21f8733b03>\u001b[0m in \u001b[0;36m<module>\u001b[0;34m()\u001b[0m\n\u001b[1;32m      6\u001b[0m     \u001b[0mout_vars\u001b[0m \u001b[0;34m=\u001b[0m \u001b[0mout\u001b[0m\u001b[0;34m.\u001b[0m\u001b[0mget_variables\u001b[0m\u001b[0;34m(\u001b[0m\u001b[0;34m)\u001b[0m\u001b[0;34m\u001b[0m\u001b[0m\n\u001b[1;32m      7\u001b[0m     \u001b[0merr_str\u001b[0m \u001b[0;34m=\u001b[0m \u001b[0;34m''\u001b[0m\u001b[0;34m.\u001b[0m\u001b[0mjoin\u001b[0m\u001b[0;34m(\u001b[0m\u001b[0mresults\u001b[0m\u001b[0;34m[\u001b[0m\u001b[0;34m'Outputs'\u001b[0m\u001b[0;34m]\u001b[0m\u001b[0;34m[\u001b[0m\u001b[0mvar\u001b[0m\u001b[0;34m]\u001b[0m \u001b[0;32mfor\u001b[0m \u001b[0mvar\u001b[0m \u001b[0;32min\u001b[0m \u001b[0mout_vars\u001b[0m\u001b[0;34m)\u001b[0m\u001b[0;34m+\u001b[0m\u001b[0;34m\" --\"\u001b[0m \u001b[0;34m+\u001b[0m\u001b[0mbin\u001b[0m\u001b[0;34m(\u001b[0m\u001b[0mnp\u001b[0m\u001b[0;34m.\u001b[0m\u001b[0msum\u001b[0m\u001b[0;34m(\u001b[0m\u001b[0minp_arr_val\u001b[0m\u001b[0;34m)\u001b[0m\u001b[0;34m)\u001b[0m\u001b[0;34m[\u001b[0m\u001b[0;34m:\u001b[0m\u001b[0;34m:\u001b[0m\u001b[0;34m-\u001b[0m\u001b[0;36m1\u001b[0m\u001b[0;34m]\u001b[0m\u001b[0;34m\u001b[0m\u001b[0m\n\u001b[0;32m----> 8\u001b[0;31m     \u001b[0;32massert\u001b[0m \u001b[0;34m''\u001b[0m\u001b[0;34m.\u001b[0m\u001b[0mjoin\u001b[0m\u001b[0;34m(\u001b[0m\u001b[0mresults\u001b[0m\u001b[0;34m[\u001b[0m\u001b[0;34m'Outputs'\u001b[0m\u001b[0;34m]\u001b[0m\u001b[0;34m[\u001b[0m\u001b[0mvar\u001b[0m\u001b[0;34m]\u001b[0m \u001b[0;32mfor\u001b[0m \u001b[0mvar\u001b[0m \u001b[0;32min\u001b[0m \u001b[0mout_vars\u001b[0m\u001b[0;34m)\u001b[0m \u001b[0;34m==\u001b[0m \u001b[0mbin\u001b[0m\u001b[0;34m(\u001b[0m\u001b[0mnp\u001b[0m\u001b[0;34m.\u001b[0m\u001b[0msum\u001b[0m\u001b[0;34m(\u001b[0m\u001b[0minp_arr_val\u001b[0m\u001b[0;34m)\u001b[0m\u001b[0;34m)\u001b[0m\u001b[0;34m[\u001b[0m\u001b[0;34m:\u001b[0m\u001b[0;34m:\u001b[0m\u001b[0;34m-\u001b[0m\u001b[0;36m1\u001b[0m\u001b[0;34m]\u001b[0m\u001b[0;34m,\u001b[0m \u001b[0merr_str\u001b[0m\u001b[0;34m\u001b[0m\u001b[0m\n\u001b[0m",
      "\u001b[0;31mAssertionError\u001b[0m: 0000 --0b0"
     ]
    }
   ],
   "source": [
    "inp_arr_val = [0, 0,0, 0, 0, 0,0, 0]\n",
    "for idx in range(0, 1):\n",
    "    inp_dict = inp.get_input_dict(inp_arr_val)\n",
    "    inputs_file = benchmark_utils.write_inputs_file(inp_dict)\n",
    "    results = benchmark_utils.run_circuit('./test.sheep',inputs_file,\"bool\",\"TFHE\")\n",
    "    out_vars = out.get_variables()\n",
    "    err_str = ''.join(results['Outputs'][var] for var in out_vars)+\" --\" +bin(np.sum(inp_arr_val))[::-1]\n",
    "    assert ''.join(results['Outputs'][var] for var in out_vars) == bin(np.sum(inp_arr_val))[::-1], err_str"
   ]
  },
  {
   "cell_type": "code",
   "execution_count": null,
   "metadata": {},
   "outputs": [],
   "source": []
  }
 ],
 "metadata": {
  "kernelspec": {
   "display_name": "Python 2",
   "language": "python",
   "name": "python2"
  },
  "language_info": {
   "codemirror_mode": {
    "name": "ipython",
    "version": 2
   },
   "file_extension": ".py",
   "mimetype": "text/x-python",
   "name": "python",
   "nbconvert_exporter": "python",
   "pygments_lexer": "ipython2",
   "version": "2.7.14"
  }
 },
 "nbformat": 4,
 "nbformat_minor": 2
}
