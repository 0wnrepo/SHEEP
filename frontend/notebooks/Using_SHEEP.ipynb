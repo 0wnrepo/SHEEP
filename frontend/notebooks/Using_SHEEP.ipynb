{
 "cells": [
  {
   "cell_type": "markdown",
   "metadata": {},
   "source": [
    "### Interacting with the SHEEP server\n",
    "\n",
    "Assuming the sheep server is running, and the ```sheep_client.py``` module has the correct BASE_URL, we can configure and run SHEEP jobs using the commands in this notebook.\n",
    "\n",
    "First lets just set up a directory path (we only need this so we can find the circuit file later on):"
   ]
  },
  {
   "cell_type": "code",
   "execution_count": 1,
   "metadata": {},
   "outputs": [],
   "source": [
    "import os\n",
    "if \"SHEEP_HOME\" in os.environ.keys():\n",
    "  SHEEP_HOME = os.environ[\"SHEEP_HOME\"]\n",
    "else:\n",
    "  SHEEP_HOME = os.path.join(os.environ[\"HOME\"],\"SHEEP\",\"frontend\")\n",
    "import sys\n",
    "sys.path.append(SHEEP_HOME)"
   ]
  },
  {
   "cell_type": "code",
   "execution_count": 2,
   "metadata": {},
   "outputs": [
    {
     "name": "stdout",
     "output_type": "stream",
     "text": [
      "DB LOCATION IS /Users/nbarlow/SHEEP/frontend/pysheep/sheep.db\n"
     ]
    }
   ],
   "source": [
    "from pysheep import sheep_client\n",
    "         "
   ]
  },
  {
   "cell_type": "code",
   "execution_count": 3,
   "metadata": {},
   "outputs": [
    {
     "data": {
      "text/plain": [
       "{'content': '', 'status_code': 200}"
      ]
     },
     "execution_count": 3,
     "metadata": {},
     "output_type": "execute_result"
    }
   ],
   "source": [
    "sheep_client.new_job()"
   ]
  },
  {
   "cell_type": "markdown",
   "metadata": {},
   "source": [
    "List the available contexts:"
   ]
  },
  {
   "cell_type": "code",
   "execution_count": 4,
   "metadata": {},
   "outputs": [
    {
     "data": {
      "text/plain": [
       "{'content': ['Clear', 'HElib_F2', 'HElib_Fp'], 'status_code': 200}"
      ]
     },
     "execution_count": 4,
     "metadata": {},
     "output_type": "execute_result"
    }
   ],
   "source": [
    "sheep_client.get_available_contexts()"
   ]
  },
  {
   "cell_type": "markdown",
   "metadata": {},
   "source": [
    "Lets do a test with HElib_F2:"
   ]
  },
  {
   "cell_type": "code",
   "execution_count": 5,
   "metadata": {},
   "outputs": [
    {
     "data": {
      "text/plain": [
       "{'content': '', 'status_code': 200}"
      ]
     },
     "execution_count": 5,
     "metadata": {},
     "output_type": "execute_result"
    }
   ],
   "source": [
    "sheep_client.set_context(\"HElib_F2\")"
   ]
  },
  {
   "cell_type": "markdown",
   "metadata": {},
   "source": [
    "List the available input types:"
   ]
  },
  {
   "cell_type": "code",
   "execution_count": 6,
   "metadata": {},
   "outputs": [
    {
     "data": {
      "text/plain": [
       "{'content': ['bool',\n",
       "  'uint8_t',\n",
       "  'uint16_t',\n",
       "  'uint32_t',\n",
       "  'int8_t',\n",
       "  'int16_t',\n",
       "  'int32_t'],\n",
       " 'status_code': 200}"
      ]
     },
     "execution_count": 6,
     "metadata": {},
     "output_type": "execute_result"
    }
   ],
   "source": [
    "sheep_client.get_available_input_types()"
   ]
  },
  {
   "cell_type": "markdown",
   "metadata": {},
   "source": [
    "Let's use uint16_t:"
   ]
  },
  {
   "cell_type": "code",
   "execution_count": 7,
   "metadata": {},
   "outputs": [
    {
     "data": {
      "text/plain": [
       "{'content': '', 'status_code': 200}"
      ]
     },
     "execution_count": 7,
     "metadata": {},
     "output_type": "execute_result"
    }
   ],
   "source": [
    "sheep_client.set_input_type(\"uint16_t\")"
   ]
  },
  {
   "cell_type": "markdown",
   "metadata": {},
   "source": [
    "Now let's give it a circuit.  There are plenty of simple circuits in the ```benchmark_inputs/``` directory.  We need to provide the full path to the circuit though so we'll use the SHEEP_HOME we defined at the start."
   ]
  },
  {
   "cell_type": "code",
   "execution_count": 8,
   "metadata": {},
   "outputs": [],
   "source": [
    "r=sheep_client.set_circuit(os.path.join(SHEEP_HOME,\"benchmark_inputs/low_level/circuits/circuit-ADD-1.sheep\"))"
   ]
  },
  {
   "cell_type": "markdown",
   "metadata": {},
   "source": [
    "We can see the names of the \"inputs\" that this circuit expects:"
   ]
  },
  {
   "cell_type": "code",
   "execution_count": 9,
   "metadata": {},
   "outputs": [
    {
     "data": {
      "text/plain": [
       "{'content': ['input_0', 'input_1'], 'status_code': 200}"
      ]
     },
     "execution_count": 9,
     "metadata": {},
     "output_type": "execute_result"
    }
   ],
   "source": [
    "sheep_client.get_inputs()"
   ]
  },
  {
   "cell_type": "markdown",
   "metadata": {},
   "source": [
    "Now we can set values for those inputs.  The circuit we've chosen just adds the two inputs together, so lets do 55+44 (and hope we get the answer 99 at the end!)  Note that we have to write the inputs as lists, as potentially we can do more than one calculation at the same time (known as SIMD))."
   ]
  },
  {
   "cell_type": "code",
   "execution_count": 10,
   "metadata": {},
   "outputs": [
    {
     "data": {
      "text/plain": [
       "{'content': '', 'status_code': 200}"
      ]
     },
     "execution_count": 10,
     "metadata": {},
     "output_type": "execute_result"
    }
   ],
   "source": [
    "sheep_client.set_inputs({\"input_0\":[55],\"input_1\":[44]})"
   ]
  },
  {
   "cell_type": "markdown",
   "metadata": {},
   "source": [
    "We have set the context, the input_type, the circuit_file and the input values - we should be ready to go!  Let's print out the configuration, and then check that we are fully configured."
   ]
  },
  {
   "cell_type": "code",
   "execution_count": 11,
   "metadata": {},
   "outputs": [
    {
     "data": {
      "text/plain": [
       "{'content': {'circuit_filename': '',\n",
       "  'context': 'HElib_F2',\n",
       "  'eval_strategy': 'serial',\n",
       "  'input_type': 'uint16_t',\n",
       "  'nslots': 4,\n",
       "  'parameters': {'BaseParamSet': 0,\n",
       "   'BitsPerLevel': 25,\n",
       "   'Bootstrap': 1,\n",
       "   'HammingWeight': 128,\n",
       "   'Levels': 30,\n",
       "   'c': 2,\n",
       "   'd': 12,\n",
       "   'g1': 71,\n",
       "   'g2': 76,\n",
       "   'g3': 0,\n",
       "   'm': 105,\n",
       "   'm1': 3,\n",
       "   'm2': 35,\n",
       "   'm3': 0,\n",
       "   'ord1': 2,\n",
       "   'ord2': 2,\n",
       "   'ord3': 0,\n",
       "   'phim': 48}},\n",
       " 'status_code': 200}"
      ]
     },
     "execution_count": 11,
     "metadata": {},
     "output_type": "execute_result"
    }
   ],
   "source": [
    "sheep_client.get_config()"
   ]
  },
  {
   "cell_type": "code",
   "execution_count": 12,
   "metadata": {},
   "outputs": [
    {
     "data": {
      "text/plain": [
       "{'content': {'job_configured': True}, 'status_code': 200}"
      ]
     },
     "execution_count": 12,
     "metadata": {},
     "output_type": "execute_result"
    }
   ],
   "source": [
    "sheep_client.is_configured()"
   ]
  },
  {
   "cell_type": "markdown",
   "metadata": {},
   "source": [
    "OK, let's execute the test!"
   ]
  },
  {
   "cell_type": "code",
   "execution_count": 13,
   "metadata": {},
   "outputs": [
    {
     "data": {
      "text/plain": [
       "{'content': '', 'status_code': 200}"
      ]
     },
     "execution_count": 13,
     "metadata": {},
     "output_type": "execute_result"
    }
   ],
   "source": [
    "sheep_client.run_job()"
   ]
  },
  {
   "cell_type": "markdown",
   "metadata": {},
   "source": [
    "The SHEEP server just used our selected \"context\" (i.e. HE library) to encrypt our inputs, evaluate our circuit, and decrypt the outputs.  It also then evaluated the same circuit \"in the clear\" (i.e. with no encryption) so that we can check we got the right answer.   The result, including the output values, the processing times, and the clear-text check, are available as a json object."
   ]
  },
  {
   "cell_type": "code",
   "execution_count": 14,
   "metadata": {},
   "outputs": [
    {
     "name": "stdout",
     "output_type": "stream",
     "text": [
      "{'content': {'cleartext check': {'is_correct': True},\n",
      "             'outputs': {'output_0': ['99']},\n",
      "             'timings': {'decryption': '5124.501000',\n",
      "                         'encryption': '12725.681000',\n",
      "                         'evaluation': '1316832.731000'}},\n",
      " 'status_code': 200}\n"
     ]
    }
   ],
   "source": [
    "r=sheep_client.get_results()\n",
    "from pprint import pprint\n",
    "pprint(r)"
   ]
  },
  {
   "cell_type": "markdown",
   "metadata": {},
   "source": [
    "So we can see that \n",
    " * we got the answer \"99\" (which is 55+44, the sum of our two inputs) \n",
    " * all the output values we got (just one in this case) matched the result from the \"cleartext\" context.\n",
    " * from the timings (which are in microseconds), the encryption and decryption were fast, but evaluating the circuit took some time."
   ]
  }
 ],
 "metadata": {
  "kernelspec": {
   "display_name": "Python 3",
   "language": "python",
   "name": "python3"
  },
  "language_info": {
   "codemirror_mode": {
    "name": "ipython",
    "version": 3
   },
   "file_extension": ".py",
   "mimetype": "text/x-python",
   "name": "python",
   "nbconvert_exporter": "python",
   "pygments_lexer": "ipython3",
   "version": "3.6.3"
  }
 },
 "nbformat": 4,
 "nbformat_minor": 2
}
