{
 "cells": [
  {
   "cell_type": "markdown",
   "metadata": {},
   "source": [
    "In this demo, we will experiment with different sets of parameters, and how this affects the number of slots available for SIMD operations, and the serialized size of encrypted inputs."
   ]
  },
  {
   "cell_type": "code",
   "execution_count": 1,
   "metadata": {},
   "outputs": [],
   "source": [
    "import os\n",
    "if \"SHEEP_HOME\" in os.environ.keys():\n",
    "  SHEEP_HOME = os.environ[\"SHEEP_HOME\"]\n",
    "else:\n",
    "  print(\"Please set environment variable SHEEP_HOME to point to the location of SHEEP/frontend\")\n",
    "import sys\n",
    "sys.path.append(SHEEP_HOME)"
   ]
  },
  {
   "cell_type": "code",
   "execution_count": 2,
   "metadata": {},
   "outputs": [],
   "source": [
    "from pysheep import sheep_client\n",
    "from pysheep.database import upload_ciphertext_result"
   ]
  },
  {
   "cell_type": "code",
   "execution_count": 3,
   "metadata": {},
   "outputs": [],
   "source": [
    "import matplotlib.pyplot as plt\n",
    "import pandas as pd"
   ]
  },
  {
   "cell_type": "code",
   "execution_count": 4,
   "metadata": {},
   "outputs": [
    {
     "data": {
      "text/plain": [
       "{'content': '', 'status_code': 200}"
      ]
     },
     "execution_count": 4,
     "metadata": {},
     "output_type": "execute_result"
    }
   ],
   "source": [
    "sheep_client.new_job()"
   ]
  },
  {
   "cell_type": "markdown",
   "metadata": {},
   "source": [
    "Lets use HElib_F2 and vary the BaseParamSet parameter (which in turn chooses pre-set values for other parameters):"
   ]
  },
  {
   "cell_type": "code",
   "execution_count": 5,
   "metadata": {},
   "outputs": [
    {
     "data": {
      "text/plain": [
       "{'content': {'BaseParamSet': 0,\n",
       "  'BitsPerLevel': 25,\n",
       "  'Bootstrap': 1,\n",
       "  'HammingWeight': 128,\n",
       "  'Levels': 30,\n",
       "  'c': 2,\n",
       "  'd': 12,\n",
       "  'g1': 71,\n",
       "  'g2': 76,\n",
       "  'g3': 0,\n",
       "  'm': 105,\n",
       "  'm1': 3,\n",
       "  'm2': 35,\n",
       "  'm3': 0,\n",
       "  'ord1': 2,\n",
       "  'ord2': 2,\n",
       "  'ord3': 0,\n",
       "  'phim': 48},\n",
       " 'status_code': 200}"
      ]
     },
     "execution_count": 5,
     "metadata": {},
     "output_type": "execute_result"
    }
   ],
   "source": [
    "sheep_client.set_context(\"HElib_F2\")\n",
    "sheep_client.set_input_type(\"int8_t\")\n",
    "sheep_client.get_parameters()"
   ]
  },
  {
   "cell_type": "markdown",
   "metadata": {},
   "source": [
    "With BaseParamSet=0, how many slots for SIMD operations do we get?"
   ]
  },
  {
   "cell_type": "code",
   "execution_count": 6,
   "metadata": {},
   "outputs": [
    {
     "data": {
      "text/plain": [
       "4"
      ]
     },
     "execution_count": 6,
     "metadata": {},
     "output_type": "execute_result"
    }
   ],
   "source": [
    "num_slots = sheep_client.get_nslots()['content']['nslots']\n",
    "num_slots"
   ]
  },
  {
   "cell_type": "markdown",
   "metadata": {},
   "source": [
    "And how big is the ciphertext if we encrypt one input (which is a vector of 4 values since we have 4 slots)?"
   ]
  },
  {
   "cell_type": "code",
   "execution_count": 7,
   "metadata": {},
   "outputs": [
    {
     "data": {
      "text/plain": [
       "179177"
      ]
     },
     "execution_count": 7,
     "metadata": {},
     "output_type": "execute_result"
    }
   ],
   "source": [
    "size=sheep_client.encrypt_and_serialize([1,2,3,4])[\"content\"][\"size\"]\n",
    "size"
   ]
  },
  {
   "cell_type": "markdown",
   "metadata": {},
   "source": [
    "We can do a scan for HElib, seeing how things vary with the \"BaseParamSet\" parameter, which in turn chooses a set of preconfigured values for the other parameters."
   ]
  },
  {
   "cell_type": "code",
   "execution_count": 8,
   "metadata": {},
   "outputs": [],
   "source": [
    "for i in range(5):\n",
    "    try:\n",
    "        sheep_client.set_parameters({\"BaseParamSet\": i})\n",
    "        param_dict = sheep_client.get_parameters()[\"content\"]\n",
    "        num_slots = sheep_client.get_nslots()['content']['nslots']\n",
    "        ciphertext_size = sheep_client.encrypt_and_serialize([1,2,3,4])['content']['size']\n",
    "        upload_ciphertext_result(\"HElib_F2\",\"int8_t\",num_slots, ciphertext_size, param_dict)\n",
    "    except:\n",
    "        print(\"Problem setting BaseParamSet to {}\".format(i))\n",
    "        pass"
   ]
  },
  {
   "cell_type": "markdown",
   "metadata": {},
   "source": [
    "## Querying the database and plotting results\n",
    "\n",
    "The previous cell should have uploaded some results to the \"ciphertext\" table in our SQLite database.  We can query this using some SQLAlchemy shortcuts, and put the results into a dataframe"
   ]
  },
  {
   "cell_type": "code",
   "execution_count": 9,
   "metadata": {},
   "outputs": [],
   "source": [
    "from pysheep.database import session, CiphertextMeasurement\n",
    "rows = session.query(CiphertextMeasurement).all()"
   ]
  },
  {
   "cell_type": "code",
   "execution_count": 10,
   "metadata": {},
   "outputs": [
    {
     "data": {
      "text/html": [
       "<div>\n",
       "<style scoped>\n",
       "    .dataframe tbody tr th:only-of-type {\n",
       "        vertical-align: middle;\n",
       "    }\n",
       "\n",
       "    .dataframe tbody tr th {\n",
       "        vertical-align: top;\n",
       "    }\n",
       "\n",
       "    .dataframe thead th {\n",
       "        text-align: right;\n",
       "    }\n",
       "</style>\n",
       "<table border=\"1\" class=\"dataframe\">\n",
       "  <thead>\n",
       "    <tr style=\"text-align: right;\">\n",
       "      <th></th>\n",
       "      <th>BaseParamSet</th>\n",
       "      <th>context</th>\n",
       "      <th>ctsize</th>\n",
       "      <th>input_bitwidth</th>\n",
       "      <th>nslots</th>\n",
       "    </tr>\n",
       "  </thead>\n",
       "  <tbody>\n",
       "    <tr>\n",
       "      <th>0</th>\n",
       "      <td>0</td>\n",
       "      <td>HElib_F2</td>\n",
       "      <td>179111</td>\n",
       "      <td>8</td>\n",
       "      <td>4</td>\n",
       "    </tr>\n",
       "    <tr>\n",
       "      <th>1</th>\n",
       "      <td>1</td>\n",
       "      <td>HElib_F2</td>\n",
       "      <td>2210406</td>\n",
       "      <td>8</td>\n",
       "      <td>60</td>\n",
       "    </tr>\n",
       "    <tr>\n",
       "      <th>2</th>\n",
       "      <td>2</td>\n",
       "      <td>HElib_F2</td>\n",
       "      <td>8389112</td>\n",
       "      <td>8</td>\n",
       "      <td>96</td>\n",
       "    </tr>\n",
       "    <tr>\n",
       "      <th>3</th>\n",
       "      <td>3</td>\n",
       "      <td>HElib_F2</td>\n",
       "      <td>54561692</td>\n",
       "      <td>8</td>\n",
       "      <td>682</td>\n",
       "    </tr>\n",
       "  </tbody>\n",
       "</table>\n",
       "</div>"
      ],
      "text/plain": [
       "   BaseParamSet   context    ctsize  input_bitwidth  nslots\n",
       "0             0  HElib_F2    179111               8       4\n",
       "1             1  HElib_F2   2210406               8      60\n",
       "2             2  HElib_F2   8389112               8      96\n",
       "3             3  HElib_F2  54561692               8     682"
      ]
     },
     "execution_count": 10,
     "metadata": {},
     "output_type": "execute_result"
    }
   ],
   "source": [
    "df_dict = {\"context\": [], \"input_bitwidth\": [], \"BaseParamSet\": [], \"nslots\": [], \"ctsize\": []}\n",
    "for row in rows:\n",
    "    for param in row.parameters:\n",
    "        if param.param_name == \"BaseParamSet\" and param.param_value not in df_dict[\"BaseParamSet\"]:\n",
    "            df_dict[\"context\"].append(row.context)\n",
    "            df_dict[\"input_bitwidth\"].append(row.input_bitwidth)\n",
    "            df_dict[\"nslots\"].append(row.num_slots)\n",
    "            df_dict[\"ctsize\"].append(row.ciphertext_size)\n",
    "            df_dict[\"BaseParamSet\"].append(param.param_value)\n",
    "df = pd.DataFrame(df_dict)\n",
    "df"
   ]
  },
  {
   "cell_type": "code",
   "execution_count": 11,
   "metadata": {},
   "outputs": [
    {
     "data": {
      "image/png": "[encoded data removed]",
      "text/plain": [
       "<Figure size 1080x360 with 2 Axes>"
      ]
     },
     "metadata": {},
     "output_type": "display_data"
    }
   ],
   "source": [
    "axis = plt.subplot(121)\n",
    "df.plot(ax=axis, use_index=False,x='BaseParamSet', y='nslots',kind='bar',figsize=(15, 5))\n",
    "axis = plt.subplot(122)\n",
    "df.plot(ax=axis, use_index=False,x='BaseParamSet', y='ctsize',kind='bar',figsize=(15, 5))\n",
    "plt.tight_layout()\n",
    "plt.subplots_adjust(top=0.92, bottom=0.08, left=0.10, right=0.95, hspace=0.25,\n",
    "                    wspace=0.35)\n",
    "plt.show()"
   ]
  },
  {
   "cell_type": "markdown",
   "metadata": {},
   "source": [
    "## Other contexts\n",
    "\n",
    "TFHE and libpaillier by default only offer one slot.   Lets compare their serialized ciphertext sizes:"
   ]
  },
  {
   "cell_type": "code",
   "execution_count": 12,
   "metadata": {},
   "outputs": [],
   "source": [
    "for context in [\"TFHE\",\"LP\"]:\n",
    "    for input_type in [\"bool\",\"int8_t\",\"int16_t\",\"int32_t\"]:\n",
    "        sheep_client.set_context(context)\n",
    "        sheep_client.set_input_type(input_type)\n",
    "        param_dict = sheep_client.get_parameters()[\"content\"]\n",
    "        num_slots = sheep_client.get_nslots()[\"content\"][\"nslots\"]\n",
    "        ciphertext_size = sheep_client.encrypt_and_serialize([1])['content']['size']\n",
    "        upload_ciphertext_result(context,input_type,num_slots, ciphertext_size, param_dict)\n",
    "    "
   ]
  },
  {
   "cell_type": "code",
   "execution_count": 13,
   "metadata": {},
   "outputs": [
    {
     "data": {
      "text/html": [
       "<div>\n",
       "<style scoped>\n",
       "    .dataframe tbody tr th:only-of-type {\n",
       "        vertical-align: middle;\n",
       "    }\n",
       "\n",
       "    .dataframe tbody tr th {\n",
       "        vertical-align: top;\n",
       "    }\n",
       "\n",
       "    .dataframe thead th {\n",
       "        text-align: right;\n",
       "    }\n",
       "</style>\n",
       "<table border=\"1\" class=\"dataframe\">\n",
       "  <thead>\n",
       "    <tr style=\"text-align: right;\">\n",
       "      <th></th>\n",
       "      <th>context</th>\n",
       "      <th>ctsize</th>\n",
       "      <th>input_bitwidth</th>\n",
       "    </tr>\n",
       "  </thead>\n",
       "  <tbody>\n",
       "    <tr>\n",
       "      <th>0</th>\n",
       "      <td>TFHE</td>\n",
       "      <td>2016</td>\n",
       "      <td>1</td>\n",
       "    </tr>\n",
       "    <tr>\n",
       "      <th>1</th>\n",
       "      <td>TFHE</td>\n",
       "      <td>16128</td>\n",
       "      <td>8</td>\n",
       "    </tr>\n",
       "    <tr>\n",
       "      <th>2</th>\n",
       "      <td>TFHE</td>\n",
       "      <td>32256</td>\n",
       "      <td>16</td>\n",
       "    </tr>\n",
       "    <tr>\n",
       "      <th>3</th>\n",
       "      <td>TFHE</td>\n",
       "      <td>64512</td>\n",
       "      <td>32</td>\n",
       "    </tr>\n",
       "    <tr>\n",
       "      <th>4</th>\n",
       "      <td>LP</td>\n",
       "      <td>64</td>\n",
       "      <td>1</td>\n",
       "    </tr>\n",
       "    <tr>\n",
       "      <th>5</th>\n",
       "      <td>LP</td>\n",
       "      <td>64</td>\n",
       "      <td>8</td>\n",
       "    </tr>\n",
       "    <tr>\n",
       "      <th>6</th>\n",
       "      <td>LP</td>\n",
       "      <td>64</td>\n",
       "      <td>16</td>\n",
       "    </tr>\n",
       "    <tr>\n",
       "      <th>7</th>\n",
       "      <td>LP</td>\n",
       "      <td>64</td>\n",
       "      <td>32</td>\n",
       "    </tr>\n",
       "  </tbody>\n",
       "</table>\n",
       "</div>"
      ],
      "text/plain": [
       "  context  ctsize  input_bitwidth\n",
       "0    TFHE    2016               1\n",
       "1    TFHE   16128               8\n",
       "2    TFHE   32256              16\n",
       "3    TFHE   64512              32\n",
       "4      LP      64               1\n",
       "5      LP      64               8\n",
       "6      LP      64              16\n",
       "7      LP      64              32"
      ]
     },
     "execution_count": 13,
     "metadata": {},
     "output_type": "execute_result"
    }
   ],
   "source": [
    "from sqlalchemy import or_\n",
    "rows = session.query(CiphertextMeasurement).filter(or_(CiphertextMeasurement.context == 'TFHE', \n",
    "                                                       CiphertextMeasurement.context == 'LP')).all()\n",
    "df_dict = {\"context\": [], \"input_bitwidth\": [], \"ctsize\": []}\n",
    "for row in rows:\n",
    "        df_dict[\"context\"].append(row.context)\n",
    "        df_dict[\"input_bitwidth\"].append(row.input_bitwidth)\n",
    "        df_dict[\"ctsize\"].append(row.ciphertext_size)\n",
    "df = pd.DataFrame(df_dict)\n",
    "df"
   ]
  },
  {
   "cell_type": "markdown",
   "metadata": {},
   "source": [
    "We can see that libpaillier has a very small ciphertext size, which is expected as Paillier is quite a simple encryption scheme.  Also, for libpaillier, the size is always the same, while for TFHE it grows linearly with bitwidth.  This is also expected as TFHE operates on the binary plaintext domain, and treats an integer as an array of bits."
   ]
  }
 ],
 "metadata": {
  "kernelspec": {
   "display_name": "Python 3",
   "language": "python",
   "name": "python3"
  },
  "language_info": {
   "codemirror_mode": {
    "name": "ipython",
    "version": 3
   },
   "file_extension": ".py",
   "mimetype": "text/x-python",
   "name": "python",
   "nbconvert_exporter": "python",
   "pygments_lexer": "ipython3",
   "version": "3.5.2"
  }
 },
 "nbformat": 4,
 "nbformat_minor": 2
}
