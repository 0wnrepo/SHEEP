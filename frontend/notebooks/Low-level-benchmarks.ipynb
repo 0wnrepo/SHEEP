{
 "cells": [
  {
   "cell_type": "markdown",
   "metadata": {},
   "source": [
    "## Low-level benchmarks"
   ]
  },
  {
   "cell_type": "markdown",
   "metadata": {},
   "source": [
    "The \"low-level\" benchmarks correspond to circuits composed of only one type of gate, with various \"depths\" (i.e. numbers of nested gates).   \n",
    "For example, ```circuit-ADD-3.sheep``` contains three nested \"ADD\" gates: ```output=((a+b)+c)+d```.\n",
    "\n",
    "This notebook consists of several \"scans\" of parameter space.  For each scan, some functions in ```benchmark_utils``` will be run to configure and run the HE libraries (this may take some time) and then there will be some analysis of the results. \n",
    "\n",
    "The code in this notebook should be run from the base SHEEP directory.\n",
    "Dependencies are:\n",
    "* pandas\n",
    "* numpy\n",
    "* matplotlib\n",
    "* sqlalchemy"
   ]
  },
  {
   "cell_type": "code",
   "execution_count": 1,
   "metadata": {},
   "outputs": [],
   "source": [
    "import os\n",
    "import sys\n",
    "sys.path.append(os.environ[\"SHEEP_HOME\"])\n",
    "import re\n",
    "\n",
    "import pandas as pd\n",
    "import numpy as np\n",
    "from matplotlib import pyplot as plt\n",
    "\n",
    "from pysheep.low_level_benchmarks import params_for_level, run_circuit"
   ]
  },
  {
   "cell_type": "markdown",
   "metadata": {},
   "source": [
    "## Scan 1 \n",
    "Look at the \"levelled\" HE libraries (HElib_Fp and SEAL), where we can set parameters that should guarantee correct results on a certain \"depth\" (i.e. number of MULTIPLY operations) without the need for bootstrapping.  Loop over all gates and all input types, setting parameters appropriate for each level."
   ]
  },
  {
   "cell_type": "code",
   "execution_count": 2,
   "metadata": {},
   "outputs": [
    {
     "name": "stdout",
     "output_type": "stream",
     "text": [
      "Doing benchmark for HElib_Fp ADD uint8_t 1\n",
      "Doing benchmark for SEAL ADD uint8_t 1\n",
      "Doing benchmark for HElib_Fp ADD uint8_t 4\n",
      "Doing benchmark for SEAL ADD uint8_t 4\n",
      "Doing benchmark for HElib_Fp ADD uint8_t 8\n",
      "Doing benchmark for SEAL ADD uint8_t 8\n",
      "Doing benchmark for HElib_Fp SUBTRACT uint8_t 1\n",
      "Doing benchmark for SEAL SUBTRACT uint8_t 1\n",
      "Doing benchmark for HElib_Fp SUBTRACT uint8_t 4\n",
      "Doing benchmark for SEAL SUBTRACT uint8_t 4\n",
      "Doing benchmark for HElib_Fp SUBTRACT uint8_t 8\n",
      "Doing benchmark for SEAL SUBTRACT uint8_t 8\n",
      "Doing benchmark for HElib_Fp MULTIPLY uint8_t 1\n",
      "Doing benchmark for SEAL MULTIPLY uint8_t 1\n",
      "Doing benchmark for HElib_Fp MULTIPLY uint8_t 4\n",
      "Doing benchmark for SEAL MULTIPLY uint8_t 4\n",
      "Doing benchmark for HElib_Fp MULTIPLY uint8_t 8\n",
      "Doing benchmark for SEAL MULTIPLY uint8_t 8\n",
      "Doing benchmark for HElib_Fp SELECT uint8_t 1\n",
      "Doing benchmark for SEAL SELECT uint8_t 1\n",
      "Doing benchmark for HElib_Fp SELECT uint8_t 4\n",
      "Doing benchmark for SEAL SELECT uint8_t 4\n",
      "Doing benchmark for HElib_Fp SELECT uint8_t 8\n",
      "Doing benchmark for SEAL SELECT uint8_t 8\n",
      "Doing benchmark for HElib_Fp NEGATE uint8_t 1\n",
      "Doing benchmark for SEAL NEGATE uint8_t 1\n",
      "Doing benchmark for HElib_Fp NEGATE uint8_t 4\n",
      "Doing benchmark for SEAL NEGATE uint8_t 4\n",
      "Doing benchmark for HElib_Fp NEGATE uint8_t 8\n",
      "Doing benchmark for SEAL NEGATE uint8_t 8\n",
      "Finished OK\n"
     ]
    }
   ],
   "source": [
    "CIRCUIT_FILE_DIR = os.path.join(os.environ[\"SHEEP_HOME\"],\"benchmark_inputs\",\"low_level\",\"circuits\")\n",
    "## give a unique scan_id so that we can retrieve the results later on\n",
    "import uuid\n",
    "scan_id = str(uuid.uuid4())\n",
    "## look at unsigned 8-bit integers\n",
    "input_type = \"uint8_t\"\n",
    "## start looping over gates, depths, and contexts\n",
    "for gate in [\"ADD\",\"SUBTRACT\",\"MULTIPLY\",\"SELECT\",\"NEGATE\"]:\n",
    "    for d in [1,4,8]:\n",
    "        for context in [\"HElib_Fp\",\"SEAL\"]:\n",
    "            params = params_for_level(context,d)\n",
    "            circuit_file = CIRCUIT_FILE_DIR+\"/circuit-\"+gate+\"-\"+str(d)+\".sheep\"\n",
    "            print(\"Doing benchmark for %s %s %s %i\" %\n",
    "                            (context,gate,input_type,d))\n",
    "            uploaded_OK = run_circuit(circuit_file,\n",
    "                                                input_type,\n",
    "                                                context,\n",
    "                                                params,\n",
    "                                                \"serial\",\n",
    "                                                scan_id)\n",
    "            if not uploaded_OK:\n",
    "                print(\"Problem running test or uploading result\")\n",
    "if uploaded_OK:\n",
    "    print(\"Finished OK\")"
   ]
  },
  {
   "cell_type": "markdown",
   "metadata": {},
   "source": [
    "### Tabulating and plotting the results"
   ]
  },
  {
   "cell_type": "markdown",
   "metadata": {},
   "source": [
    "Import some SQLAlchemy utilities from the SHEEP frontend code."
   ]
  },
  {
   "cell_type": "code",
   "execution_count": 3,
   "metadata": {},
   "outputs": [],
   "source": [
    "from pysheep.database import BenchmarkMeasurement, session\n",
    "from pysheep.benchmark_utils import levels_for_params\n",
    "from pysheep.low_level_benchmarks import get_gate_name_from_circuit_name"
   ]
  },
  {
   "cell_type": "code",
   "execution_count": 4,
   "metadata": {},
   "outputs": [],
   "source": [
    "rows_scan1 = session.query(BenchmarkMeasurement).filter_by(scan_id=scan_id).all()"
   ]
  },
  {
   "cell_type": "markdown",
   "metadata": {},
   "source": [
    "The parameters and timings should now be stored in an sqlite file.\n",
    "We will query this using SQLAlchemy, put the results into a Pandas DataFrame, and then make some plots.\n",
    "First, define a dictionary with keys being the columns we want:"
   ]
  },
  {
   "cell_type": "code",
   "execution_count": 5,
   "metadata": {},
   "outputs": [],
   "source": [
    "dict_scan1 = {\"context\":[],\"gate\":[],\"input_bitwidth\":[],\"input_signed\":[],\"is_correct\":[],\"depth\":[], \"execution_time\":[]}"
   ]
  },
  {
   "cell_type": "markdown",
   "metadata": {},
   "source": [
    "Now define a couple of functions to query the database and fill the table"
   ]
  },
  {
   "cell_type": "code",
   "execution_count": 6,
   "metadata": {},
   "outputs": [],
   "source": [
    "def get_levels_for_row(benchmark_measurement):\n",
    "    context = benchmark_measurement.context\n",
    "    param_dict = {}\n",
    "    for param in benchmark_measurement.parameters:\n",
    "        param_dict[param.param_name] = param.param_value\n",
    "    return levels_for_param(context,param_dict)\n",
    "\n",
    "def get_execution_time_for_row(benchmark_measurement):\n",
    "    for timing in benchmark_measurement.timings:\n",
    "        if timing.timing_name == \"evaluation\":\n",
    "            return timing.timing_value\n",
    "\n",
    "def get_depth_for_row(benchmark_measurement):\n",
    "    return re.search(\"-([\\d]+).sheep\",benchmark_measurement.circuit_name).groups()[0]\n",
    "        \n",
    "def fill_row(benchmark_measurement, columns):\n",
    "    columns[\"context\"].append(benchmark_measurement.context)\n",
    "    columns[\"gate\"].append(get_gate_name_from_circuit_name(benchmark_measurement.circuit_name))\n",
    "    columns[\"input_bitwidth\"].append(benchmark_measurement.input_bitwidth)\n",
    "    columns[\"input_signed\"].append(benchmark_measurement.input_signed)\n",
    "    columns[\"is_correct\"].append(benchmark_measurement.is_correct)\n",
    "    columns[\"depth\"].append(get_depth_for_row(benchmark_measurement))\n",
    "    columns[\"execution_time\"].append(get_execution_time_for_row(benchmark_measurement))\n",
    "    return columns"
   ]
  },
  {
   "cell_type": "code",
   "execution_count": 7,
   "metadata": {},
   "outputs": [
    {
     "data": {
      "text/html": [
       "<div>\n",
       "<style scoped>\n",
       "    .dataframe tbody tr th:only-of-type {\n",
       "        vertical-align: middle;\n",
       "    }\n",
       "\n",
       "    .dataframe tbody tr th {\n",
       "        vertical-align: top;\n",
       "    }\n",
       "\n",
       "    .dataframe thead th {\n",
       "        text-align: right;\n",
       "    }\n",
       "</style>\n",
       "<table border=\"1\" class=\"dataframe\">\n",
       "  <thead>\n",
       "    <tr style=\"text-align: right;\">\n",
       "      <th></th>\n",
       "      <th>context</th>\n",
       "      <th>depth</th>\n",
       "      <th>execution_time</th>\n",
       "      <th>gate</th>\n",
       "      <th>input_bitwidth</th>\n",
       "      <th>input_signed</th>\n",
       "      <th>is_correct</th>\n",
       "    </tr>\n",
       "  </thead>\n",
       "  <tbody>\n",
       "    <tr>\n",
       "      <th>0</th>\n",
       "      <td>HElib_Fp</td>\n",
       "      <td>1</td>\n",
       "      <td>244.1</td>\n",
       "      <td>ADD</td>\n",
       "      <td>8</td>\n",
       "      <td>False</td>\n",
       "      <td>True</td>\n",
       "    </tr>\n",
       "    <tr>\n",
       "      <th>1</th>\n",
       "      <td>SEAL</td>\n",
       "      <td>1</td>\n",
       "      <td>407.2</td>\n",
       "      <td>ADD</td>\n",
       "      <td>8</td>\n",
       "      <td>False</td>\n",
       "      <td>True</td>\n",
       "    </tr>\n",
       "    <tr>\n",
       "      <th>2</th>\n",
       "      <td>HElib_Fp</td>\n",
       "      <td>4</td>\n",
       "      <td>607.0</td>\n",
       "      <td>ADD</td>\n",
       "      <td>8</td>\n",
       "      <td>False</td>\n",
       "      <td>True</td>\n",
       "    </tr>\n",
       "    <tr>\n",
       "      <th>3</th>\n",
       "      <td>SEAL</td>\n",
       "      <td>4</td>\n",
       "      <td>765.8</td>\n",
       "      <td>ADD</td>\n",
       "      <td>8</td>\n",
       "      <td>False</td>\n",
       "      <td>True</td>\n",
       "    </tr>\n",
       "    <tr>\n",
       "      <th>4</th>\n",
       "      <td>HElib_Fp</td>\n",
       "      <td>8</td>\n",
       "      <td>1111.2</td>\n",
       "      <td>ADD</td>\n",
       "      <td>8</td>\n",
       "      <td>False</td>\n",
       "      <td>True</td>\n",
       "    </tr>\n",
       "  </tbody>\n",
       "</table>\n",
       "</div>"
      ],
      "text/plain": [
       "    context depth  execution_time gate  input_bitwidth  input_signed  \\\n",
       "0  HElib_Fp     1           244.1  ADD               8         False   \n",
       "1      SEAL     1           407.2  ADD               8         False   \n",
       "2  HElib_Fp     4           607.0  ADD               8         False   \n",
       "3      SEAL     4           765.8  ADD               8         False   \n",
       "4  HElib_Fp     8          1111.2  ADD               8         False   \n",
       "\n",
       "   is_correct  \n",
       "0        True  \n",
       "1        True  \n",
       "2        True  \n",
       "3        True  \n",
       "4        True  "
      ]
     },
     "execution_count": 7,
     "metadata": {},
     "output_type": "execute_result"
    }
   ],
   "source": [
    "for row in rows_scan1:\n",
    "    dict_scan1 = fill_row(row,dict_scan1)\n",
    "    \n",
    "df_scan1 = pd.DataFrame(dict_scan1)\n",
    "df_scan1.head()"
   ]
  },
  {
   "cell_type": "markdown",
   "metadata": {},
   "source": [
    "Now lets plot the execution time vs depth for each gate type for 8-bit integers\n"
   ]
  },
  {
   "cell_type": "code",
   "execution_count": 18,
   "metadata": {},
   "outputs": [],
   "source": [
    "def execution_time_vs_op_depth(input_dataframe, gate_name, bitwidth, is_signed, libs_list):\n",
    "    rows = input_dataframe[(input_dataframe.input_bitwidth==bitwidth) & \n",
    "                           (input_dataframe.gate==gate_name) & \n",
    "                           input_dataframe.context.isin(libs_list) & \n",
    "                           (input_dataframe.input_signed==is_signed)\n",
    "                          ]\n",
    " #   return rows\n",
    "    return rows.drop_duplicates([\"context\", \"depth\"]).pivot(\n",
    "        index='context', columns='depth', values='execution_time'\n",
    "    )"
   ]
  },
  {
   "cell_type": "code",
   "execution_count": 19,
   "metadata": {},
   "outputs": [
    {
     "data": {
      "image/png": "[encoded data removed]",
      "text/plain": [
       "<Figure size 1080x720 with 5 Axes>"
      ]
     },
     "metadata": {},
     "output_type": "display_data"
    }
   ],
   "source": [
    "all_ops = set(df_scan1.gate)\n",
    "bitwidth = 8\n",
    "is_signed = False\n",
    "for i, op in enumerate(all_ops):\n",
    "    if op == \"COMPARE\": continue \n",
    "    libs = [\"HElib_Fp\", \"SEAL\"]\n",
    "    plot_scan1 = execution_time_vs_op_depth(df_scan1, op, bitwidth, is_signed, libs)\n",
    "    axis = plt.subplot((len(all_ops) + 2 // 2) // 2, 2, i + 1)\n",
    "#     axis.set_yscale(\"log\")\n",
    "    plot_scan1.plot(ax=axis, title=op + ' with bitwidth = ' + str(bitwidth), kind='bar', figsize=(15, 10), legend=False if i!=0 else True)\n",
    "plt.tight_layout()\n",
    "plt.show()"
   ]
  },
  {
   "cell_type": "markdown",
   "metadata": {},
   "source": [
    "# Scan 2: \n",
    "Set parameters for the \"leveled\" libraries (HElib_Fp and SEAL) to be able to support multiplicative depth of 4, then see how many additions or multiplications we can do and still get the correct results."
   ]
  },
  {
   "cell_type": "code",
   "execution_count": 36,
   "metadata": {},
   "outputs": [
    {
     "name": "stdout",
     "output_type": "stream",
     "text": [
      "Doing benchmark for HElib_Fp ADD bool 1\n",
      "Doing benchmark for HElib_Fp ADD bool 2\n",
      "Doing benchmark for HElib_Fp ADD bool 3\n",
      "Doing benchmark for HElib_Fp ADD bool 4\n",
      "Doing benchmark for HElib_Fp ADD bool 5\n",
      "Doing benchmark for HElib_Fp ADD bool 6\n",
      "Doing benchmark for HElib_Fp ADD bool 7\n",
      "Doing benchmark for HElib_Fp ADD bool 8\n",
      "Doing benchmark for SEAL ADD bool 1\n",
      "Doing benchmark for SEAL ADD bool 2\n",
      "Doing benchmark for SEAL ADD bool 3\n",
      "Doing benchmark for SEAL ADD bool 4\n",
      "Doing benchmark for SEAL ADD bool 5\n",
      "Doing benchmark for SEAL ADD bool 6\n",
      "Doing benchmark for SEAL ADD bool 7\n",
      "Doing benchmark for SEAL ADD bool 8\n",
      "Doing benchmark for HElib_Fp MULTIPLY bool 1\n",
      "Doing benchmark for HElib_Fp MULTIPLY bool 2\n",
      "Doing benchmark for HElib_Fp MULTIPLY bool 3\n",
      "Doing benchmark for HElib_Fp MULTIPLY bool 4\n",
      "Doing benchmark for HElib_Fp MULTIPLY bool 5\n",
      "Doing benchmark for HElib_Fp MULTIPLY bool 6\n",
      "Doing benchmark for HElib_Fp MULTIPLY bool 7\n",
      "Doing benchmark for HElib_Fp MULTIPLY bool 8\n",
      "Doing benchmark for SEAL MULTIPLY bool 1\n",
      "Doing benchmark for SEAL MULTIPLY bool 2\n",
      "Doing benchmark for SEAL MULTIPLY bool 3\n",
      "Doing benchmark for SEAL MULTIPLY bool 4\n",
      "Doing benchmark for SEAL MULTIPLY bool 5\n",
      "Doing benchmark for SEAL MULTIPLY bool 6\n",
      "Doing benchmark for SEAL MULTIPLY bool 7\n",
      "Doing benchmark for SEAL MULTIPLY bool 8\n",
      "Doing benchmark for HElib_Fp SUBTRACT bool 1\n",
      "Doing benchmark for HElib_Fp SUBTRACT bool 2\n",
      "Doing benchmark for HElib_Fp SUBTRACT bool 3\n",
      "Doing benchmark for HElib_Fp SUBTRACT bool 4\n",
      "Doing benchmark for HElib_Fp SUBTRACT bool 5\n",
      "Doing benchmark for HElib_Fp SUBTRACT bool 6\n",
      "Doing benchmark for HElib_Fp SUBTRACT bool 7\n",
      "Doing benchmark for HElib_Fp SUBTRACT bool 8\n",
      "Doing benchmark for SEAL SUBTRACT bool 1\n",
      "Doing benchmark for SEAL SUBTRACT bool 2\n",
      "Doing benchmark for SEAL SUBTRACT bool 3\n",
      "Doing benchmark for SEAL SUBTRACT bool 4\n",
      "Doing benchmark for SEAL SUBTRACT bool 5\n",
      "Doing benchmark for SEAL SUBTRACT bool 6\n",
      "Doing benchmark for SEAL SUBTRACT bool 7\n",
      "Doing benchmark for SEAL SUBTRACT bool 8\n",
      "Doing benchmark for HElib_Fp NEGATE bool 1\n",
      "Doing benchmark for HElib_Fp NEGATE bool 2\n",
      "Doing benchmark for HElib_Fp NEGATE bool 3\n",
      "Doing benchmark for HElib_Fp NEGATE bool 4\n",
      "Doing benchmark for HElib_Fp NEGATE bool 5\n",
      "Doing benchmark for HElib_Fp NEGATE bool 6\n",
      "Doing benchmark for HElib_Fp NEGATE bool 7\n",
      "Doing benchmark for HElib_Fp NEGATE bool 8\n",
      "Doing benchmark for SEAL NEGATE bool 1\n",
      "Doing benchmark for SEAL NEGATE bool 2\n",
      "Doing benchmark for SEAL NEGATE bool 3\n",
      "Doing benchmark for SEAL NEGATE bool 4\n",
      "Doing benchmark for SEAL NEGATE bool 5\n",
      "Doing benchmark for SEAL NEGATE bool 6\n",
      "Doing benchmark for SEAL NEGATE bool 7\n",
      "Doing benchmark for SEAL NEGATE bool 8\n",
      "Finished OK\n"
     ]
    }
   ],
   "source": [
    "scan_id = str(uuid.uuid4())\n",
    "## look at bool inputs\n",
    "input_type = \"bool\"\n",
    "## start looping over gates, depths, and contexts\n",
    "for gate in [\"ADD\",\"MULTIPLY\",\"SUBTRACT\",\"NEGATE\"]:\n",
    "    for context in [\"HElib_Fp\",\"SEAL\"]:\n",
    "        params = params_for_level(context,4)\n",
    "        for d in range(1,9):\n",
    "            circuit_file = CIRCUIT_FILE_DIR+\"/circuit-\"+gate+\"-\"+str(d)+\".sheep\"\n",
    "            print(\"Doing benchmark for %s %s %s %i\" %\n",
    "                            (context,gate,input_type,d))\n",
    "            uploaded_OK = run_circuit(circuit_file,\n",
    "                                                input_type,\n",
    "                                                context,\n",
    "                                                params,\n",
    "                                                \"serial\",\n",
    "                                                scan_id)\n",
    "            if not uploaded_OK:\n",
    "                print(\"Problem running test or uploading result\")\n",
    "if uploaded_OK:\n",
    "    print(\"Finished OK\")"
   ]
  },
  {
   "cell_type": "markdown",
   "metadata": {},
   "source": [
    "### Tabulate and plot the results"
   ]
  },
  {
   "cell_type": "code",
   "execution_count": 40,
   "metadata": {},
   "outputs": [
    {
     "data": {
      "text/html": [
       "<div>\n",
       "<style scoped>\n",
       "    .dataframe tbody tr th:only-of-type {\n",
       "        vertical-align: middle;\n",
       "    }\n",
       "\n",
       "    .dataframe tbody tr th {\n",
       "        vertical-align: top;\n",
       "    }\n",
       "\n",
       "    .dataframe thead th {\n",
       "        text-align: right;\n",
       "    }\n",
       "</style>\n",
       "<table border=\"1\" class=\"dataframe\">\n",
       "  <thead>\n",
       "    <tr style=\"text-align: right;\">\n",
       "      <th></th>\n",
       "      <th>context</th>\n",
       "      <th>depth</th>\n",
       "      <th>execution_time</th>\n",
       "      <th>gate</th>\n",
       "      <th>input_bitwidth</th>\n",
       "      <th>input_signed</th>\n",
       "      <th>is_correct</th>\n",
       "    </tr>\n",
       "  </thead>\n",
       "  <tbody>\n",
       "    <tr>\n",
       "      <th>0</th>\n",
       "      <td>HElib_Fp</td>\n",
       "      <td>1</td>\n",
       "      <td>157.5</td>\n",
       "      <td>ADD</td>\n",
       "      <td>1</td>\n",
       "      <td>False</td>\n",
       "      <td>True</td>\n",
       "    </tr>\n",
       "    <tr>\n",
       "      <th>1</th>\n",
       "      <td>HElib_Fp</td>\n",
       "      <td>2</td>\n",
       "      <td>249.1</td>\n",
       "      <td>ADD</td>\n",
       "      <td>1</td>\n",
       "      <td>False</td>\n",
       "      <td>True</td>\n",
       "    </tr>\n",
       "    <tr>\n",
       "      <th>2</th>\n",
       "      <td>HElib_Fp</td>\n",
       "      <td>3</td>\n",
       "      <td>360.0</td>\n",
       "      <td>ADD</td>\n",
       "      <td>1</td>\n",
       "      <td>False</td>\n",
       "      <td>True</td>\n",
       "    </tr>\n",
       "    <tr>\n",
       "      <th>3</th>\n",
       "      <td>HElib_Fp</td>\n",
       "      <td>4</td>\n",
       "      <td>483.7</td>\n",
       "      <td>ADD</td>\n",
       "      <td>1</td>\n",
       "      <td>False</td>\n",
       "      <td>True</td>\n",
       "    </tr>\n",
       "    <tr>\n",
       "      <th>4</th>\n",
       "      <td>HElib_Fp</td>\n",
       "      <td>5</td>\n",
       "      <td>609.2</td>\n",
       "      <td>ADD</td>\n",
       "      <td>1</td>\n",
       "      <td>False</td>\n",
       "      <td>True</td>\n",
       "    </tr>\n",
       "  </tbody>\n",
       "</table>\n",
       "</div>"
      ],
      "text/plain": [
       "    context depth  execution_time gate  input_bitwidth  input_signed  \\\n",
       "0  HElib_Fp     1           157.5  ADD               1         False   \n",
       "1  HElib_Fp     2           249.1  ADD               1         False   \n",
       "2  HElib_Fp     3           360.0  ADD               1         False   \n",
       "3  HElib_Fp     4           483.7  ADD               1         False   \n",
       "4  HElib_Fp     5           609.2  ADD               1         False   \n",
       "\n",
       "   is_correct  \n",
       "0        True  \n",
       "1        True  \n",
       "2        True  \n",
       "3        True  \n",
       "4        True  "
      ]
     },
     "execution_count": 40,
     "metadata": {},
     "output_type": "execute_result"
    }
   ],
   "source": [
    "rows_scan2 = session.query(BenchmarkMeasurement).filter_by(scan_id=scan_id).filter_by(is_correct=True).all()\n",
    "dict_scan2 = {\"context\":[],\"gate\":[],\"input_bitwidth\":[],\"input_signed\":[],\"is_correct\":[],\"depth\":[], \"execution_time\":[]}\n",
    "for row in rows_scan2:\n",
    "    dict_scan2= fill_row(row,dict_scan2)\n",
    "    \n",
    "df_scan2 = pd.DataFrame(dict_scan2)\n",
    "df_scan2.head()"
   ]
  },
  {
   "cell_type": "code",
   "execution_count": 41,
   "metadata": {},
   "outputs": [
    {
     "data": {
      "image/png": "[encoded data removed]",
      "text/plain": [
       "<Figure size 1080x720 with 4 Axes>"
      ]
     },
     "metadata": {},
     "output_type": "display_data"
    }
   ],
   "source": [
    "all_ops = set(df_scan2.gate)\n",
    "bitwidth = 1\n",
    "is_signed = False\n",
    "for i, op in enumerate(all_ops):\n",
    "    libs = [\"HElib_Fp\", \"SEAL\"]\n",
    "    plot_scan2 = execution_time_vs_op_depth(df_scan2, op, bitwidth, is_signed, libs)\n",
    "    axis = plt.subplot((len(all_ops) + 2 // 2) // 2, 2, i + 1)\n",
    "#     axis.set_yscale(\"log\")\n",
    "    plot_scan2.plot(ax=axis, title=op + ' with bitwidth = ' + str(bitwidth), kind='bar', figsize=(15, 10), legend=False if i!=0 else True)\n",
    "plt.tight_layout()\n",
    "plt.show()"
   ]
  },
  {
   "cell_type": "markdown",
   "metadata": {},
   "source": [
    "# Scan 3:\n",
    "Look at how bitwidth of the input type affects the execution time.  Use circuits with a single gate."
   ]
  },
  {
   "cell_type": "code",
   "execution_count": 45,
   "metadata": {},
   "outputs": [
    {
     "name": "stdout",
     "output_type": "stream",
     "text": [
      "Doing benchmark for HElib_Fp ADD bool\n",
      "Doing benchmark for HElib_Fp ADD uint8_t\n",
      "Doing benchmark for HElib_Fp ADD uint16_t\n",
      "Doing benchmark for HElib_Fp ADD uint32_t\n",
      "Doing benchmark for SEAL ADD bool\n",
      "Doing benchmark for SEAL ADD uint8_t\n",
      "Doing benchmark for SEAL ADD uint16_t\n",
      "Doing benchmark for SEAL ADD uint32_t\n",
      "Doing benchmark for HElib_F2 ADD bool\n",
      "Doing benchmark for HElib_F2 ADD uint8_t\n",
      "Doing benchmark for HElib_F2 ADD uint16_t\n",
      "Doing benchmark for HElib_F2 ADD uint32_t\n",
      "Doing benchmark for TFHE ADD bool\n",
      "Doing benchmark for TFHE ADD uint8_t\n",
      "Unable to connect to SHEEP server to get parameters\n"
     ]
    },
    {
     "ename": "RuntimeError",
     "evalue": "Error in call to sheep-server",
     "output_type": "error",
     "traceback": [
      "\u001b[0;31m---------------------------------------------------------------------------\u001b[0m",
      "\u001b[0;31mRuntimeError\u001b[0m                              Traceback (most recent call last)",
      "\u001b[0;32m<ipython-input-45-8d03ceee4c7c>\u001b[0m in \u001b[0;36m<module>\u001b[0;34m()\u001b[0m\n\u001b[1;32m     14\u001b[0m                                                 \u001b[0mparams\u001b[0m\u001b[0;34m,\u001b[0m\u001b[0;34m\u001b[0m\u001b[0m\n\u001b[1;32m     15\u001b[0m                                                 \u001b[0;34m\"serial\"\u001b[0m\u001b[0;34m,\u001b[0m\u001b[0;34m\u001b[0m\u001b[0m\n\u001b[0;32m---> 16\u001b[0;31m                                                 scan_id)\n\u001b[0m\u001b[1;32m     17\u001b[0m             \u001b[0;32mif\u001b[0m \u001b[0;32mnot\u001b[0m \u001b[0muploaded_OK\u001b[0m\u001b[0;34m:\u001b[0m\u001b[0;34m\u001b[0m\u001b[0m\n\u001b[1;32m     18\u001b[0m                 \u001b[0mprint\u001b[0m\u001b[0;34m(\u001b[0m\u001b[0;34m\"Problem running test or uploading result\"\u001b[0m\u001b[0;34m)\u001b[0m\u001b[0;34m\u001b[0m\u001b[0m\n",
      "\u001b[0;32m/frontend/pysheep/benchmark_utils.py\u001b[0m in \u001b[0;36mrun_circuit\u001b[0;34m(circuit_file, input_type, context, params, eval_strategy, scan_id)\u001b[0m\n\u001b[1;32m     56\u001b[0m \u001b[0;34m\u001b[0m\u001b[0m\n\u001b[1;32m     57\u001b[0m     \u001b[0;31m## randomly assign input values\u001b[0m\u001b[0;34m\u001b[0m\u001b[0;34m\u001b[0m\u001b[0m\n\u001b[0;32m---> 58\u001b[0;31m     \u001b[0mr\u001b[0m \u001b[0;34m=\u001b[0m \u001b[0mcheck_result\u001b[0m\u001b[0;34m(\u001b[0m\u001b[0msheep_client\u001b[0m\u001b[0;34m.\u001b[0m\u001b[0mget_nslots\u001b[0m\u001b[0;34m)\u001b[0m\u001b[0;34m\u001b[0m\u001b[0m\n\u001b[0m\u001b[1;32m     59\u001b[0m     \u001b[0mnslots\u001b[0m \u001b[0;34m=\u001b[0m \u001b[0mmin\u001b[0m\u001b[0;34m(\u001b[0m\u001b[0mr\u001b[0m\u001b[0;34m[\u001b[0m\u001b[0;34m\"nslots\"\u001b[0m\u001b[0;34m]\u001b[0m\u001b[0;34m,\u001b[0m\u001b[0;36m100\u001b[0m\u001b[0;34m)\u001b[0m\u001b[0;34m\u001b[0m\u001b[0m\n\u001b[1;32m     60\u001b[0m \u001b[0;31m#    nslots = r[\"nslots\"]\u001b[0m\u001b[0;34m\u001b[0m\u001b[0;34m\u001b[0m\u001b[0m\n",
      "\u001b[0;32m/frontend/pysheep/benchmark_utils.py\u001b[0m in \u001b[0;36mcheck_result\u001b[0;34m(func, **kwargs)\u001b[0m\n\u001b[1;32m     20\u001b[0m     \u001b[0;32mif\u001b[0m \u001b[0mresponse\u001b[0m\u001b[0;34m[\u001b[0m\u001b[0;34m\"status_code\"\u001b[0m\u001b[0;34m]\u001b[0m \u001b[0;34m!=\u001b[0m \u001b[0;36m200\u001b[0m\u001b[0;34m:\u001b[0m\u001b[0;34m\u001b[0m\u001b[0m\n\u001b[1;32m     21\u001b[0m         \u001b[0mprint\u001b[0m\u001b[0;34m(\u001b[0m\u001b[0mresponse\u001b[0m\u001b[0;34m[\u001b[0m\u001b[0;34m\"content\"\u001b[0m\u001b[0;34m]\u001b[0m\u001b[0;34m)\u001b[0m\u001b[0;34m\u001b[0m\u001b[0m\n\u001b[0;32m---> 22\u001b[0;31m         \u001b[0;32mraise\u001b[0m \u001b[0mRuntimeError\u001b[0m\u001b[0;34m(\u001b[0m\u001b[0;34m\"Error in call to sheep-server\"\u001b[0m\u001b[0;34m)\u001b[0m\u001b[0;34m\u001b[0m\u001b[0m\n\u001b[0m\u001b[1;32m     23\u001b[0m     \u001b[0;32mreturn\u001b[0m \u001b[0mresponse\u001b[0m\u001b[0;34m[\u001b[0m\u001b[0;34m\"content\"\u001b[0m\u001b[0;34m]\u001b[0m\u001b[0;34m\u001b[0m\u001b[0m\n\u001b[1;32m     24\u001b[0m \u001b[0;34m\u001b[0m\u001b[0m\n",
      "\u001b[0;31mRuntimeError\u001b[0m: Error in call to sheep-server"
     ]
    }
   ],
   "source": [
    "scan_id = str(uuid.uuid4())\n",
    "input_type = \"bool\"\n",
    "## start looping over gates, depths, and contexts\n",
    "for gate in [\"ADD\",\"MULTIPLY\",\"SUBTRACT\",\"NEGATE\"]:\n",
    "    for context in [\"HElib_Fp\",\"SEAL\",\"HElib_F2\",\"TFHE\"]:\n",
    "        params = params_for_level(context,2)\n",
    "        for input_type in [\"bool\",\"uint8_t\",\"uint16_t\",\"uint32_t\"]:\n",
    "            circuit_file = CIRCUIT_FILE_DIR+\"/circuit-\"+gate+\"-1.sheep\"\n",
    "            print(\"Doing benchmark for %s %s %s\" %\n",
    "                            (context,gate,input_type))\n",
    "            uploaded_OK = run_circuit(circuit_file,\n",
    "                                                input_type,\n",
    "                                                context,\n",
    "                                                params,\n",
    "                                                \"serial\",\n",
    "                                                scan_id)\n",
    "            if not uploaded_OK:\n",
    "                print(\"Problem running test or uploading result\")\n",
    "if uploaded_OK:\n",
    "    print(\"Finished OK\")"
   ]
  },
  {
   "cell_type": "markdown",
   "metadata": {},
   "source": [
    "HElib_F2 and TFHE both deal with binary arrays, and by default bootstrap for every operation:"
   ]
  },
  {
   "cell_type": "code",
   "execution_count": null,
   "metadata": {},
   "outputs": [],
   "source": [
    "def libs_op_depth(op_str, bitwidth, is_signed, libs_list):\n",
    "    rows = all_rows[(all_rows.input_bitwidth==bitwidth) & (all_rows.gate_name==op_str) & all_rows.context_name.isin(libs_list) & (all_rows.input_signed==is_signed)]\n",
    "    rows.context_name.name = \"Library\"\n",
    "    rows.execution_time.name = \"Time (s)\" \n",
    "    return rows.drop_duplicates([\"context_name\", \"depth\"]).pivot(index='context_name', columns='depth', values='execution_time')"
   ]
  },
  {
   "cell_type": "code",
   "execution_count": null,
   "metadata": {},
   "outputs": [],
   "source": [
    "all_ops = set(all_rows.gate_name)\n",
    "bitwidth = 8\n",
    "is_signed = False\n",
    "for i, op in enumerate(all_ops):\n",
    "    if op == \"COMPARE\": continue \n",
    "    libs = [\"HElib_F2\", \"TFHE\"]# all_libs\n",
    "    rows = libs_op_depth(op, bitwidth, is_signed, libs)\n",
    "    axis = plt.subplot((len(all_ops) + 2 // 2) // 2, 2, i + 1)\n",
    "    #axis.set_yscale(\"log\")\n",
    "    rows.plot(ax=axis, title=op + ' with bitwidth = ' + str(bitwidth), kind='bar', figsize=(15, 10), legend=False if i!=0 else True)\n",
    "plt.tight_layout()\n",
    "plt.show()"
   ]
  },
  {
   "cell_type": "markdown",
   "metadata": {},
   "source": [
    "Now we do the same for the two libraries that operate on integers - SEAL and HElib_Fp"
   ]
  },
  {
   "cell_type": "code",
   "execution_count": null,
   "metadata": {},
   "outputs": [],
   "source": [
    "all_ops = set(all_rows.gate_name)\n",
    "bitwidth = 8\n",
    "is_signed = False\n",
    "for i, op in enumerate(all_ops):\n",
    "    if op == \"COMPARE\": continue \n",
    "    libs = [\"HElib_Fp\", \"SEAL\"]# all_libs\n",
    "    rows = libs_op_depth(op, bitwidth, is_signed, libs)\n",
    "    axis = plt.subplot((len(all_ops) + 2 // 2) // 2, 2, i + 1)\n",
    "    #axis.set_yscale(\"log\")\n",
    "    rows.plot(ax=axis, title=op + ' with bitwidth = ' + str(bitwidth), kind='bar', figsize=(15, 10), legend=False if i!=0 else True)\n",
    "plt.tight_layout()\n",
    "plt.show()"
   ]
  },
  {
   "cell_type": "markdown",
   "metadata": {},
   "source": [
    "### Scan 4: \n",
    "Look at how the number of bits in the input type affects the execution time for a single gate of each operation."
   ]
  },
  {
   "cell_type": "code",
   "execution_count": null,
   "metadata": {},
   "outputs": [],
   "source": [
    "def ops_lib_bitwidth(depth, is_signed, lib, ops):\n",
    "    rows = all_rows[ (all_rows.context_name==lib)&(all_rows.input_signed==is_signed)&(all_rows.depth==depth)&(all_rows.gate_name.isin(ops))]\n",
    "    rows.execution_time.name = \"Time (s)\" \n",
    "    rows.gate_name.name = \"Operation\"\n",
    "    return rows.drop_duplicates([\"gate_name\", \"input_bitwidth\"]).pivot(index='gate_name', columns='input_bitwidth', values='execution_time')"
   ]
  },
  {
   "cell_type": "code",
   "execution_count": null,
   "metadata": {},
   "outputs": [],
   "source": [
    "rows = ops_lib_bitwidth(1,False,\"TFHE\",[\"ADD\"])\n",
    "rows"
   ]
  },
  {
   "cell_type": "code",
   "execution_count": null,
   "metadata": {},
   "outputs": [],
   "source": [
    "all_ops = set(all_rows.gate_name)\n",
    "ops = [\"ADD\",\"SUBTRACT\",\"MULTIPLY\"]\n",
    "all_libs = [\"HElib_F2\", \"HElib_Fp\", \"TFHE\", \"SEAL\"]\n",
    "depth = 1\n",
    "is_signed = False\n",
    "for i, lib in enumerate(all_libs):\n",
    "    rows = ops_lib_bitwidth(depth, False, lib, ops)\n",
    "    axis = plt.subplot((len(all_libs) + 2 // 2) // 2, 2, i + 1)\n",
    "    #axis.set_yscale(\"log\")\n",
    "    rows.plot(ax=axis, title='{} at depth {} ({}signed)'.format(lib, depth, '' if is_signed else 'un'), kind='bar', figsize=(15, 10), legend=False if i!=0 else True)\n",
    "plt.tight_layout()\n",
    "plt.show()"
   ]
  },
  {
   "cell_type": "code",
   "execution_count": null,
   "metadata": {},
   "outputs": [],
   "source": []
  }
 ],
 "metadata": {
  "kernelspec": {
   "display_name": "Python 3",
   "language": "python",
   "name": "python3"
  },
  "language_info": {
   "codemirror_mode": {
    "name": "ipython",
    "version": 3
   },
   "file_extension": ".py",
   "mimetype": "text/x-python",
   "name": "python",
   "nbconvert_exporter": "python",
   "pygments_lexer": "ipython3",
   "version": "3.5.2"
  }
 },
 "nbformat": 4,
 "nbformat_minor": 2
}
