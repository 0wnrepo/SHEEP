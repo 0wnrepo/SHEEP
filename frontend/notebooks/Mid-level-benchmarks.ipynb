{
 "cells": [
  {
   "cell_type": "markdown",
   "metadata": {},
   "source": [
    "# Mid-level benchmarks\n",
    "\n",
    "The \"mid-level\" benchmarks are circuits that perform a simple operation, that could potentially be a building block of a real-life application.\n",
    "We look at three examples here, and illustrate how we can visualize the results."
   ]
  },
  {
   "cell_type": "markdown",
   "metadata": {},
   "source": [
    "# 1) Private Information Retrieval (PIR)\n",
    "\n",
    "One application of HE is to retrieve a data point from a database held elsewhere, without the database holder knowing which point is being requested. If Alice wants to query Bob's database, she simply encrypts an array full of zeros, except for a \"1\" in the position of the desired data point, and sends this ciphertext to Bob. He then performs homomorphic multiplication and addition, and sends the ciphertext back to Alice, who decrypts it to retrieve the data point she requested.\n",
    "\n",
    "To demonstrate this on a very small scale, lets look at a \"database\" containing only two values: 123 and 456:"
   ]
  },
  {
   "cell_type": "code",
   "execution_count": 1,
   "metadata": {},
   "outputs": [],
   "source": [
    "import os\n",
    "import sys\n",
    "if \"SHEEP_HOME\" in os.environ.keys():\n",
    "  SHEEP_HOME = os.environ[\"SHEEP_HOME\"]\n",
    "  sys.path.append(SHEEP_HOME)\n",
    "else:\n",
    "  print(\"Please set SHEEP_HOME environment variable to point to location of SHEEP/frontend\")\n",
    "\n",
    "## tabulating and plotting benchmark results\n",
    "import pandas as pd\n",
    "import matplotlib.pyplot as plt\n",
    "from pysheep.database import session, BenchmarkMeasurement, Timing\n",
    "\n",
    "from pysheep.mid_level_benchmarks import generate_pir_circuit, \\\n",
    "    generate_variance_circuit, generate_bitonic_sort_circuit, generate_gaussian_inputs\n",
    "from pysheep import benchmark_utils\n",
    "from pysheep import common_utils\n",
    "from pysheep import sheep_client"
   ]
  },
  {
   "cell_type": "markdown",
   "metadata": {},
   "source": [
    "First lets setup the SHEEP client (assuming the SHEEP server is running).  We can choose the \"HElib_Fp\" context, and the input type to be 8-bit integers."
   ]
  },
  {
   "cell_type": "code",
   "execution_count": 2,
   "metadata": {},
   "outputs": [
    {
     "data": {
      "text/plain": [
       "{'content': '', 'status_code': 200}"
      ]
     },
     "execution_count": 2,
     "metadata": {},
     "output_type": "execute_result"
    }
   ],
   "source": [
    "sheep_client.new_job() \n",
    "sheep_client.set_context(\"HElib_Fp\")\n",
    "sheep_client.set_input_type(\"int16_t\")"
   ]
  },
  {
   "cell_type": "markdown",
   "metadata": {},
   "source": [
    "Now let's generate the circuit file for this simple PIR case with two values in the \"database\":"
   ]
  },
  {
   "cell_type": "code",
   "execution_count": 3,
   "metadata": {},
   "outputs": [],
   "source": [
    "circuit_file=generate_pir_circuit(2,[2])"
   ]
  },
  {
   "cell_type": "markdown",
   "metadata": {},
   "source": [
    "Lets give this to the SHEEP server, and then see what inputs it expects?"
   ]
  },
  {
   "cell_type": "code",
   "execution_count": 4,
   "metadata": {},
   "outputs": [
    {
     "data": {
      "text/plain": [
       "{'content': ['d_0_0_0', 'd_0_1_0', 's_0_0', 's_0_1'], 'status_code': 200}"
      ]
     },
     "execution_count": 4,
     "metadata": {},
     "output_type": "execute_result"
    }
   ],
   "source": [
    "sheep_client.set_circuit(circuit_file)\n",
    "sheep_client.get_inputs()"
   ]
  },
  {
   "cell_type": "markdown",
   "metadata": {},
   "source": [
    "\"d_a_b_c\" are the \"database\" values, and \"s_x_y\" are the \"selector\" values.  We can set d_0_0_0 and d_0_1_0 to \"123\" and \"456\" respectively.  Then, to select d_0_0_0 (which will hopefully be the value \"123\") from the database, we should set s_0_0 to 1 and s_0_1 to zero."
   ]
  },
  {
   "cell_type": "code",
   "execution_count": 5,
   "metadata": {},
   "outputs": [
    {
     "data": {
      "text/plain": [
       "{'content': '', 'status_code': 200}"
      ]
     },
     "execution_count": 5,
     "metadata": {},
     "output_type": "execute_result"
    }
   ],
   "source": [
    "sheep_client.set_inputs({\"d_0_0_0\": [123], \"d_0_1_0\": [456], \"s_0_0\": [1], \"s_0_1\": [0]})"
   ]
  },
  {
   "cell_type": "code",
   "execution_count": 6,
   "metadata": {},
   "outputs": [
    {
     "data": {
      "text/plain": [
       "{'content': {'cleartext check': {'is_correct': True},\n",
       "  'outputs': {'e_0_0': ['123']},\n",
       "  'timings': {'c_0_0_0': '1352.800000',\n",
       "   'c_0_1_0': '1256.300000',\n",
       "   'decryption': '321.400000',\n",
       "   'e_0_0': '64.900000',\n",
       "   'encryption': '3660.600000',\n",
       "   'evaluation': '2882.600000'}},\n",
       " 'status_code': 200}"
      ]
     },
     "execution_count": 6,
     "metadata": {},
     "output_type": "execute_result"
    }
   ],
   "source": [
    "sheep_client.run_job()\n",
    "results = sheep_client.get_results()\n",
    "results"
   ]
  },
  {
   "cell_type": "markdown",
   "metadata": {},
   "source": [
    "So we successfully got the output value \"123\", i.e. the first entry in the \"database\"."
   ]
  },
  {
   "cell_type": "markdown",
   "metadata": {},
   "source": [
    "## PIR with a more complex circuit"
   ]
  },
  {
   "cell_type": "code",
   "execution_count": 7,
   "metadata": {},
   "outputs": [
    {
     "data": {
      "text/plain": [
       "{'content': '', 'status_code': 200}"
      ]
     },
     "execution_count": 7,
     "metadata": {},
     "output_type": "execute_result"
    }
   ],
   "source": [
    "sheep_client.new_job()\n",
    "sheep_client.set_input_type(\"int16_t\")\n",
    "sheep_client.set_context(\"HElib_Fp\")"
   ]
  },
  {
   "cell_type": "markdown",
   "metadata": {},
   "source": [
    "Assuming we will normally want to query a database containing N>2 items, one might think that we need to encrypt and send N \"s\"-values to identify the data point that we want.  However, we can be smarter than that by using a binary tree structure for the data, and having the \"s\"-values dictate how we navigate the tree to locate the desired data point. "
   ]
  },
  {
   "cell_type": "markdown",
   "metadata": {},
   "source": [
    "Lets generate a circuit file corresponding to a database containing 32 values, arranged in a tree with 5 layers and 2 choices per layer ($2^5 = 32$)."
   ]
  },
  {
   "cell_type": "code",
   "execution_count": 8,
   "metadata": {},
   "outputs": [
    {
     "data": {
      "text/plain": [
       "'/frontend/benchmark_inputs/mid_level/circuits/circuit-pir-32_2_2_2_2_2.sheep'"
      ]
     },
     "execution_count": 8,
     "metadata": {},
     "output_type": "execute_result"
    }
   ],
   "source": [
    "circuit_file=generate_pir_circuit(32,[2,2,2,2,2])\n",
    "circuit_file"
   ]
  },
  {
   "cell_type": "markdown",
   "metadata": {},
   "source": [
    "Let's now fill this database with values 0-to-31:"
   ]
  },
  {
   "cell_type": "code",
   "execution_count": 9,
   "metadata": {},
   "outputs": [],
   "source": [
    "sheep_client.set_circuit(circuit_file)\n",
    "inputlist=sheep_client.get_inputs()['content']\n",
    "data = [(x, [i]) for (i, x) in enumerate(inputlist) if x.startswith('d_')]"
   ]
  },
  {
   "cell_type": "markdown",
   "metadata": {},
   "source": [
    "To start with, we'll set all the \"s\" (selector) inputs to zero:"
   ]
  },
  {
   "cell_type": "code",
   "execution_count": 10,
   "metadata": {},
   "outputs": [],
   "source": [
    "data += [(x, [0]) for (i, x) in enumerate(inputlist) if x.startswith('s_')]\n",
    "data = dict(data)"
   ]
  },
  {
   "cell_type": "markdown",
   "metadata": {},
   "source": [
    "Now we need to set certain selector variables to \"1\" to navigate down the tree.  Suppose we want to choose the last element of the database (should be value \"31\") - we need to go down the right-hand branches:"
   ]
  },
  {
   "cell_type": "code",
   "execution_count": 11,
   "metadata": {},
   "outputs": [],
   "source": [
    "data['s_0_1'] = [1]\n",
    "data['s_1_1'] = [1]\n",
    "data['s_2_1'] = [1]\n",
    "data['s_3_1'] = [1]\n",
    "data['s_4_1'] = [1]"
   ]
  },
  {
   "cell_type": "code",
   "execution_count": 12,
   "metadata": {},
   "outputs": [
    {
     "data": {
      "text/plain": [
       "{'content': '', 'status_code': 200}"
      ]
     },
     "execution_count": 12,
     "metadata": {},
     "output_type": "execute_result"
    }
   ],
   "source": [
    "sheep_client.set_inputs(data)\n",
    "sheep_client.set_timeout(120)\n",
    "sheep_client.set_parameters({\"Levels\": 30})"
   ]
  },
  {
   "cell_type": "code",
   "execution_count": 13,
   "metadata": {},
   "outputs": [
    {
     "data": {
      "text/plain": [
       "{'content': '', 'status_code': 200}"
      ]
     },
     "execution_count": 13,
     "metadata": {},
     "output_type": "execute_result"
    }
   ],
   "source": [
    "sheep_client.run_job()"
   ]
  },
  {
   "cell_type": "code",
   "execution_count": 14,
   "metadata": {},
   "outputs": [
    {
     "data": {
      "text/plain": [
       "{'content': {'cleartext check': {'is_correct': True},\n",
       "  'outputs': {'e_4_0': ['31']},\n",
       "  'timings': {'c_0_0_0': '3517.600000',\n",
       "   'c_0_0_1': '3370.600000',\n",
       "   'c_0_0_10': '3365.400000',\n",
       "   'c_0_0_11': '3405.700000',\n",
       "   'c_0_0_12': '3376.600000',\n",
       "   'c_0_0_13': '3364.800000',\n",
       "   'c_0_0_14': '3423.500000',\n",
       "   'c_0_0_15': '3552.400000',\n",
       "   'c_0_0_2': '3408.400000',\n",
       "   'c_0_0_3': '3360.100000',\n",
       "   'c_0_0_4': '3363.200000',\n",
       "   'c_0_0_5': '3438.000000',\n",
       "   'c_0_0_6': '3516.600000',\n",
       "   'c_0_0_7': '3618.700000',\n",
       "   'c_0_0_8': '3408.900000',\n",
       "   'c_0_0_9': '3365.700000',\n",
       "   'c_0_1_0': '3364.200000',\n",
       "   'c_0_1_1': '3404.800000',\n",
       "   'c_0_1_10': '3362.100000',\n",
       "   'c_0_1_11': '3398.600000',\n",
       "   'c_0_1_12': '3374.000000',\n",
       "   'c_0_1_13': '3520.700000',\n",
       "   'c_0_1_14': '4252.100000',\n",
       "   'c_0_1_15': '3362.600000',\n",
       "   'c_0_1_2': '3353.700000',\n",
       "   'c_0_1_3': '3407.500000',\n",
       "   'c_0_1_4': '3355.700000',\n",
       "   'c_0_1_5': '3354.600000',\n",
       "   'c_0_1_6': '3404.700000',\n",
       "   'c_0_1_7': '3352.100000',\n",
       "   'c_0_1_8': '3469.500000',\n",
       "   'c_0_1_9': '3467.800000',\n",
       "   'c_1_0_0': '88.600000',\n",
       "   'c_1_0_1': '90.400000',\n",
       "   'c_1_0_2': '91.400000',\n",
       "   'c_1_0_3': '91.800000',\n",
       "   'c_1_0_4': '93.100000',\n",
       "   'c_1_0_5': '90.500000',\n",
       "   'c_1_0_6': '92.100000',\n",
       "   'c_1_0_7': '91.100000',\n",
       "   'c_1_1_0': '91.600000',\n",
       "   'c_1_1_1': '92.700000',\n",
       "   'c_1_1_2': '93.100000',\n",
       "   'c_1_1_3': '91.800000',\n",
       "   'c_1_1_4': '91.200000',\n",
       "   'c_1_1_5': '90.700000',\n",
       "   'c_1_1_6': '99.000000',\n",
       "   'c_1_1_7': '99.300000',\n",
       "   'c_2_0_0': '167.500000',\n",
       "   'c_2_0_1': '171.200000',\n",
       "   'c_2_0_2': '167.100000',\n",
       "   'c_2_0_3': '168.800000',\n",
       "   'c_2_1_0': '168.100000',\n",
       "   'c_2_1_1': '166.000000',\n",
       "   'c_2_1_2': '168.000000',\n",
       "   'c_2_1_3': '170.000000',\n",
       "   'c_3_0_0': '200.100000',\n",
       "   'c_3_0_1': '201.500000',\n",
       "   'c_3_1_0': '201.900000',\n",
       "   'c_3_1_1': '204.300000',\n",
       "   'c_4_0_0': '261.500000',\n",
       "   'c_4_1_0': '253.700000',\n",
       "   'd_1_0_0': '4739.600000',\n",
       "   'd_1_0_1': '4796.000000',\n",
       "   'd_1_0_2': '4719.200000',\n",
       "   'd_1_0_3': '4711.800000',\n",
       "   'd_1_0_4': '4749.100000',\n",
       "   'd_1_0_5': '4683.700000',\n",
       "   'd_1_0_6': '4724.100000',\n",
       "   'd_1_0_7': '4682.100000',\n",
       "   'd_1_1_0': '5229.800000',\n",
       "   'd_1_1_1': '5233.400000',\n",
       "   'd_1_1_2': '5197.800000',\n",
       "   'd_1_1_3': '5246.300000',\n",
       "   'd_1_1_4': '5654.000000',\n",
       "   'd_1_1_5': '5654.800000',\n",
       "   'd_1_1_6': '82.100000',\n",
       "   'd_1_1_7': '82.100000',\n",
       "   'd_2_0_0': '157.000000',\n",
       "   'd_2_0_1': '128.800000',\n",
       "   'd_2_0_2': '127.100000',\n",
       "   'd_2_0_3': '128.100000',\n",
       "   'd_2_1_0': '170.000000',\n",
       "   'd_2_1_1': '168.300000',\n",
       "   'd_2_1_2': '166.900000',\n",
       "   'd_2_1_3': '165.900000',\n",
       "   'd_3_0_0': '210.100000',\n",
       "   'd_3_0_1': '201.500000',\n",
       "   'd_3_1_0': '202.700000',\n",
       "   'd_3_1_1': '202.700000',\n",
       "   'd_4_0_0': '231.000000',\n",
       "   'd_4_1_0': '231.700000',\n",
       "   'decryption': '984.700000',\n",
       "   'e_0_0': '4113.400000',\n",
       "   'e_0_1': '4107.900000',\n",
       "   'e_0_10': '4109.600000',\n",
       "   'e_0_11': '4057.200000',\n",
       "   'e_0_12': '4132.000000',\n",
       "   'e_0_13': '4053.900000',\n",
       "   'e_0_14': '4160.700000',\n",
       "   'e_0_15': '4121.100000',\n",
       "   'e_0_2': '4058.800000',\n",
       "   'e_0_3': '4113.300000',\n",
       "   'e_0_4': '4059.900000',\n",
       "   'e_0_5': '4101.700000',\n",
       "   'e_0_6': '4069.900000',\n",
       "   'e_0_7': '4276.500000',\n",
       "   'e_0_8': '4143.000000',\n",
       "   'e_0_9': '4063.300000',\n",
       "   'e_1_0': '100.700000',\n",
       "   'e_1_1': '112.000000',\n",
       "   'e_1_2': '112.400000',\n",
       "   'e_1_3': '106.000000',\n",
       "   'e_1_4': '113.100000',\n",
       "   'e_1_5': '152.400000',\n",
       "   'e_1_6': '113.400000',\n",
       "   'e_1_7': '115.200000',\n",
       "   'e_2_0': '169.200000',\n",
       "   'e_2_1': '166.400000',\n",
       "   'e_2_2': '167.500000',\n",
       "   'e_2_3': '164.700000',\n",
       "   'e_3_0': '232.500000',\n",
       "   'e_3_1': '227.800000',\n",
       "   'e_4_0': '279.600000',\n",
       "   'encryption': '121249.700000',\n",
       "   'evaluation': '274403.900000'}},\n",
       " 'status_code': 200}"
      ]
     },
     "execution_count": 14,
     "metadata": {},
     "output_type": "execute_result"
    }
   ],
   "source": [
    "results = sheep_client.get_results()\n",
    "results"
   ]
  },
  {
   "cell_type": "markdown",
   "metadata": {},
   "source": [
    "So we can see that we correctly selected the value '31'.\n",
    "\n",
    "Now lets upload this result to the database, and repeat using SEAL.\n"
   ]
  },
  {
   "cell_type": "code",
   "execution_count": 15,
   "metadata": {},
   "outputs": [
    {
     "data": {
      "text/plain": [
       "True"
      ]
     },
     "execution_count": 15,
     "metadata": {},
     "output_type": "execute_result"
    }
   ],
   "source": [
    "benchmark_utils.upload_results(\"PIR_32_2\")"
   ]
  },
  {
   "cell_type": "code",
   "execution_count": 16,
   "metadata": {},
   "outputs": [
    {
     "data": {
      "text/plain": [
       "{'content': '', 'status_code': 200}"
      ]
     },
     "execution_count": 16,
     "metadata": {},
     "output_type": "execute_result"
    }
   ],
   "source": [
    "sheep_client.new_job()\n",
    "sheep_client.set_context(\"SEAL\")\n",
    "sheep_client.set_input_type(\"int16_t\")\n",
    "sheep_client.set_circuit(circuit_file)\n",
    "sheep_client.set_inputs(data)\n",
    "sheep_client.set_timeout(120)\n",
    "sheep_client.run_job()"
   ]
  },
  {
   "cell_type": "code",
   "execution_count": 17,
   "metadata": {},
   "outputs": [
    {
     "data": {
      "text/plain": [
       "True"
      ]
     },
     "execution_count": 17,
     "metadata": {},
     "output_type": "execute_result"
    }
   ],
   "source": [
    "benchmark_utils.upload_results(\"PIR_32_2\")"
   ]
  },
  {
   "cell_type": "markdown",
   "metadata": {},
   "source": [
    "### Plotting the results\n",
    "\n",
    "We now have the benchmark results in the \"benchmarks\" table of the SQLite database.  We can query this, and see how long HElib and SEAL spent on each operation while processing this circuit."
   ]
  },
  {
   "cell_type": "code",
   "execution_count": 18,
   "metadata": {},
   "outputs": [
    {
     "data": {
      "text/html": [
       "<div>\n",
       "<style scoped>\n",
       "    .dataframe tbody tr th:only-of-type {\n",
       "        vertical-align: middle;\n",
       "    }\n",
       "\n",
       "    .dataframe tbody tr th {\n",
       "        vertical-align: top;\n",
       "    }\n",
       "\n",
       "    .dataframe thead th {\n",
       "        text-align: right;\n",
       "    }\n",
       "</style>\n",
       "<table border=\"1\" class=\"dataframe\">\n",
       "  <thead>\n",
       "    <tr style=\"text-align: right;\">\n",
       "      <th></th>\n",
       "      <th>Context</th>\n",
       "      <th>Gate</th>\n",
       "      <th>Time</th>\n",
       "    </tr>\n",
       "  </thead>\n",
       "  <tbody>\n",
       "    <tr>\n",
       "      <th>0</th>\n",
       "      <td>HElib_Fp</td>\n",
       "      <td>ADD</td>\n",
       "      <td>68075.1</td>\n",
       "    </tr>\n",
       "    <tr>\n",
       "      <th>1</th>\n",
       "      <td>HElib_Fp</td>\n",
       "      <td>MULTIPLY</td>\n",
       "      <td>114209.0</td>\n",
       "    </tr>\n",
       "    <tr>\n",
       "      <th>2</th>\n",
       "      <td>HElib_Fp</td>\n",
       "      <td>ALIAS</td>\n",
       "      <td>72677.7</td>\n",
       "    </tr>\n",
       "    <tr>\n",
       "      <th>3</th>\n",
       "      <td>SEAL</td>\n",
       "      <td>ADD</td>\n",
       "      <td>85186.3</td>\n",
       "    </tr>\n",
       "    <tr>\n",
       "      <th>4</th>\n",
       "      <td>SEAL</td>\n",
       "      <td>MULTIPLY</td>\n",
       "      <td>171658.3</td>\n",
       "    </tr>\n",
       "    <tr>\n",
       "      <th>5</th>\n",
       "      <td>SEAL</td>\n",
       "      <td>ALIAS</td>\n",
       "      <td>74746.2</td>\n",
       "    </tr>\n",
       "  </tbody>\n",
       "</table>\n",
       "</div>"
      ],
      "text/plain": [
       "    Context      Gate      Time\n",
       "0  HElib_Fp       ADD   68075.1\n",
       "1  HElib_Fp  MULTIPLY  114209.0\n",
       "2  HElib_Fp     ALIAS   72677.7\n",
       "3      SEAL       ADD   85186.3\n",
       "4      SEAL  MULTIPLY  171658.3\n",
       "5      SEAL     ALIAS   74746.2"
      ]
     },
     "execution_count": 18,
     "metadata": {},
     "output_type": "execute_result"
    }
   ],
   "source": [
    "circuit = sheep_client.get_circuit()[\"content\"][\"circuit\"]\n",
    "rows = session.query(BenchmarkMeasurement).filter_by(circuit_name=\"PIR_32_2\").all()\n",
    "df_dict = {\"Context\": [], \"Gate\": [], \"Time\": []}\n",
    "for row in rows:\n",
    "    timingdict = benchmark_utils.timing_per_gate_type(row.timings, circuit)\n",
    "    for k,v in timingdict.items():\n",
    "        df_dict[\"Context\"].append(row.context)\n",
    "        df_dict[\"Gate\"].append(k)\n",
    "        df_dict[\"Time\"].append(v)\n",
    "df = pd.DataFrame(df_dict)\n",
    "df"
   ]
  },
  {
   "cell_type": "code",
   "execution_count": 19,
   "metadata": {},
   "outputs": [
    {
     "data": {
      "text/plain": [
       "<matplotlib.axes._subplots.AxesSubplot at 0x7f6cd0957f60>"
      ]
     },
     "execution_count": 19,
     "metadata": {},
     "output_type": "execute_result"
    },
    {
     "data": {
      "image/png": "[encoded data removed]",
      "text/plain": [
       "<Figure size 432x288 with 1 Axes>"
      ]
     },
     "metadata": {},
     "output_type": "display_data"
    }
   ],
   "source": [
    "pivot_df = df.pivot(index='Context', columns='Gate', values='Time')\n",
    "pivot_df.plot(kind='bar',stacked=True)"
   ]
  },
  {
   "cell_type": "markdown",
   "metadata": {},
   "source": [
    "We can see that \"MULTIPLY\" is the most time-consuming operation, and SEAL is slightly slower than HElib."
   ]
  },
  {
   "cell_type": "markdown",
   "metadata": {},
   "source": [
    "# 2) Calculating mean and variance of a set of inputs\n",
    "\n",
    "One may wish to calculate statistical properties of a set of encrypted inputs, such as mean, standard deviation etc.   Currently the contexts implemented in SHEEP do not have \"Divide\" operations, so calculating these exact values via only homomorphic operations on the ciphertext is not possible.  \n",
    "\n",
    "However, the client will necessarily know \"N\", the number of inputs, so can perform division in the clear on the decrypted results of the homomorphic calculations.\n",
    "\n",
    "We therefore only need homomorphic addition and multiplication.  Simply summing the inputs $x_i$ gives us $N\\bar{x}$. \n",
    "Meanwhile $\\Sigma_{i=0}^N(Nx_i - N\\bar{x})^2$  is $N^3$ times the variance.\n",
    "\n"
   ]
  },
  {
   "cell_type": "code",
   "execution_count": 20,
   "metadata": {},
   "outputs": [
    {
     "data": {
      "text/plain": [
       "{'content': '', 'status_code': 200}"
      ]
     },
     "execution_count": 20,
     "metadata": {},
     "output_type": "execute_result"
    }
   ],
   "source": [
    "# reset the sheep server settings, - this time we'll use uint32_t and SEAL\n",
    "sheep_client.new_job()\n",
    "sheep_client.set_input_type(\"uint32_t\")\n",
    "sheep_client.set_context(\"SEAL\")"
   ]
  },
  {
   "cell_type": "markdown",
   "metadata": {},
   "source": [
    "Let's generate a circuit to calculate $(N \\times mean)$ and ($N^3 \\times variance)$ of a set of 10 inputs:"
   ]
  },
  {
   "cell_type": "code",
   "execution_count": 21,
   "metadata": {},
   "outputs": [
    {
     "name": "stdout",
     "output_type": "stream",
     "text": [
      "CONST_INPUTS N\n",
      "INPUTS x_0 x_1 x_2 x_3 x_4 x_5 x_6 x_7 x_8 x_9\n",
      "OUTPUTS Nxbar varianceN3\n",
      " x_0 x_1 ADD y_0\n",
      " y_0 x_2 ADD y_1\n",
      " y_1 x_3 ADD y_2\n",
      " y_2 x_4 ADD y_3\n",
      " y_3 x_5 ADD y_4\n",
      " y_4 x_6 ADD y_5\n",
      " y_5 x_7 ADD y_6\n",
      " y_6 x_8 ADD y_7\n",
      " y_7 x_9 ADD y_8\n",
      " y_8 ALIAS Nxbar\n",
      " x_0 N MULTBYCONST Nx_0\n",
      " Nxbar Nx_0 SUBTRACT v_0\n",
      " v_0 ALIAS vv_0\n",
      " v_0 vv_0 MULTIPLY s_0\n",
      " x_1 N MULTBYCONST Nx_1\n",
      " Nxbar Nx_1 SUBTRACT v_1\n",
      " v_1 ALIAS vv_1\n",
      " v_1 vv_1 MULTIPLY s_1\n",
      " x_2 N MULTBYCONST Nx_2\n",
      " Nxbar Nx_2 SUBTRACT v_2\n",
      " v_2 ALIAS vv_2\n",
      " v_2 vv_2 MULTIPLY s_2\n",
      " x_3 N MULTBYCONST Nx_3\n",
      " Nxbar Nx_3 SUBTRACT v_3\n",
      " v_3 ALIAS vv_3\n",
      " v_3 vv_3 MULTIPLY s_3\n",
      " x_4 N MULTBYCONST Nx_4\n",
      " Nxbar Nx_4 SUBTRACT v_4\n",
      " v_4 ALIAS vv_4\n",
      " v_4 vv_4 MULTIPLY s_4\n",
      " x_5 N MULTBYCONST Nx_5\n",
      " Nxbar Nx_5 SUBTRACT v_5\n",
      " v_5 ALIAS vv_5\n",
      " v_5 vv_5 MULTIPLY s_5\n",
      " x_6 N MULTBYCONST Nx_6\n",
      " Nxbar Nx_6 SUBTRACT v_6\n",
      " v_6 ALIAS vv_6\n",
      " v_6 vv_6 MULTIPLY s_6\n",
      " x_7 N MULTBYCONST Nx_7\n",
      " Nxbar Nx_7 SUBTRACT v_7\n",
      " v_7 ALIAS vv_7\n",
      " v_7 vv_7 MULTIPLY s_7\n",
      " x_8 N MULTBYCONST Nx_8\n",
      " Nxbar Nx_8 SUBTRACT v_8\n",
      " v_8 ALIAS vv_8\n",
      " v_8 vv_8 MULTIPLY s_8\n",
      " x_9 N MULTBYCONST Nx_9\n",
      " Nxbar Nx_9 SUBTRACT v_9\n",
      " v_9 ALIAS vv_9\n",
      " v_9 vv_9 MULTIPLY s_9\n",
      " s_0 s_1 ADD ss_0\n",
      " ss_0 s_2 ADD ss_1\n",
      " ss_1 s_3 ADD ss_2\n",
      " ss_2 s_4 ADD ss_3\n",
      " ss_3 s_5 ADD ss_4\n",
      " ss_4 s_6 ADD ss_5\n",
      " ss_5 s_7 ADD ss_6\n",
      " ss_6 s_8 ADD ss_7\n",
      " ss_7 s_9 ADD ss_8\n",
      " ss_8 ALIAS varianceN3\n",
      "\n"
     ]
    }
   ],
   "source": [
    "num_inputs = 10\n",
    "circuit_file = generate_variance_circuit(num_inputs)\n",
    "sheep_client.set_circuit(circuit_file)\n",
    "print(sheep_client.get_circuit()[\"content\"][\"circuit\"])"
   ]
  },
  {
   "cell_type": "markdown",
   "metadata": {},
   "source": [
    "To generate the inputs, lets use a Gaussian with $\\mu=50$ and $\\sigma = 10$ (all input values rounded to integers):"
   ]
  },
  {
   "cell_type": "code",
   "execution_count": 22,
   "metadata": {},
   "outputs": [
    {
     "data": {
      "text/plain": [
       "{'x_0': [31],\n",
       " 'x_1': [45],\n",
       " 'x_2': [56],\n",
       " 'x_3': [58],\n",
       " 'x_4': [50],\n",
       " 'x_5': [48],\n",
       " 'x_6': [69],\n",
       " 'x_7': [54],\n",
       " 'x_8': [54],\n",
       " 'x_9': [53]}"
      ]
     },
     "execution_count": 22,
     "metadata": {},
     "output_type": "execute_result"
    }
   ],
   "source": [
    "input_vals = generate_gaussian_inputs(num_inputs,50,10)\n",
    "input_vals"
   ]
  },
  {
   "cell_type": "code",
   "execution_count": 23,
   "metadata": {},
   "outputs": [
    {
     "data": {
      "text/plain": [
       "{'content': '', 'status_code': 200}"
      ]
     },
     "execution_count": 23,
     "metadata": {},
     "output_type": "execute_result"
    }
   ],
   "source": [
    "sheep_client.set_inputs(input_vals)\n",
    "sheep_client.set_const_inputs({\"N\": 10})"
   ]
  },
  {
   "cell_type": "code",
   "execution_count": 24,
   "metadata": {},
   "outputs": [],
   "source": [
    "sheep_client.run_job()\n",
    "results = sheep_client.get_results()['content']"
   ]
  },
  {
   "cell_type": "code",
   "execution_count": 25,
   "metadata": {},
   "outputs": [
    {
     "data": {
      "text/plain": [
       "{'Nxbar': ['518'], 'varianceN3': ['4038']}"
      ]
     },
     "execution_count": 25,
     "metadata": {},
     "output_type": "execute_result"
    }
   ],
   "source": [
    "results[\"outputs\"]"
   ]
  },
  {
   "cell_type": "markdown",
   "metadata": {},
   "source": [
    "In the clear, we can then divide these by $N$ and $N^3$ respectively:"
   ]
  },
  {
   "cell_type": "code",
   "execution_count": 26,
   "metadata": {},
   "outputs": [
    {
     "name": "stdout",
     "output_type": "stream",
     "text": [
      "51.8 4.038\n"
     ]
    }
   ],
   "source": [
    "print(float(results[\"outputs\"][\"Nxbar\"][0])/num_inputs , float(results[\"outputs\"][\"varianceN3\"][0])/pow(num_inputs,3))"
   ]
  },
  {
   "cell_type": "markdown",
   "metadata": {},
   "source": [
    "# 3) Bitonic sort\n",
    "\n",
    "Sorting a list of inputs is another non-trivial operation that can be performed using a combination of straightforward homomorphic operations - namely \"Select\" and \"Compare\".\n"
   ]
  },
  {
   "cell_type": "code",
   "execution_count": 27,
   "metadata": {},
   "outputs": [
    {
     "data": {
      "text/plain": [
       "{'content': '', 'status_code': 200}"
      ]
     },
     "execution_count": 27,
     "metadata": {},
     "output_type": "execute_result"
    }
   ],
   "source": [
    "sheep_client.new_job()\n",
    "sheep_client.set_input_type(\"int8_t\")\n",
    "sheep_client.set_context(\"HElib_F2\")\n",
    "circuit_file = os.path.join(SHEEP_HOME,\"benchmark_inputs\",\"mid_level\",\"circuits\",\"circuit-bitonic-sort-4.sheep\")\n",
    "sheep_client.set_circuit(circuit_file)"
   ]
  },
  {
   "cell_type": "markdown",
   "metadata": {},
   "source": [
    "What inputs does this circuit expect?"
   ]
  },
  {
   "cell_type": "code",
   "execution_count": 28,
   "metadata": {},
   "outputs": [
    {
     "data": {
      "text/plain": [
       "{'content': ['i0', 'i1', 'i2', 'i3'], 'status_code': 200}"
      ]
     },
     "execution_count": 28,
     "metadata": {},
     "output_type": "execute_result"
    }
   ],
   "source": [
    "sheep_client.get_inputs()"
   ]
  },
  {
   "cell_type": "code",
   "execution_count": 29,
   "metadata": {},
   "outputs": [
    {
     "data": {
      "text/plain": [
       "{'content': '', 'status_code': 200}"
      ]
     },
     "execution_count": 29,
     "metadata": {},
     "output_type": "execute_result"
    }
   ],
   "source": [
    "sheep_client.set_inputs({\"i0\":[4],\"i1\":[8],\"i2\":[1],\"i3\": [3]})"
   ]
  },
  {
   "cell_type": "code",
   "execution_count": 30,
   "metadata": {},
   "outputs": [],
   "source": [
    "sheep_client.set_timeout(120)\n",
    "sheep_client.run_job()\n",
    "results_helib = sheep_client.get_results()['content']"
   ]
  },
  {
   "cell_type": "code",
   "execution_count": 31,
   "metadata": {},
   "outputs": [
    {
     "data": {
      "text/plain": [
       "{'w31': ['1'], 'w32': ['3'], 'w36': ['4'], 'w37': ['8']}"
      ]
     },
     "execution_count": 31,
     "metadata": {},
     "output_type": "execute_result"
    }
   ],
   "source": [
    "results_helib[\"outputs\"]"
   ]
  },
  {
   "cell_type": "markdown",
   "metadata": {},
   "source": [
    "So we can see that we now have the outputs in the correct order.\n",
    "\n",
    "Now lets upload the results to the database and then do the same test with TFHE."
   ]
  },
  {
   "cell_type": "code",
   "execution_count": 32,
   "metadata": {},
   "outputs": [
    {
     "data": {
      "text/plain": [
       "True"
      ]
     },
     "execution_count": 32,
     "metadata": {},
     "output_type": "execute_result"
    }
   ],
   "source": [
    "benchmark_utils.upload_results(\"bitonic_sort_4\")"
   ]
  },
  {
   "cell_type": "code",
   "execution_count": 33,
   "metadata": {},
   "outputs": [
    {
     "data": {
      "text/plain": [
       "{'content': '', 'status_code': 200}"
      ]
     },
     "execution_count": 33,
     "metadata": {},
     "output_type": "execute_result"
    }
   ],
   "source": [
    "sheep_client.new_job()\n",
    "sheep_client.set_timeout(120)\n",
    "sheep_client.set_input_type(\"int8_t\")\n",
    "sheep_client.set_context(\"TFHE\")\n",
    "sheep_client.set_circuit(circuit_file)\n",
    "sheep_client.set_inputs({\"i0\":[4],\"i1\":[8],\"i2\":[1],\"i3\": [3]})\n",
    "sheep_client.run_job()\n"
   ]
  },
  {
   "cell_type": "code",
   "execution_count": 34,
   "metadata": {},
   "outputs": [],
   "source": [
    "results_tfhe = sheep_client.get_results()"
   ]
  },
  {
   "cell_type": "code",
   "execution_count": 35,
   "metadata": {},
   "outputs": [
    {
     "data": {
      "text/plain": [
       "{'content': {'cleartext check': {'is_correct': True},\n",
       "  'outputs': {'w31': ['1'], 'w32': ['3'], 'w36': ['4'], 'w37': ['8']},\n",
       "  'timings': {'decryption': '37.000000',\n",
       "   'encryption': '772.700000',\n",
       "   'evaluation': '8724250.100000',\n",
       "   'w10': '9.900000',\n",
       "   'w11': '8.700000',\n",
       "   'w12': '789722.400000',\n",
       "   'w13': '331722.900000',\n",
       "   'w14': '330882.400000',\n",
       "   'w15': '795577.300000',\n",
       "   'w16': '334908.900000',\n",
       "   'w17': '331435.500000',\n",
       "   'w22': '795884.300000',\n",
       "   'w23': '333318.600000',\n",
       "   'w24': '334056.900000',\n",
       "   'w25': '10.000000',\n",
       "   'w26': '8.700000',\n",
       "   'w27': '796605.300000',\n",
       "   'w28': '334809.000000',\n",
       "   'w29': '304421.200000',\n",
       "   'w30': '9.900000',\n",
       "   'w31': '8.700000',\n",
       "   'w32': '13.500000',\n",
       "   'w33': '8.700000',\n",
       "   'w34': '788366.700000',\n",
       "   'w35': '333546.400000',\n",
       "   'w36': '332424.100000',\n",
       "   'w37': '10.000000',\n",
       "   'w4': '8.800000',\n",
       "   'w5': '8.900000',\n",
       "   'w6': '8.700000',\n",
       "   'w7': '787977.500000',\n",
       "   'w8': '333742.300000',\n",
       "   'w9': '333716.800000'}},\n",
       " 'status_code': 200}"
      ]
     },
     "execution_count": 35,
     "metadata": {},
     "output_type": "execute_result"
    }
   ],
   "source": [
    "results_tfhe"
   ]
  },
  {
   "cell_type": "code",
   "execution_count": 36,
   "metadata": {},
   "outputs": [
    {
     "data": {
      "text/plain": [
       "True"
      ]
     },
     "execution_count": 36,
     "metadata": {},
     "output_type": "execute_result"
    }
   ],
   "source": [
    "benchmark_utils.upload_results(\"bitonic_sort_4\")"
   ]
  },
  {
   "cell_type": "markdown",
   "metadata": {},
   "source": [
    "### Plotting the results\n",
    "\n",
    "Lets compare how TFHE and HElib_F2 did on the 4-element bitonic sort circuit."
   ]
  },
  {
   "cell_type": "code",
   "execution_count": 37,
   "metadata": {},
   "outputs": [
    {
     "data": {
      "text/html": [
       "<div>\n",
       "<style scoped>\n",
       "    .dataframe tbody tr th:only-of-type {\n",
       "        vertical-align: middle;\n",
       "    }\n",
       "\n",
       "    .dataframe tbody tr th {\n",
       "        vertical-align: top;\n",
       "    }\n",
       "\n",
       "    .dataframe thead th {\n",
       "        text-align: right;\n",
       "    }\n",
       "</style>\n",
       "<table border=\"1\" class=\"dataframe\">\n",
       "  <thead>\n",
       "    <tr style=\"text-align: right;\">\n",
       "      <th></th>\n",
       "      <th>Context</th>\n",
       "      <th>Gate</th>\n",
       "      <th>Time</th>\n",
       "    </tr>\n",
       "  </thead>\n",
       "  <tbody>\n",
       "    <tr>\n",
       "      <th>0</th>\n",
       "      <td>HElib_F2</td>\n",
       "      <td>SELECT</td>\n",
       "      <td>27455476.5</td>\n",
       "    </tr>\n",
       "    <tr>\n",
       "      <th>1</th>\n",
       "      <td>HElib_F2</td>\n",
       "      <td>COMPARE</td>\n",
       "      <td>8949999.7</td>\n",
       "    </tr>\n",
       "    <tr>\n",
       "      <th>2</th>\n",
       "      <td>HElib_F2</td>\n",
       "      <td>ALIAS</td>\n",
       "      <td>9177004.6</td>\n",
       "    </tr>\n",
       "    <tr>\n",
       "      <th>3</th>\n",
       "      <td>TFHE</td>\n",
       "      <td>SELECT</td>\n",
       "      <td>5138513.2</td>\n",
       "    </tr>\n",
       "    <tr>\n",
       "      <th>4</th>\n",
       "      <td>TFHE</td>\n",
       "      <td>COMPARE</td>\n",
       "      <td>1462443.6</td>\n",
       "    </tr>\n",
       "    <tr>\n",
       "      <th>5</th>\n",
       "      <td>TFHE</td>\n",
       "      <td>ALIAS</td>\n",
       "      <td>2122276.2</td>\n",
       "    </tr>\n",
       "  </tbody>\n",
       "</table>\n",
       "</div>"
      ],
      "text/plain": [
       "    Context     Gate        Time\n",
       "0  HElib_F2   SELECT  27455476.5\n",
       "1  HElib_F2  COMPARE   8949999.7\n",
       "2  HElib_F2    ALIAS   9177004.6\n",
       "3      TFHE   SELECT   5138513.2\n",
       "4      TFHE  COMPARE   1462443.6\n",
       "5      TFHE    ALIAS   2122276.2"
      ]
     },
     "execution_count": 37,
     "metadata": {},
     "output_type": "execute_result"
    }
   ],
   "source": [
    "circuit = sheep_client.get_circuit()[\"content\"][\"circuit\"]\n",
    "rows = session.query(BenchmarkMeasurement).filter_by(circuit_name=\"bitonic_sort_4\").all()\n",
    "df_dict = {\"Context\": [], \"Gate\": [], \"Time\": []}\n",
    "for row in rows:\n",
    "    timingdict = benchmark_utils.timing_per_gate_type(row.timings, circuit)\n",
    "    for k,v in timingdict.items():\n",
    "        df_dict[\"Context\"].append(row.context)\n",
    "        df_dict[\"Gate\"].append(k)\n",
    "        df_dict[\"Time\"].append(v)\n",
    "df = pd.DataFrame(df_dict)\n",
    "df"
   ]
  },
  {
   "cell_type": "code",
   "execution_count": 38,
   "metadata": {},
   "outputs": [
    {
     "data": {
      "text/plain": [
       "<matplotlib.axes._subplots.AxesSubplot at 0x7f6cd02a2da0>"
      ]
     },
     "execution_count": 38,
     "metadata": {},
     "output_type": "execute_result"
    },
    {
     "data": {
      "image/png": "[encoded data removed]",
      "text/plain": [
       "<Figure size 432x288 with 1 Axes>"
      ]
     },
     "metadata": {},
     "output_type": "display_data"
    }
   ],
   "source": [
    "pivot_df = df.pivot(index='Context', columns='Gate', values='Time')\n",
    "pivot_df.plot(kind='bar',stacked=True)"
   ]
  },
  {
   "cell_type": "markdown",
   "metadata": {},
   "source": [
    "So we can see that for this bitonic sort circuit, SELECT is the most time-consuming operation, and TFHE is substantially faster than HElib_F2."
   ]
  }
 ],
 "metadata": {
  "kernelspec": {
   "display_name": "Python 3",
   "language": "python",
   "name": "python3"
  },
  "language_info": {
   "codemirror_mode": {
    "name": "ipython",
    "version": 3
   },
   "file_extension": ".py",
   "mimetype": "text/x-python",
   "name": "python",
   "nbconvert_exporter": "python",
   "pygments_lexer": "ipython3",
   "version": "3.5.2"
  }
 },
 "nbformat": 4,
 "nbformat_minor": 2
}
