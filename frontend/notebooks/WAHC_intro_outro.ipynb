{
 "cells": [
  {
   "cell_type": "markdown",
   "metadata": {
    "slideshow": {
     "slide_type": "slide"
    }
   },
   "source": [
    "# SHEEP: <br> a Homomorphic Encryption Evaluation Platform\n",
    "\n",
    "Nick Barlow<br>\n",
    "Adria Gascon<br>\n",
    "Tomas Lazauskas<br>\n",
    "Oliver Strickson<br>\n",
    "\n",
    "<img src=\"turing_logo.webp\" alt=\"Turing Logo\" width=\"15%\" align=\"left\" />\n",
    "\n",
    "<br clear=\"all\" />\n",
    "\n",
    "**7th WAHC, November 11, 2019, Hilton Metropole, London, UK**\n",
    "\n",
    "Acknowledgements: Matt Kusner, Amartya Sanyal, Varun Kanade, Mariana Raykova, Shai Halevi, Kim Laine\n"
   ]
  },
  {
   "cell_type": "markdown",
   "metadata": {
    "slideshow": {
     "slide_type": "slide"
    }
   },
   "source": [
    "Brief overview of problem we are trying to solve"
   ]
  },
  {
   "cell_type": "markdown",
   "metadata": {
    "slideshow": {
     "slide_type": "slide"
    }
   },
   "source": [
    "## Who we are\n",
    "\n",
    "<div>\n",
    "<img src=\"adria.jpg\" alt=\"Adria\" width=\"15%\" style=\"float:left;padding:5px\"/>\n",
    "<br clear=\"all\" />\n",
    "Adria Gascon, Turing Fellow, The Alan Turing Institute (and now Google)\n",
    "</div>\n",
    "\n",
    "<div>\n",
    "<img src=\"nick.jpg\" alt=\"Nick\" width=\"15%\" style=\"float:left;padding:5px\"/>\n",
    "<img src=\"tomas.jpg\" alt=\"Tomas\" width=\"15%\" style=\"float:left;padding:5px\"/>\n",
    "<img src=\"oliver.jpg\" alt=\"Oliver\" width=\"15%\" style=\"float:left;padding:5px\"/>\n",
    "<br clear=\"all\" />\n",
    "Nick, Tomas, Oliver: Research Engineering, The Alan Turing Institute\n",
    "</div>\n",
    "\n"
   ]
  },
  {
   "cell_type": "markdown",
   "metadata": {
    "slideshow": {
     "slide_type": "slide"
    }
   },
   "source": [
    "## Research Engineering\n",
    "\n",
    "The Alan Turing Institute is the UK's national centre for data science and AI\n",
    "\n",
    "Research Engineering is a team of research software engineers and data scientists\n",
    "\n",
    " -- Few more words about REG --"
   ]
  },
  {
   "cell_type": "markdown",
   "metadata": {
    "slideshow": {
     "slide_type": "slide"
    }
   },
   "source": [
    "More background to SHEEP project"
   ]
  },
  {
   "cell_type": "markdown",
   "metadata": {
    "slideshow": {
     "slide_type": "slide"
    }
   },
   "source": [
    "<img src='SHEEP_diagram.png' alt=\"SHEEP diagram\" width=\"50%\"/>"
   ]
  },
  {
   "cell_type": "markdown",
   "metadata": {
    "slideshow": {
     "slide_type": "slide"
    }
   },
   "source": [
    "More background to SHEEP project (II)"
   ]
  },
  {
   "cell_type": "markdown",
   "metadata": {
    "slideshow": {
     "slide_type": "slide"
    }
   },
   "source": [
    "---- OUTRO ----"
   ]
  },
  {
   "cell_type": "markdown",
   "metadata": {
    "slideshow": {
     "slide_type": "slide"
    }
   },
   "source": [
    "## Summary"
   ]
  },
  {
   "cell_type": "markdown",
   "metadata": {
    "slideshow": {
     "slide_type": "slide"
    }
   },
   "source": [
    "Current State of the project/next steps/"
   ]
  }
 ],
 "metadata": {
  "celltoolbar": "Slideshow",
  "kernelspec": {
   "display_name": "Python 3",
   "language": "python",
   "name": "python3"
  },
  "language_info": {
   "codemirror_mode": {
    "name": "ipython",
    "version": 3
   },
   "file_extension": ".py",
   "mimetype": "text/x-python",
   "name": "python",
   "nbconvert_exporter": "python",
   "pygments_lexer": "ipython3",
   "version": "3.6.5"
  }
 },
 "nbformat": 4,
 "nbformat_minor": 2
}
