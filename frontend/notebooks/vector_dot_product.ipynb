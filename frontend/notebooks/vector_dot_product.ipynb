{
 "cells": [
  {
   "cell_type": "markdown",
   "metadata": {},
   "source": [
    "## Using SIMD operations and \"rotate\" gate to perform vector dot product\n",
    "\n",
    "A powerful feature of some HE schemes is the ability to perform SIMD operations, doing the same calculation on multiple \"slots\" (i.e. elements of a vector).  The first part of a vector dot product - the component-wise multiplication - is therefore trivial.  However, we then need to sum over the elements to obtain the scalar product.  This can be done using ROTATE and ADD operations, as demonstrated in this notebook."
   ]
  },
  {
   "cell_type": "code",
   "execution_count": 1,
   "metadata": {},
   "outputs": [],
   "source": [
    "import os\n",
    "if \"SHEEP_HOME\" in os.environ.keys():\n",
    "  SHEEP_HOME = os.environ[\"SHEEP_HOME\"]\n",
    "else:\n",
    "  SHEEP_HOME = os.path.join(os.environ[\"HOME\"],\"SHEEP\",\"frontend\")\n",
    "import sys\n",
    "sys.path.append(SHEEP_HOME)\n",
    "\n",
    "from pysheep import sheep_client"
   ]
  },
  {
   "cell_type": "code",
   "execution_count": 2,
   "metadata": {},
   "outputs": [
    {
     "data": {
      "text/plain": [
       "{'content': '', 'status_code': 200}"
      ]
     },
     "execution_count": 2,
     "metadata": {},
     "output_type": "execute_result"
    }
   ],
   "source": [
    "sheep_client.new_job()"
   ]
  },
  {
   "cell_type": "code",
   "execution_count": 4,
   "metadata": {},
   "outputs": [
    {
     "data": {
      "text/plain": [
       "{'content': {'nslots': 2048}, 'status_code': 200}"
      ]
     },
     "execution_count": 4,
     "metadata": {},
     "output_type": "execute_result"
    }
   ],
   "source": [
    "sheep_client.set_context(\"SEAL\")\n",
    "sheep_client.set_input_type(\"int8_t\")\n",
    "sheep_client.get_nslots()"
   ]
  },
  {
   "cell_type": "markdown",
   "metadata": {},
   "source": [
    "With this set of parameters, we have 4 slots available, so can do a dot product of two 4-component vectors.\n",
    "The circuit to perform this operation will be a MULTIPLY followed by a sequence of 3 ROTATEs and ADDs."
   ]
  },
  {
   "cell_type": "code",
   "execution_count": 5,
   "metadata": {},
   "outputs": [],
   "source": [
    "circuit = \"\"\"\n",
    "INPUTS input_0 input_1\n",
    "CONST_INPUTS rotate_1\n",
    "OUTPUTS output\n",
    "input_0 input_1 MULTIPLY prod_r0\n",
    "prod_r0 rotate_1 ROTATE prod_r1\n",
    "prod_r0 prod_r1 ADD prod_s1\n",
    "prod_r1 rotate_1 ROTATE prod_r2\n",
    "prod_s1 prod_r2 ADD prod_s2\n",
    "prod_r2 rotate_1 ROTATE prod_r3\n",
    "prod_s2 prod_r3 ADD output\n",
    "\"\"\""
   ]
  },
  {
   "cell_type": "code",
   "execution_count": 6,
   "metadata": {},
   "outputs": [
    {
     "data": {
      "text/plain": [
       "{'content': ['input_0', 'input_1'], 'status_code': 200}"
      ]
     },
     "execution_count": 6,
     "metadata": {},
     "output_type": "execute_result"
    }
   ],
   "source": [
    "sheep_client.set_circuit_text(circuit)\n",
    "sheep_client.get_inputs()"
   ]
  },
  {
   "cell_type": "markdown",
   "metadata": {},
   "source": [
    "So the two input vectors are called input_0 and input_1. Let's assign them the values {1,2,3,4} and {5,6,7,8}"
   ]
  },
  {
   "cell_type": "code",
   "execution_count": 7,
   "metadata": {},
   "outputs": [
    {
     "data": {
      "text/plain": [
       "{'content': '', 'status_code': 200}"
      ]
     },
     "execution_count": 7,
     "metadata": {},
     "output_type": "execute_result"
    }
   ],
   "source": [
    "sheep_client.set_inputs({\"input_0\": [1,2,3,4], \"input_1\": [5,6,7,8]})"
   ]
  },
  {
   "cell_type": "code",
   "execution_count": 8,
   "metadata": {},
   "outputs": [
    {
     "data": {
      "text/plain": [
       "{'content': ['rotate_1'], 'status_code': 200}"
      ]
     },
     "execution_count": 8,
     "metadata": {},
     "output_type": "execute_result"
    }
   ],
   "source": [
    "sheep_client.get_const_inputs()"
   ]
  },
  {
   "cell_type": "markdown",
   "metadata": {},
   "source": [
    "The circuit also takes a \"const input\" (that won't be encrypted) - this is how much we will ROTATE the vector by in each step, so just set it to -1"
   ]
  },
  {
   "cell_type": "code",
   "execution_count": 9,
   "metadata": {},
   "outputs": [
    {
     "data": {
      "text/plain": [
       "{'content': '', 'status_code': 200}"
      ]
     },
     "execution_count": 9,
     "metadata": {},
     "output_type": "execute_result"
    }
   ],
   "source": [
    "sheep_client.set_const_inputs({\"rotate_1\": -1})"
   ]
  },
  {
   "cell_type": "code",
   "execution_count": 10,
   "metadata": {},
   "outputs": [
    {
     "data": {
      "text/plain": [
       "{'content': '', 'status_code': 200}"
      ]
     },
     "execution_count": 10,
     "metadata": {},
     "output_type": "execute_result"
    }
   ],
   "source": [
    "sheep_client.run_job()"
   ]
  },
  {
   "cell_type": "code",
   "execution_count": 11,
   "metadata": {},
   "outputs": [
    {
     "data": {
      "text/plain": [
       "{'content': {'cleartext check': {'is_correct': True},\n",
       "  'outputs': {'output': ['70,70,70,70']},\n",
       "  'timings': {'decryption': '673.100000',\n",
       "   'encryption': '1869.500000',\n",
       "   'evaluation': '9188.300000',\n",
       "   'output': '57.100000',\n",
       "   'prod_r0': '117.700000',\n",
       "   'prod_r1': '5285.300000',\n",
       "   'prod_r2': '786.700000',\n",
       "   'prod_r3': '92.900000',\n",
       "   'prod_s1': '1624.800000',\n",
       "   'prod_s2': '852.800000'}},\n",
       " 'status_code': 200}"
      ]
     },
     "execution_count": 11,
     "metadata": {},
     "output_type": "execute_result"
    }
   ],
   "source": [
    "sheep_client.get_results()"
   ]
  },
  {
   "cell_type": "markdown",
   "metadata": {},
   "source": [
    "So, the output is '70,70,70,70' (we always get an output vector the same length as our input vector, even though in this case we only need one number), and 70 is indeed the scalar product of {1,2,3,4} and {5,6,7,8}.  \n"
   ]
  },
  {
   "cell_type": "markdown",
   "metadata": {},
   "source": [
    "## Generalizing, and generating circuits\n",
    "\n",
    "We probably don't want to write circuits by hand, particularly if we are dealing with long vectors (HElib and SEAL can, depending on parameter choices, offer thousands of slots).   We can write a simple python function to generate circuits for arbitrary length vectors:"
   ]
  },
  {
   "cell_type": "code",
   "execution_count": 12,
   "metadata": {},
   "outputs": [],
   "source": [
    "def generate_vector_dot_product_circuit(input_0, input_1):\n",
    "    \"\"\"\n",
    "    Given two input lists (must be equal in length) generate a SHEEP circuit to do the dot product\n",
    "    \"\"\"\n",
    "    if len(input_0) != len(input_1):\n",
    "        raise RuntimeError(\"input_0 and input_1 must be the same length\")\n",
    "    circuit_str = \"INPUTS input_0 input_1\\nCONST_INPUTS rotate_1\\nOUTPUTS output prod_s1 prod_s2 prod_s3\\ninput_0 input_1 MULTIPLY prod_r0\\n\"\n",
    "    for i in range(len(input_0)-1):\n",
    "        circuit_str += \"prod_r{} rotate_1 ROTATE prod_r{}\\n\".format(i,i+1)\n",
    "        if i==0:\n",
    "            circuit_str += \"prod_r0 prod_r1 ADD prod_s1\\n\"\n",
    "        else:\n",
    "            circuit_str += \"prod_s{} prod_r{} ADD prod_s{}\\n\".format(i,i+1,i+1)\n",
    "    circuit_str += \"prod_s{} ALIAS output\\n\".format(i+1)\n",
    "    return circuit_str"
   ]
  },
  {
   "cell_type": "markdown",
   "metadata": {},
   "source": [
    "(Note that this function is also available in ```pysheep/mid_level_benchmarks.py```)"
   ]
  },
  {
   "cell_type": "markdown",
   "metadata": {},
   "source": [
    "So, let's do a longer calculation in SEAL - multiply 2 vectors with 100 elements each, where each element is a random number between -10 and 10"
   ]
  },
  {
   "cell_type": "code",
   "execution_count": 28,
   "metadata": {},
   "outputs": [],
   "source": [
    "import random\n",
    "input_0 = []\n",
    "input_1 = []\n",
    "for i in range(100):\n",
    "    input_0.append(random.randint(-10,10))\n",
    "    input_1.append(random.randint(-10,10))"
   ]
  },
  {
   "cell_type": "markdown",
   "metadata": {},
   "source": [
    "Lets quickly do the calculation in the clear so we know what answer to expect:"
   ]
  },
  {
   "cell_type": "code",
   "execution_count": 29,
   "metadata": {},
   "outputs": [
    {
     "data": {
      "text/plain": [
       "-54"
      ]
     },
     "execution_count": 29,
     "metadata": {},
     "output_type": "execute_result"
    }
   ],
   "source": [
    "sum = 0\n",
    "for i in range(len(input_0)):\n",
    "    sum += input_0[i]*input_1[i]\n",
    "sum"
   ]
  },
  {
   "cell_type": "code",
   "execution_count": 30,
   "metadata": {},
   "outputs": [
    {
     "data": {
      "text/plain": [
       "{'content': '', 'status_code': 200}"
      ]
     },
     "execution_count": 30,
     "metadata": {},
     "output_type": "execute_result"
    }
   ],
   "source": [
    "sheep_client.new_job()"
   ]
  },
  {
   "cell_type": "code",
   "execution_count": 31,
   "metadata": {},
   "outputs": [
    {
     "data": {
      "text/plain": [
       "{'content': '', 'status_code': 200}"
      ]
     },
     "execution_count": 31,
     "metadata": {},
     "output_type": "execute_result"
    }
   ],
   "source": [
    "sheep_client.set_context(\"SEAL\")"
   ]
  },
  {
   "cell_type": "code",
   "execution_count": 32,
   "metadata": {},
   "outputs": [
    {
     "data": {
      "text/plain": [
       "{'content': '', 'status_code': 200}"
      ]
     },
     "execution_count": 32,
     "metadata": {},
     "output_type": "execute_result"
    }
   ],
   "source": [
    "sheep_client.set_input_type(\"int16_t\")"
   ]
  },
  {
   "cell_type": "code",
   "execution_count": 33,
   "metadata": {},
   "outputs": [
    {
     "data": {
      "text/plain": [
       "{'content': {'nslots': 2048}, 'status_code': 200}"
      ]
     },
     "execution_count": 33,
     "metadata": {},
     "output_type": "execute_result"
    }
   ],
   "source": [
    "sheep_client.get_nslots()"
   ]
  },
  {
   "cell_type": "code",
   "execution_count": 34,
   "metadata": {},
   "outputs": [
    {
     "data": {
      "text/plain": [
       "{'content': '', 'status_code': 200}"
      ]
     },
     "execution_count": 34,
     "metadata": {},
     "output_type": "execute_result"
    }
   ],
   "source": [
    "circuit = generate_vector_dot_product_circuit(input_0,input_1)\n",
    "sheep_client.set_circuit_text(circuit)"
   ]
  },
  {
   "cell_type": "code",
   "execution_count": 35,
   "metadata": {},
   "outputs": [
    {
     "data": {
      "text/plain": [
       "{'content': '', 'status_code': 200}"
      ]
     },
     "execution_count": 35,
     "metadata": {},
     "output_type": "execute_result"
    }
   ],
   "source": [
    "sheep_client.set_inputs({\"input_0\":input_0, \"input_1\": input_1})"
   ]
  },
  {
   "cell_type": "code",
   "execution_count": 36,
   "metadata": {},
   "outputs": [
    {
     "data": {
      "text/plain": [
       "{'content': '', 'status_code': 200}"
      ]
     },
     "execution_count": 36,
     "metadata": {},
     "output_type": "execute_result"
    }
   ],
   "source": [
    "sheep_client.set_const_inputs({\"rotate_1\": -1})"
   ]
  },
  {
   "cell_type": "code",
   "execution_count": 37,
   "metadata": {},
   "outputs": [
    {
     "data": {
      "text/plain": [
       "{'content': '', 'status_code': 200}"
      ]
     },
     "execution_count": 37,
     "metadata": {},
     "output_type": "execute_result"
    }
   ],
   "source": [
    "sheep_client.set_timeout(60)"
   ]
  },
  {
   "cell_type": "code",
   "execution_count": 38,
   "metadata": {},
   "outputs": [
    {
     "data": {
      "text/plain": [
       "{'content': '', 'status_code': 200}"
      ]
     },
     "execution_count": 38,
     "metadata": {},
     "output_type": "execute_result"
    }
   ],
   "source": [
    "sheep_client.run_job()"
   ]
  },
  {
   "cell_type": "code",
   "execution_count": 39,
   "metadata": {},
   "outputs": [
    {
     "data": {
      "text/plain": [
       "{'cleartext check': {'is_correct': True},\n",
       " 'outputs': {'output': ['-54,-54,-54,-54,-54,-54,-54,-54,-54,-54,-54,-54,-54,-54,-54,-54,-54,-54,-54,-54,-54,-54,-54,-54,-54,-54,-54,-54,-54,-54,-54,-54,-54,-54,-54,-54,-54,-54,-54,-54,-54,-54,-54,-54,-54,-54,-54,-54,-54,-54,-54,-54,-54,-54,-54,-54,-54,-54,-54,-54,-54,-54,-54,-54,-54,-54,-54,-54,-54,-54,-54,-54,-54,-54,-54,-54,-54,-54,-54,-54,-54,-54,-54,-54,-54,-54,-54,-54,-54,-54,-54,-54,-54,-54,-54,-54,-54,-54,-54,-54'],\n",
       "  'prod_s1': ['-37,-19,8,19,26,33,-54,-30,65,7,-73,-101,24,56,-9,6,-9,-8,-8,-32,8,-2,-46,14,28,15,32,22,43,102,14,-4,-14,-70,-65,-3,56,-10,-28,-34,-35,-21,-16,-20,-14,15,-11,-12,22,4,-10,-32,-59,-27,18,36,6,51,126,56,-23,-65,-85,-92,-91,-15,44,24,-24,-12,-2,-35,-26,-13,62,84,15,4,6,-11,-18,20,0,66,96,60,63,81,0,-72,-70,-126,-14,-39,-86,25,84,75,27,-24'],\n",
       "  'prod_s2': ['-49,1,7,46,32,-27,-24,5,37,-38,-129,-21,0,71,-18,6,-17,-8,-40,8,-34,-6,-28,24,33,42,27,70,97,62,50,-54,-34,-115,-23,11,32,-14,-58,-39,-51,-21,-36,-14,-5,-5,-3,2,12,4,-42,-59,-59,-9,36,24,69,114,119,40,-72,-101,-141,-127,-71,9,44,0,-12,-26,-23,-40,-34,57,76,85,18,7,-8,-15,6,-4,90,72,150,69,135,9,0,-142,-126,-84,-95,-44,-56,79,105,81,-3,-31'],\n",
       "  'prod_s3': ['-29,0,34,52,-28,3,11,-23,-8,-94,-49,-45,15,62,-18,-2,-17,-40,0,-34,-38,12,-18,29,60,37,75,124,57,98,0,-74,-79,-73,-9,-13,28,-44,-63,-55,-51,-41,-30,-5,-25,3,11,-8,12,-28,-69,-59,-41,9,24,87,132,107,103,-9,-108,-157,-176,-107,-47,9,20,12,-26,-47,-28,-48,36,71,77,88,21,-7,-12,9,-18,86,96,126,159,141,63,9,-70,-198,-84,-165,-100,-14,-2,100,111,51,-10,-43']},\n",
       " 'timings': {'decryption': '2632.100000',\n",
       "  'encryption': '1939.400000',\n",
       "  'evaluation': '109086.200000',\n",
       "  'output': '107.900000',\n",
       "  'prod_r0': '22.500000',\n",
       "  'prod_r1': '5334.700000',\n",
       "  'prod_r10': '845.000000',\n",
       "  'prod_r11': '820.900000',\n",
       "  'prod_r12': '820.600000',\n",
       "  'prod_r13': '820.100000',\n",
       "  'prod_r14': '818.300000',\n",
       "  'prod_r15': '816.600000',\n",
       "  'prod_r16': '812.700000',\n",
       "  'prod_r17': '858.700000',\n",
       "  'prod_r18': '831.300000',\n",
       "  'prod_r19': '822.700000',\n",
       "  'prod_r2': '823.400000',\n",
       "  'prod_r20': '820.200000',\n",
       "  'prod_r21': '820.000000',\n",
       "  'prod_r22': '818.600000',\n",
       "  'prod_r23': '891.200000',\n",
       "  'prod_r24': '819.400000',\n",
       "  'prod_r25': '819.700000',\n",
       "  'prod_r26': '855.300000',\n",
       "  'prod_r27': '910.900000',\n",
       "  'prod_r28': '881.400000',\n",
       "  'prod_r29': '844.500000',\n",
       "  'prod_r3': '820.000000',\n",
       "  'prod_r30': '828.400000',\n",
       "  'prod_r31': '820.500000',\n",
       "  'prod_r32': '820.500000',\n",
       "  'prod_r33': '827.400000',\n",
       "  'prod_r34': '811.300000',\n",
       "  'prod_r35': '827.100000',\n",
       "  'prod_r36': '1301.400000',\n",
       "  'prod_r37': '830.600000',\n",
       "  'prod_r38': '880.500000',\n",
       "  'prod_r39': '820.000000',\n",
       "  'prod_r4': '857.100000',\n",
       "  'prod_r40': '871.800000',\n",
       "  'prod_r41': '879.200000',\n",
       "  'prod_r42': '818.900000',\n",
       "  'prod_r43': '819.800000',\n",
       "  'prod_r44': '1012.500000',\n",
       "  'prod_r45': '839.200000',\n",
       "  'prod_r46': '818.100000',\n",
       "  'prod_r47': '818.400000',\n",
       "  'prod_r48': '824.300000',\n",
       "  'prod_r49': '876.300000',\n",
       "  'prod_r5': '845.300000',\n",
       "  'prod_r50': '820.900000',\n",
       "  'prod_r51': '59.600000',\n",
       "  'prod_r52': '107.900000',\n",
       "  'prod_r53': '130.000000',\n",
       "  'prod_r54': '111.900000',\n",
       "  'prod_r55': '112.200000',\n",
       "  'prod_r56': '113.000000',\n",
       "  'prod_r57': '113.500000',\n",
       "  'prod_r58': '108.000000',\n",
       "  'prod_r59': '125.900000',\n",
       "  'prod_r6': '845.400000',\n",
       "  'prod_r60': '112.100000',\n",
       "  'prod_r61': '109.900000',\n",
       "  'prod_r62': '113.200000',\n",
       "  'prod_r63': '110.300000',\n",
       "  'prod_r64': '114.600000',\n",
       "  'prod_r65': '107.500000',\n",
       "  'prod_r66': '108.500000',\n",
       "  'prod_r67': '124.900000',\n",
       "  'prod_r68': '129.500000',\n",
       "  'prod_r69': '122.700000',\n",
       "  'prod_r7': '793.000000',\n",
       "  'prod_r70': '119.800000',\n",
       "  'prod_r71': '108.600000',\n",
       "  'prod_r72': '106.900000',\n",
       "  'prod_r73': '109.100000',\n",
       "  'prod_r74': '109.600000',\n",
       "  'prod_r75': '107.000000',\n",
       "  'prod_r76': '111.700000',\n",
       "  'prod_r77': '107.800000',\n",
       "  'prod_r78': '109.600000',\n",
       "  'prod_r79': '107.500000',\n",
       "  'prod_r8': '811.400000',\n",
       "  'prod_r80': '109.400000',\n",
       "  'prod_r81': '112.500000',\n",
       "  'prod_r82': '109.700000',\n",
       "  'prod_r83': '109.600000',\n",
       "  'prod_r84': '116.800000',\n",
       "  'prod_r85': '181.400000',\n",
       "  'prod_r86': '124.000000',\n",
       "  'prod_r87': '120.500000',\n",
       "  'prod_r88': '109.100000',\n",
       "  'prod_r89': '107.900000',\n",
       "  'prod_r9': '820.700000',\n",
       "  'prod_r90': '107.400000',\n",
       "  'prod_r91': '108.000000',\n",
       "  'prod_r92': '107.600000',\n",
       "  'prod_r93': '109.700000',\n",
       "  'prod_r94': '122.800000',\n",
       "  'prod_r95': '110.900000',\n",
       "  'prod_r96': '107.100000',\n",
       "  'prod_r97': '108.300000',\n",
       "  'prod_r98': '108.400000',\n",
       "  'prod_r99': '107.200000',\n",
       "  'prod_s1': '1570.700000',\n",
       "  'prod_s10': '831.900000',\n",
       "  'prod_s11': '891.800000',\n",
       "  'prod_s12': '819.500000',\n",
       "  'prod_s13': '827.500000',\n",
       "  'prod_s14': '832.800000',\n",
       "  'prod_s15': '811.200000',\n",
       "  'prod_s16': '811.300000',\n",
       "  'prod_s17': '862.500000',\n",
       "  'prod_s18': '916.200000',\n",
       "  'prod_s19': '818.300000',\n",
       "  'prod_s2': '820.400000',\n",
       "  'prod_s20': '824.300000',\n",
       "  'prod_s21': '818.600000',\n",
       "  'prod_s22': '818.400000',\n",
       "  'prod_s23': '820.000000',\n",
       "  'prod_s24': '820.200000',\n",
       "  'prod_s25': '821.400000',\n",
       "  'prod_s26': '865.000000',\n",
       "  'prod_s27': '824.400000',\n",
       "  'prod_s28': '819.500000',\n",
       "  'prod_s29': '821.300000',\n",
       "  'prod_s3': '830.300000',\n",
       "  'prod_s30': '820.000000',\n",
       "  'prod_s31': '844.800000',\n",
       "  'prod_s32': '860.600000',\n",
       "  'prod_s33': '815.000000',\n",
       "  'prod_s34': '840.200000',\n",
       "  'prod_s35': '811.500000',\n",
       "  'prod_s36': '980.800000',\n",
       "  'prod_s37': '822.700000',\n",
       "  'prod_s38': '821.200000',\n",
       "  'prod_s39': '819.600000',\n",
       "  'prod_s4': '848.000000',\n",
       "  'prod_s40': '828.300000',\n",
       "  'prod_s41': '821.800000',\n",
       "  'prod_s42': '821.900000',\n",
       "  'prod_s43': '845.600000',\n",
       "  'prod_s44': '870.600000',\n",
       "  'prod_s45': '821.600000',\n",
       "  'prod_s46': '819.300000',\n",
       "  'prod_s47': '818.400000',\n",
       "  'prod_s48': '821.000000',\n",
       "  'prod_s49': '820.100000',\n",
       "  'prod_s5': '850.900000',\n",
       "  'prod_s50': '820.700000',\n",
       "  'prod_s51': '108.400000',\n",
       "  'prod_s52': '115.600000',\n",
       "  'prod_s53': '112.600000',\n",
       "  'prod_s54': '110.100000',\n",
       "  'prod_s55': '116.300000',\n",
       "  'prod_s56': '58.100000',\n",
       "  'prod_s57': '107.100000',\n",
       "  'prod_s58': '154.000000',\n",
       "  'prod_s59': '134.900000',\n",
       "  'prod_s6': '844.200000',\n",
       "  'prod_s60': '109.800000',\n",
       "  'prod_s61': '108.400000',\n",
       "  'prod_s62': '107.200000',\n",
       "  'prod_s63': '109.500000',\n",
       "  'prod_s64': '109.700000',\n",
       "  'prod_s65': '109.800000',\n",
       "  'prod_s66': '108.400000',\n",
       "  'prod_s67': '109.800000',\n",
       "  'prod_s68': '108.000000',\n",
       "  'prod_s69': '107.300000',\n",
       "  'prod_s7': '883.000000',\n",
       "  'prod_s70': '107.400000',\n",
       "  'prod_s71': '108.100000',\n",
       "  'prod_s72': '109.600000',\n",
       "  'prod_s73': '107.800000',\n",
       "  'prod_s74': '114.600000',\n",
       "  'prod_s75': '120.400000',\n",
       "  'prod_s76': '115.700000',\n",
       "  'prod_s77': '109.700000',\n",
       "  'prod_s78': '109.300000',\n",
       "  'prod_s79': '108.500000',\n",
       "  'prod_s8': '812.100000',\n",
       "  'prod_s80': '118.300000',\n",
       "  'prod_s81': '107.800000',\n",
       "  'prod_s82': '108.000000',\n",
       "  'prod_s83': '111.300000',\n",
       "  'prod_s84': '108.000000',\n",
       "  'prod_s85': '152.100000',\n",
       "  'prod_s86': '108.400000',\n",
       "  'prod_s87': '110.200000',\n",
       "  'prod_s88': '109.300000',\n",
       "  'prod_s89': '110.300000',\n",
       "  'prod_s9': '958.700000',\n",
       "  'prod_s90': '112.900000',\n",
       "  'prod_s91': '109.400000',\n",
       "  'prod_s92': '110.600000',\n",
       "  'prod_s93': '123.200000',\n",
       "  'prod_s94': '107.600000',\n",
       "  'prod_s95': '107.900000',\n",
       "  'prod_s96': '111.700000',\n",
       "  'prod_s97': '107.300000',\n",
       "  'prod_s98': '110.200000',\n",
       "  'prod_s99': '109.000000'}}"
      ]
     },
     "execution_count": 39,
     "metadata": {},
     "output_type": "execute_result"
    }
   ],
   "source": [
    "sheep_client.get_results()['content']"
   ]
  },
  {
   "cell_type": "code",
   "execution_count": null,
   "metadata": {},
   "outputs": [],
   "source": []
  }
 ],
 "metadata": {
  "kernelspec": {
   "display_name": "Python 3",
   "language": "python",
   "name": "python3"
  },
  "language_info": {
   "codemirror_mode": {
    "name": "ipython",
    "version": 3
   },
   "file_extension": ".py",
   "mimetype": "text/x-python",
   "name": "python",
   "nbconvert_exporter": "python",
   "pygments_lexer": "ipython3",
   "version": "3.5.2"
  }
 },
 "nbformat": 4,
 "nbformat_minor": 2
}
