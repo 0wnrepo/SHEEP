{
 "cells": [
  {
   "cell_type": "markdown",
   "metadata": {},
   "source": [
    "# Matrix vector multiplication in SHEEP\n",
    "Since we can use \"slots\", i.e. vectors of input values, and many libraries support SIMD operations (i.e. operating on many slots is just as quick as operating on single values), we can easily do component-wise multiplication.  However, as with vector dot products, we generally need to also sum over slots, which can be done using a sequence of \"ROTATE\" and \"ADD\" operations."
   ]
  },
  {
   "cell_type": "code",
   "execution_count": 1,
   "metadata": {},
   "outputs": [],
   "source": [
    "import os\n",
    "if \"SHEEP_HOME\" in os.environ.keys():\n",
    "  SHEEP_HOME = os.environ[\"SHEEP_HOME\"]\n",
    "else:\n",
    "  SHEEP_HOME = os.path.join(os.environ[\"HOME\"],\"SHEEP\",\"frontend\")\n",
    "import sys\n",
    "sys.path.append(SHEEP_HOME)\n",
    "\n",
    "from pysheep import sheep_client"
   ]
  },
  {
   "cell_type": "markdown",
   "metadata": {},
   "source": [
    "## Multiplying a 4x4 matrix with a 4-component vector\n"
   ]
  },
  {
   "cell_type": "markdown",
   "metadata": {},
   "source": [
    "Lets do the following calculation:\n",
    "\\begin{equation*}\n",
    "\\begin{vmatrix}\n",
    "1, 2 , 3 , 4\\\\\n",
    "5 , 6 , 7 , 8\\\\\n",
    "9, 10, 11, 12 \\\\\n",
    "13, 14 , 15, 16\n",
    "\\end{vmatrix}\n",
    "\\begin{vmatrix}\n",
    "1 \\\\\n",
    "2 \\\\\n",
    "3 \\\\\n",
    "4\n",
    "\\end{vmatrix}\n",
    "\\end{equation*}\n",
    "\n",
    "which should give us the answer {30, 55, 110, 150}\n"
   ]
  },
  {
   "cell_type": "markdown",
   "metadata": {},
   "source": [
    "### a) The straightforward (but non-optimal) way\n",
    "\n",
    "Essentially the each element of the output vector will be the dot product of the corresponding row of the matrix with the vector.  We can therefore do this in the same way as was demonstrated in the vector_dot_product notebook, i.e. component-wise multiplication followed by a sequence of rotations and additions.\n",
    "\n",
    "The circuit will look like:"
   ]
  },
  {
   "cell_type": "code",
   "execution_count": 2,
   "metadata": {},
   "outputs": [],
   "source": [
    "circuit = \"\"\"\n",
    "INPUTS mrow_0 mrow_1 mrow_2 mrow_3 vec mask\n",
    "CONST_INPUTS rotate_by_minus1 rotate_by_plus1 rotate_by_plus2 rotate_by_plus3\n",
    "OUTPUTS output_vec  sum_0 msum_0 \n",
    "# dot product of the first row with the vector\n",
    "mrow_0 vec MULTIPLY prod_00\n",
    "prod_00 rotate_by_minus1 ROTATE prod_01\n",
    "prod_00 prod_01 ADD sum_00\n",
    "prod_01 rotate_by_minus1 ROTATE prod_02\n",
    "sum_00 prod_02 ADD sum_01\n",
    "prod_02 rotate_by_minus1 ROTATE prod_03\n",
    "sum_01 prod_03 ADD sum_0\n",
    "# dot product of the second row with the vector\n",
    "mrow_1 vec MULTIPLY prod_10\n",
    "prod_10 rotate_by_minus1 ROTATE prod_11\n",
    "prod_10 prod_11 ADD sum_10\n",
    "prod_11 rotate_by_minus1 ROTATE prod_12\n",
    "sum_10 prod_12 ADD sum_11\n",
    "prod_12 rotate_by_minus1 ROTATE prod_13\n",
    "sum_11 prod_13 ADD sum_1\n",
    "# dot product of the third row with the vector\n",
    "mrow_2 vec MULTIPLY prod_20\n",
    "prod_20 rotate_by_minus1 ROTATE prod_21\n",
    "prod_20 prod_21 ADD sum_20\n",
    "prod_21 rotate_by_minus1 ROTATE prod_22\n",
    "sum_20 prod_22 ADD sum_21\n",
    "prod_22 rotate_by_minus1 ROTATE prod_23\n",
    "sum_21 prod_23 ADD sum_2\n",
    "# dot product of the third row with the vector\n",
    "mrow_3 vec MULTIPLY prod_30\n",
    "prod_30 rotate_by_minus1 ROTATE prod_31\n",
    "prod_30 prod_31 ADD sum_30\n",
    "prod_31 rotate_by_minus1 ROTATE prod_32\n",
    "sum_30 prod_32 ADD sum_31\n",
    "prod_32 rotate_by_minus1 ROTATE prod_33\n",
    "sum_31 prod_33 ADD sum_3\n",
    "# now we have four vectors, sum_0, sum_1, sum_2 and sum_3, where the first element is \n",
    "# the dot product of that row.  We need to isolate just this element, using mask, which is [1,0,0,0]\n",
    "sum_0 mask MULTIPLY msum_0\n",
    "sum_1 mask MULTIPLY msum_10\n",
    "msum_10 rotate_by_plus1 ROTATE msum_1\n",
    "sum_2 mask MULTIPLY msum_20\n",
    "msum_20 rotate_by_plus2 ROTATE msum_2\n",
    "sum_3 mask MULTIPLY msum_30\n",
    "msum_30 rotate_by_plus3 ROTATE msum_3\n",
    "# now we should have four vectors with one non-zero element each in the right place - need to sum them\n",
    "msum_0 msum_1 ADD out_01\n",
    "out_01 msum_2 ADD out_02\n",
    "out_02 msum_3 ADD output_vec\n",
    "\"\"\""
   ]
  },
  {
   "cell_type": "code",
   "execution_count": 3,
   "metadata": {},
   "outputs": [
    {
     "data": {
      "text/plain": [
       "{'content': ['mrow_0', 'mrow_1', 'mrow_2', 'mrow_3', 'vec', 'mask'],\n",
       " 'status_code': 200}"
      ]
     },
     "execution_count": 3,
     "metadata": {},
     "output_type": "execute_result"
    }
   ],
   "source": [
    "sheep_client.new_job()\n",
    "sheep_client.set_context(\"HElib_Fp\")\n",
    "sheep_client.set_input_type(\"int16_t\")\n",
    "# set the \"Levels\" parameter so we can do more multiplications without getting the wrong answer.\n",
    "sheep_client.set_parameters({\"Levels\": 30})\n",
    "sheep_client.set_circuit_text(circuit)\n",
    "sheep_client.get_inputs()"
   ]
  },
  {
   "cell_type": "code",
   "execution_count": 4,
   "metadata": {},
   "outputs": [
    {
     "data": {
      "text/plain": [
       "{'content': ['rotate_by_minus1',\n",
       "  'rotate_by_plus1',\n",
       "  'rotate_by_plus2',\n",
       "  'rotate_by_plus3'],\n",
       " 'status_code': 200}"
      ]
     },
     "execution_count": 4,
     "metadata": {},
     "output_type": "execute_result"
    }
   ],
   "source": [
    "sheep_client.get_const_inputs()"
   ]
  },
  {
   "cell_type": "code",
   "execution_count": 5,
   "metadata": {},
   "outputs": [
    {
     "data": {
      "text/plain": [
       "{'content': '', 'status_code': 200}"
      ]
     },
     "execution_count": 5,
     "metadata": {},
     "output_type": "execute_result"
    }
   ],
   "source": [
    "sheep_client.set_inputs({\"mrow_0\": [1,2,3,4], \"mrow_1\": [5,6,7,8], \"mrow_2\": [9,10,11,12], \"mrow_3\": [13,14,15,16],\"vec\": [1,2,3,4], \"mask\": [1,0,0,0]})\n"
   ]
  },
  {
   "cell_type": "code",
   "execution_count": 6,
   "metadata": {},
   "outputs": [
    {
     "data": {
      "text/plain": [
       "{'content': '', 'status_code': 200}"
      ]
     },
     "execution_count": 6,
     "metadata": {},
     "output_type": "execute_result"
    }
   ],
   "source": [
    "sheep_client.set_const_inputs({\"rotate_by_minus1\": -1, \"rotate_by_plus1\": 1, \"rotate_by_plus2\": 2, \"rotate_by_plus3\":3})"
   ]
  },
  {
   "cell_type": "code",
   "execution_count": 7,
   "metadata": {},
   "outputs": [
    {
     "data": {
      "text/plain": [
       "{'content': '', 'status_code': 200}"
      ]
     },
     "execution_count": 7,
     "metadata": {},
     "output_type": "execute_result"
    }
   ],
   "source": [
    "sheep_client.run_job()"
   ]
  },
  {
   "cell_type": "code",
   "execution_count": 8,
   "metadata": {},
   "outputs": [
    {
     "data": {
      "text/plain": [
       "{'content': {'cleartext check': {'is_correct': True},\n",
       "  'outputs': {'msum_0': ['30,0,0,0'],\n",
       "   'output_vec': ['30,70,110,150'],\n",
       "   'sum_0': ['30,30,30,30']},\n",
       "  'timings': {'decryption': '3592.900000',\n",
       "   'encryption': '17918.700000',\n",
       "   'evaluation': '250372.500000',\n",
       "   'msum_0': '197.500000',\n",
       "   'msum_1': '189.300000',\n",
       "   'msum_10': '202.200000',\n",
       "   'msum_2': '197.100000',\n",
       "   'msum_20': '198.700000',\n",
       "   'msum_3': '206.400000',\n",
       "   'msum_30': '186.500000',\n",
       "   'out_01': '197.700000',\n",
       "   'out_02': '185.800000',\n",
       "   'output_vec': '197.200000',\n",
       "   'prod_00': '5272.400000',\n",
       "   'prod_01': '17289.300000',\n",
       "   'prod_02': '11895.800000',\n",
       "   'prod_03': '17369.400000',\n",
       "   'prod_10': '205.200000',\n",
       "   'prod_11': '303.500000',\n",
       "   'prod_12': '3507.100000',\n",
       "   'prod_13': '12176.500000',\n",
       "   'prod_20': '3563.700000',\n",
       "   'prod_21': '15683.800000',\n",
       "   'prod_22': '12409.600000',\n",
       "   'prod_23': '15374.700000',\n",
       "   'prod_30': '12173.800000',\n",
       "   'prod_31': '3355.500000',\n",
       "   'prod_32': '11979.800000',\n",
       "   'prod_33': '204.400000',\n",
       "   'sum_0': '5269.100000',\n",
       "   'sum_00': '5280.600000',\n",
       "   'sum_01': '5197.800000',\n",
       "   'sum_1': '12129.500000',\n",
       "   'sum_10': '205.700000',\n",
       "   'sum_11': '15394.700000',\n",
       "   'sum_2': '12104.200000',\n",
       "   'sum_20': '12723.700000',\n",
       "   'sum_21': '3372.200000',\n",
       "   'sum_3': '185.000000',\n",
       "   'sum_30': '15373.000000',\n",
       "   'sum_31': '12027.000000'}},\n",
       " 'status_code': 200}"
      ]
     },
     "execution_count": 8,
     "metadata": {},
     "output_type": "execute_result"
    }
   ],
   "source": [
    "sheep_client.get_results()"
   ]
  },
  {
   "cell_type": "markdown",
   "metadata": {},
   "source": [
    "### b) A better way -  doing the same calculation with fewer ROTATEs.\n",
    "\n",
    "The paper describing the [GAZELLE](https://eprint.iacr.org/2018/073.pdf) framework includes a clever method for speeding up matrix-vector multiplication with SIMD operations.\n",
    "To minimize the number of intra-slot operations, we can express the matrix inputs as diagonal strips of the matrix.\n",
    "\n",
    "In this case, the circuit will look like:"
   ]
  },
  {
   "cell_type": "code",
   "execution_count": 93,
   "metadata": {},
   "outputs": [],
   "source": [
    "new_circuit = \"\"\"\n",
    "INPUTS mstrip_0 mstrip_1 mstrip_2 mstrip_3 vec \n",
    "CONST_INPUTS rotate_minus1\n",
    "OUTPUTS output_vec \n",
    "mstrip_0 vec MULTIPLY prod_0\n",
    "vec rotate_minus1 ROTATE vec_r1\n",
    "mstrip_1 vec_r1 MULTIPLY prod_1\n",
    "vec_r1 rotate_minus1 ROTATE vec_r2\n",
    "mstrip_2 vec_r2 MULTIPLY prod_2\n",
    "vec_r2 rotate_minus1 ROTATE vec_r3\n",
    "mstrip_3 vec_r3 MULTIPLY prod_3\n",
    "prod_0 prod_1 ADD sum_0\n",
    "sum_0 prod_2 ADD sum_1\n",
    "sum_1 prod_3 ADD output_vec\n",
    "\"\"\""
   ]
  },
  {
   "cell_type": "code",
   "execution_count": 94,
   "metadata": {},
   "outputs": [
    {
     "data": {
      "text/plain": [
       "{'content': '', 'status_code': 200}"
      ]
     },
     "execution_count": 94,
     "metadata": {},
     "output_type": "execute_result"
    }
   ],
   "source": [
    "sheep_client.new_job()\n",
    "sheep_client.set_context(\"HElib_Fp\")\n",
    "sheep_client.set_input_type(\"int16_t\")\n",
    "sheep_client.set_circuit_text(new_circuit)\n"
   ]
  },
  {
   "cell_type": "markdown",
   "metadata": {},
   "source": [
    "We can set some of the inputs similarly to above."
   ]
  },
  {
   "cell_type": "code",
   "execution_count": 95,
   "metadata": {},
   "outputs": [],
   "source": [
    "const_input_vals = {\"rotate_minus1\": -1}\n",
    "input_vals = {\"vec\": [1,2,3,4]}"
   ]
  },
  {
   "cell_type": "markdown",
   "metadata": {},
   "source": [
    "So now we have to set the remaining inputs to be diagonal strips of the matrix:"
   ]
  },
  {
   "cell_type": "code",
   "execution_count": 96,
   "metadata": {},
   "outputs": [
    {
     "data": {
      "text/plain": [
       "{'content': '', 'status_code': 200}"
      ]
     },
     "execution_count": 96,
     "metadata": {},
     "output_type": "execute_result"
    }
   ],
   "source": [
    "input_vals[\"mstrip_0\"] = [1,6,11,16]\n",
    "input_vals[\"mstrip_1\"] = [2,7,12,13]\n",
    "input_vals[\"mstrip_2\"] = [3,8,9,14]\n",
    "input_vals[\"mstrip_3\"] = [4,5,10,15]\n",
    "sheep_client.set_inputs(input_vals)\n",
    "sheep_client.set_const_inputs(const_input_vals)"
   ]
  },
  {
   "cell_type": "code",
   "execution_count": 97,
   "metadata": {},
   "outputs": [
    {
     "data": {
      "text/plain": [
       "{'content': '', 'status_code': 200}"
      ]
     },
     "execution_count": 97,
     "metadata": {},
     "output_type": "execute_result"
    }
   ],
   "source": [
    "sheep_client.run_job()"
   ]
  },
  {
   "cell_type": "code",
   "execution_count": 98,
   "metadata": {},
   "outputs": [
    {
     "data": {
      "text/plain": [
       "{'content': {'cleartext check': {'is_correct': True},\n",
       "  'outputs': {'output_vec': ['30,70,110,150']},\n",
       "  'timings': {'decryption': '425.600000',\n",
       "   'encryption': '4726.200000',\n",
       "   'evaluation': '22525.600000',\n",
       "   'output_vec': '5236.400000',\n",
       "   'prod_0': '93.900000',\n",
       "   'prod_1': '1607.600000',\n",
       "   'prod_2': '1622.600000',\n",
       "   'prod_3': '101.800000',\n",
       "   'sum_0': '4356.100000',\n",
       "   'sum_1': '5685.600000',\n",
       "   'vec_r1': '1356.600000',\n",
       "   'vec_r2': '1701.300000',\n",
       "   'vec_r3': '65.200000'}},\n",
       " 'status_code': 200}"
      ]
     },
     "execution_count": 98,
     "metadata": {},
     "output_type": "execute_result"
    }
   ],
   "source": [
    "sheep_client.get_results()"
   ]
  },
  {
   "cell_type": "markdown",
   "metadata": {},
   "source": [
    "Note that there is a function in ```pysheep.mid_level_benchmarks``` called ```generate_matrix_vector_mult``` that will take a matrix (as a list of lists) and a vector (as a list), and return a circuit, dict-of-input-vals, and dict-of-output-vals, for use in this scheme.\n",
    "\n",
    "Let's try it out:"
   ]
  },
  {
   "cell_type": "code",
   "execution_count": 52,
   "metadata": {},
   "outputs": [
    {
     "data": {
      "text/plain": [
       "{'content': '', 'status_code': 200}"
      ]
     },
     "execution_count": 52,
     "metadata": {},
     "output_type": "execute_result"
    }
   ],
   "source": [
    "sheep_client.new_job()"
   ]
  },
  {
   "cell_type": "code",
   "execution_count": 53,
   "metadata": {},
   "outputs": [
    {
     "data": {
      "text/plain": [
       "{'content': '', 'status_code': 200}"
      ]
     },
     "execution_count": 53,
     "metadata": {},
     "output_type": "execute_result"
    }
   ],
   "source": [
    "sheep_client.set_context(\"HElib_Fp\")"
   ]
  },
  {
   "cell_type": "code",
   "execution_count": 54,
   "metadata": {},
   "outputs": [
    {
     "data": {
      "text/plain": [
       "{'content': '', 'status_code': 200}"
      ]
     },
     "execution_count": 54,
     "metadata": {},
     "output_type": "execute_result"
    }
   ],
   "source": [
    "sheep_client.set_input_type(\"int16_t\")"
   ]
  },
  {
   "cell_type": "code",
   "execution_count": 55,
   "metadata": {},
   "outputs": [
    {
     "data": {
      "text/plain": [
       "{'content': '', 'status_code': 200}"
      ]
     },
     "execution_count": 55,
     "metadata": {},
     "output_type": "execute_result"
    }
   ],
   "source": [
    "sheep_client.set_parameters({\"Levels\": 30})"
   ]
  },
  {
   "cell_type": "code",
   "execution_count": 58,
   "metadata": {},
   "outputs": [],
   "source": [
    "matrix = [[1,2,3,4],[5,6,7,8],[9,10,11,12],[13,14,15,16]]\n",
    "vec = [1,2,3,4]"
   ]
  },
  {
   "cell_type": "code",
   "execution_count": 59,
   "metadata": {},
   "outputs": [],
   "source": [
    "from pysheep.mid_level_benchmarks import *\n"
   ]
  },
  {
   "cell_type": "code",
   "execution_count": 60,
   "metadata": {},
   "outputs": [],
   "source": [
    "circ, inputs, const_inputs = generate_matrix_vector_mult(matrix,vec)"
   ]
  },
  {
   "cell_type": "code",
   "execution_count": 61,
   "metadata": {},
   "outputs": [
    {
     "data": {
      "text/plain": [
       "{'content': '', 'status_code': 200}"
      ]
     },
     "execution_count": 61,
     "metadata": {},
     "output_type": "execute_result"
    }
   ],
   "source": [
    "sheep_client.set_circuit_text(circ)"
   ]
  },
  {
   "cell_type": "code",
   "execution_count": 62,
   "metadata": {},
   "outputs": [
    {
     "name": "stdout",
     "output_type": "stream",
     "text": [
      "OUTPUTS output_vec\n",
      "CONST_INPUTS rotate_minus1\n",
      "INPUTS input_vec mstrip_0 mstrip_1 mstrip_2 mstrip_3 \n",
      "input_vec ALIAS vec_r0\n",
      "mstrip_0 vec_r0 MULTIPLY prod_0\n",
      "vec_r0 rotate_minus1 ROTATE vec_r1\n",
      "mstrip_1 vec_r1  MULTIPLY prod_1\n",
      "vec_r1 rotate_minus1 ROTATE vec_r2\n",
      "mstrip_2 vec_r2  MULTIPLY prod_2\n",
      "vec_r2 rotate_minus1 ROTATE vec_r3\n",
      "mstrip_3 vec_r3  MULTIPLY prod_3\n",
      "prod_0 prod_1 ADD sum_0\n",
      "sum_0 prod_2 ADD sum_1\n",
      "sum_1 prod_3 ADD sum_2\n",
      "sum_2 ALIAS output_vec\n",
      "\n"
     ]
    }
   ],
   "source": [
    "print(circ)"
   ]
  },
  {
   "cell_type": "code",
   "execution_count": 63,
   "metadata": {},
   "outputs": [
    {
     "data": {
      "text/plain": [
       "{'content': '', 'status_code': 200}"
      ]
     },
     "execution_count": 63,
     "metadata": {},
     "output_type": "execute_result"
    }
   ],
   "source": [
    "sheep_client.set_inputs(inputs)"
   ]
  },
  {
   "cell_type": "code",
   "execution_count": 64,
   "metadata": {},
   "outputs": [
    {
     "data": {
      "text/plain": [
       "{'content': '', 'status_code': 200}"
      ]
     },
     "execution_count": 64,
     "metadata": {},
     "output_type": "execute_result"
    }
   ],
   "source": [
    "sheep_client.set_const_inputs(const_inputs)"
   ]
  },
  {
   "cell_type": "code",
   "execution_count": 65,
   "metadata": {},
   "outputs": [
    {
     "data": {
      "text/plain": [
       "{'content': '', 'status_code': 200}"
      ]
     },
     "execution_count": 65,
     "metadata": {},
     "output_type": "execute_result"
    }
   ],
   "source": [
    "sheep_client.run_job()"
   ]
  },
  {
   "cell_type": "code",
   "execution_count": 66,
   "metadata": {},
   "outputs": [
    {
     "data": {
      "text/plain": [
       "{'content': {'cleartext check': {'is_correct': True},\n",
       "  'outputs': {'output_vec': ['30,70,110,150']},\n",
       "  'timings': {'decryption': '1011.900000',\n",
       "   'encryption': '14887.200000',\n",
       "   'evaluation': '53811.800000',\n",
       "   'output_vec': '12352.100000',\n",
       "   'prod_0': '3479.900000',\n",
       "   'prod_1': '4077.400000',\n",
       "   'prod_2': '158.600000',\n",
       "   'prod_3': '222.500000',\n",
       "   'sum_0': '87.900000',\n",
       "   'sum_1': '10386.800000',\n",
       "   'sum_2': '12506.400000',\n",
       "   'vec_r0': '85.500000',\n",
       "   'vec_r1': '4332.300000',\n",
       "   'vec_r2': '4222.800000',\n",
       "   'vec_r3': '237.200000'}},\n",
       " 'status_code': 200}"
      ]
     },
     "execution_count": 66,
     "metadata": {},
     "output_type": "execute_result"
    }
   ],
   "source": [
    "sheep_client.get_results()"
   ]
  },
  {
   "cell_type": "code",
   "execution_count": null,
   "metadata": {},
   "outputs": [],
   "source": []
  }
 ],
 "metadata": {
  "kernelspec": {
   "display_name": "Python 3",
   "language": "python",
   "name": "python3"
  },
  "language_info": {
   "codemirror_mode": {
    "name": "ipython",
    "version": 3
   },
   "file_extension": ".py",
   "mimetype": "text/x-python",
   "name": "python",
   "nbconvert_exporter": "python",
   "pygments_lexer": "ipython3",
   "version": "3.5.2"
  }
 },
 "nbformat": 4,
 "nbformat_minor": 2
}
