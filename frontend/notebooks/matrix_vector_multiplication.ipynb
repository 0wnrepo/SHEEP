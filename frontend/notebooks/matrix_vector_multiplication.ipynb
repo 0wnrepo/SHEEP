{
 "cells": [
  {
   "cell_type": "markdown",
   "metadata": {},
   "source": [
    "# Matrix vector multiplication in SHEEP\n",
    "Since we can use \"slots\", i.e. vectors of input values, and many libraries support SIMD operations (i.e. operating on many slots is just as quick as operating on single values), we can easily do component-wise multiplication.  However, as with vector dot products, we generally need to also sum over slots, which can be done using a sequence of \"ROTATE\" and \"ADD\" operations."
   ]
  },
  {
   "cell_type": "code",
   "execution_count": 1,
   "metadata": {},
   "outputs": [],
   "source": [
    "import os\n",
    "import sys\n",
    "if \"SHEEP_HOME\" in os.environ.keys():\n",
    "  SHEEP_HOME = os.environ[\"SHEEP_HOME\"]\n",
    "  sys.path.append(SHEEP_HOME)\n",
    "else:\n",
    "  print(\"Please set SHEEP_HOME environment variable to point to location of SHEEP/frontend\")\n",
    "\n",
    "## tabulating and plotting benchmark results\n",
    "import pandas as pd\n",
    "import matplotlib.pyplot as plt\n",
    "from pysheep.database import session, BenchmarkMeasurement, Timing\n",
    "\n",
    "from pysheep import sheep_client, benchmark_utils"
   ]
  },
  {
   "cell_type": "markdown",
   "metadata": {},
   "source": [
    "## Multiplying a 4x4 matrix with a 4-component vector\n"
   ]
  },
  {
   "cell_type": "markdown",
   "metadata": {},
   "source": [
    "Lets do the following calculation:\n",
    "\\begin{equation*}\n",
    "\\begin{vmatrix}\n",
    "1, 2 , 3 , 4\\\\\n",
    "5 , 6 , 7 , 8\\\\\n",
    "9, 10, 11, 12 \\\\\n",
    "13, 14 , 15, 16\n",
    "\\end{vmatrix}\n",
    "\\begin{vmatrix}\n",
    "1 \\\\\n",
    "2 \\\\\n",
    "3 \\\\\n",
    "4\n",
    "\\end{vmatrix}\n",
    "\\end{equation*}\n",
    "\n",
    "which should give us the answer {30, 55, 110, 150}\n"
   ]
  },
  {
   "cell_type": "markdown",
   "metadata": {},
   "source": [
    "### a) The straightforward (but non-optimal) way\n",
    "\n",
    "Essentially the each element of the output vector will be the dot product of the corresponding row of the matrix with the vector.  We can therefore do this in the same way as was demonstrated in the vector_dot_product notebook, i.e. component-wise multiplication followed by a sequence of rotations and additions.\n",
    "\n",
    "The circuit will look like:"
   ]
  },
  {
   "cell_type": "code",
   "execution_count": 2,
   "metadata": {},
   "outputs": [],
   "source": [
    "circuit = \"\"\"\n",
    "INPUTS mrow_0 mrow_1 mrow_2 mrow_3 vec mask\n",
    "CONST_INPUTS rotate_by_minus1 rotate_by_plus1 rotate_by_plus2 rotate_by_plus3\n",
    "OUTPUTS output_vec \n",
    "# dot product of the first row with the vector\n",
    "mrow_0 vec MULTIPLY prod_00\n",
    "prod_00 rotate_by_minus1 ROTATE prod_01\n",
    "prod_00 prod_01 ADD sum_00\n",
    "prod_01 rotate_by_minus1 ROTATE prod_02\n",
    "sum_00 prod_02 ADD sum_01\n",
    "prod_02 rotate_by_minus1 ROTATE prod_03\n",
    "sum_01 prod_03 ADD sum_0\n",
    "# dot product of the second row with the vector\n",
    "mrow_1 vec MULTIPLY prod_10\n",
    "prod_10 rotate_by_minus1 ROTATE prod_11\n",
    "prod_10 prod_11 ADD sum_10\n",
    "prod_11 rotate_by_minus1 ROTATE prod_12\n",
    "sum_10 prod_12 ADD sum_11\n",
    "prod_12 rotate_by_minus1 ROTATE prod_13\n",
    "sum_11 prod_13 ADD sum_1\n",
    "# dot product of the third row with the vector\n",
    "mrow_2 vec MULTIPLY prod_20\n",
    "prod_20 rotate_by_minus1 ROTATE prod_21\n",
    "prod_20 prod_21 ADD sum_20\n",
    "prod_21 rotate_by_minus1 ROTATE prod_22\n",
    "sum_20 prod_22 ADD sum_21\n",
    "prod_22 rotate_by_minus1 ROTATE prod_23\n",
    "sum_21 prod_23 ADD sum_2\n",
    "# dot product of the third row with the vector\n",
    "mrow_3 vec MULTIPLY prod_30\n",
    "prod_30 rotate_by_minus1 ROTATE prod_31\n",
    "prod_30 prod_31 ADD sum_30\n",
    "prod_31 rotate_by_minus1 ROTATE prod_32\n",
    "sum_30 prod_32 ADD sum_31\n",
    "prod_32 rotate_by_minus1 ROTATE prod_33\n",
    "sum_31 prod_33 ADD sum_3\n",
    "# now we have four vectors, sum_0, sum_1, sum_2 and sum_3, where the first element is \n",
    "# the dot product of that row.  We need to isolate just this element, using mask, which is [1,0,0,0]\n",
    "sum_0 mask MULTIPLY msum_0\n",
    "sum_1 mask MULTIPLY msum_10\n",
    "msum_10 rotate_by_plus1 ROTATE msum_1\n",
    "sum_2 mask MULTIPLY msum_20\n",
    "msum_20 rotate_by_plus2 ROTATE msum_2\n",
    "sum_3 mask MULTIPLY msum_30\n",
    "msum_30 rotate_by_plus3 ROTATE msum_3\n",
    "# now we should have four vectors with one non-zero element each in the right place - need to sum them\n",
    "msum_0 msum_1 ADD out_01\n",
    "out_01 msum_2 ADD out_02\n",
    "out_02 msum_3 ADD output_vec\n",
    "\"\"\""
   ]
  },
  {
   "cell_type": "code",
   "execution_count": 3,
   "metadata": {},
   "outputs": [
    {
     "data": {
      "text/plain": [
       "{'content': ['mrow_0', 'mrow_1', 'mrow_2', 'mrow_3', 'vec', 'mask'],\n",
       " 'status_code': 200}"
      ]
     },
     "execution_count": 3,
     "metadata": {},
     "output_type": "execute_result"
    }
   ],
   "source": [
    "sheep_client.new_job()\n",
    "sheep_client.set_context(\"SEAL\")\n",
    "sheep_client.set_input_type(\"int16_t\")\n",
    "sheep_client.set_circuit_text(circuit)\n",
    "sheep_client.get_inputs()"
   ]
  },
  {
   "cell_type": "code",
   "execution_count": 4,
   "metadata": {},
   "outputs": [
    {
     "data": {
      "text/plain": [
       "{'content': ['rotate_by_minus1',\n",
       "  'rotate_by_plus1',\n",
       "  'rotate_by_plus2',\n",
       "  'rotate_by_plus3'],\n",
       " 'status_code': 200}"
      ]
     },
     "execution_count": 4,
     "metadata": {},
     "output_type": "execute_result"
    }
   ],
   "source": [
    "sheep_client.get_const_inputs()"
   ]
  },
  {
   "cell_type": "code",
   "execution_count": 5,
   "metadata": {},
   "outputs": [
    {
     "data": {
      "text/plain": [
       "{'content': '', 'status_code': 200}"
      ]
     },
     "execution_count": 5,
     "metadata": {},
     "output_type": "execute_result"
    }
   ],
   "source": [
    "sheep_client.set_inputs({\"mrow_0\": [1,2,3,4], \"mrow_1\": [5,6,7,8], \"mrow_2\": [9,10,11,12], \"mrow_3\": [13,14,15,16],\"vec\": [1,2,3,4], \"mask\": [1,0,0,0]})\n"
   ]
  },
  {
   "cell_type": "code",
   "execution_count": 6,
   "metadata": {},
   "outputs": [
    {
     "data": {
      "text/plain": [
       "{'content': '', 'status_code': 200}"
      ]
     },
     "execution_count": 6,
     "metadata": {},
     "output_type": "execute_result"
    }
   ],
   "source": [
    "sheep_client.set_const_inputs({\"rotate_by_minus1\": -1, \"rotate_by_plus1\": 1, \"rotate_by_plus2\": 2, \"rotate_by_plus3\":3})"
   ]
  },
  {
   "cell_type": "code",
   "execution_count": 7,
   "metadata": {},
   "outputs": [
    {
     "data": {
      "text/plain": [
       "{'content': '', 'status_code': 200}"
      ]
     },
     "execution_count": 7,
     "metadata": {},
     "output_type": "execute_result"
    }
   ],
   "source": [
    "sheep_client.run_job()"
   ]
  },
  {
   "cell_type": "code",
   "execution_count": 8,
   "metadata": {},
   "outputs": [
    {
     "data": {
      "text/plain": [
       "{'content': {'cleartext check': {'is_correct': True},\n",
       "  'outputs': {'output_vec': ['30,70,110,150']},\n",
       "  'timings': {'decryption': '537.100000',\n",
       "   'encryption': '5925.100000',\n",
       "   'evaluation': '60754.400000',\n",
       "   'msum_0': '5228.600000',\n",
       "   'msum_1': '1558.800000',\n",
       "   'msum_10': '5342.900000',\n",
       "   'msum_2': '800.500000',\n",
       "   'msum_20': '5672.600000',\n",
       "   'msum_3': '869.600000',\n",
       "   'msum_30': '5682.000000',\n",
       "   'out_01': '166.400000',\n",
       "   'out_02': '85.100000',\n",
       "   'output_vec': '85.000000',\n",
       "   'prod_00': '6166.700000',\n",
       "   'prod_01': '800.000000',\n",
       "   'prod_02': '791.500000',\n",
       "   'prod_03': '1091.600000',\n",
       "   'prod_10': '5299.100000',\n",
       "   'prod_11': '795.000000',\n",
       "   'prod_12': '782.200000',\n",
       "   'prod_13': '774.300000',\n",
       "   'prod_20': '5196.500000',\n",
       "   'prod_21': '784.900000',\n",
       "   'prod_22': '818.400000',\n",
       "   'prod_23': '785.700000',\n",
       "   'prod_30': '5422.000000',\n",
       "   'prod_31': '783.300000',\n",
       "   'prod_32': '787.800000',\n",
       "   'prod_33': '773.300000',\n",
       "   'sum_0': '131.800000',\n",
       "   'sum_00': '156.800000',\n",
       "   'sum_01': '117.700000',\n",
       "   'sum_1': '118.500000',\n",
       "   'sum_10': '168.100000',\n",
       "   'sum_11': '116.700000',\n",
       "   'sum_2': '118.200000',\n",
       "   'sum_20': '166.800000',\n",
       "   'sum_21': '121.000000',\n",
       "   'sum_3': '117.400000',\n",
       "   'sum_30': '187.100000',\n",
       "   'sum_31': '118.600000'}},\n",
       " 'status_code': 200}"
      ]
     },
     "execution_count": 8,
     "metadata": {},
     "output_type": "execute_result"
    }
   ],
   "source": [
    "sheep_client.get_results()"
   ]
  },
  {
   "cell_type": "markdown",
   "metadata": {},
   "source": [
    "So we do get the right answer - 'output_vec' is [30,70,110,150].\n",
    "\n",
    "Lets upload this benchmark to the database, then do the same thing in HElib_Fp."
   ]
  },
  {
   "cell_type": "code",
   "execution_count": 9,
   "metadata": {},
   "outputs": [
    {
     "data": {
      "text/plain": [
       "True"
      ]
     },
     "execution_count": 9,
     "metadata": {},
     "output_type": "execute_result"
    }
   ],
   "source": [
    "benchmark_utils.upload_results(\"matrix_vector_mult_4x4x4\")"
   ]
  },
  {
   "cell_type": "code",
   "execution_count": 10,
   "metadata": {},
   "outputs": [
    {
     "data": {
      "text/plain": [
       "{'content': '', 'status_code': 200}"
      ]
     },
     "execution_count": 10,
     "metadata": {},
     "output_type": "execute_result"
    }
   ],
   "source": [
    "sheep_client.new_job()\n",
    "sheep_client.set_context(\"HElib_Fp\")\n",
    "sheep_client.set_input_type(\"int16_t\")\n",
    "sheep_client.set_parameters({\"Levels\":30})\n",
    "sheep_client.set_circuit_text(circuit)\n",
    "sheep_client.set_inputs({\"mrow_0\": [1,2,3,4], \"mrow_1\": [5,6,7,8], \"mrow_2\": [9,10,11,12], \"mrow_3\": [13,14,15,16],\"vec\": [1,2,3,4], \"mask\": [1,0,0,0]})\n",
    "sheep_client.set_const_inputs({\"rotate_by_minus1\": -1, \"rotate_by_plus1\": 1, \"rotate_by_plus2\": 2, \"rotate_by_plus3\":3})\n",
    "sheep_client.run_job()"
   ]
  },
  {
   "cell_type": "code",
   "execution_count": 11,
   "metadata": {},
   "outputs": [
    {
     "data": {
      "text/plain": [
       "{'content': {'cleartext check': {'is_correct': True},\n",
       "  'outputs': {'output_vec': ['30,70,110,150']},\n",
       "  'timings': {'decryption': '1410.500000',\n",
       "   'encryption': '18026.000000',\n",
       "   'evaluation': '253069.800000',\n",
       "   'msum_0': '5271.000000',\n",
       "   'msum_1': '17522.600000',\n",
       "   'msum_10': '5239.700000',\n",
       "   'msum_2': '12181.900000',\n",
       "   'msum_20': '5377.600000',\n",
       "   'msum_3': '17314.000000',\n",
       "   'msum_30': '5367.300000',\n",
       "   'out_01': '212.200000',\n",
       "   'out_02': '304.000000',\n",
       "   'output_vec': '223.300000',\n",
       "   'prod_00': '3487.600000',\n",
       "   'prod_01': '16057.600000',\n",
       "   'prod_02': '12389.500000',\n",
       "   'prod_03': '12632.600000',\n",
       "   'prod_10': '3540.200000',\n",
       "   'prod_11': '15872.100000',\n",
       "   'prod_12': '12285.200000',\n",
       "   'prod_13': '12101.300000',\n",
       "   'prod_20': '3487.600000',\n",
       "   'prod_21': '15346.600000',\n",
       "   'prod_22': '12272.500000',\n",
       "   'prod_23': '12108.900000',\n",
       "   'prod_30': '3400.200000',\n",
       "   'prod_31': '15599.300000',\n",
       "   'prod_32': '12116.000000',\n",
       "   'prod_33': '12227.700000',\n",
       "   'sum_0': '270.800000',\n",
       "   'sum_00': '186.800000',\n",
       "   'sum_01': '284.700000',\n",
       "   'sum_1': '200.000000',\n",
       "   'sum_10': '187.300000',\n",
       "   'sum_11': '198.100000',\n",
       "   'sum_2': '197.100000',\n",
       "   'sum_20': '186.500000',\n",
       "   'sum_21': '198.600000',\n",
       "   'sum_3': '199.600000',\n",
       "   'sum_30': '188.400000',\n",
       "   'sum_31': '197.700000'}},\n",
       " 'status_code': 200}"
      ]
     },
     "execution_count": 11,
     "metadata": {},
     "output_type": "execute_result"
    }
   ],
   "source": [
    "sheep_client.get_results()"
   ]
  },
  {
   "cell_type": "markdown",
   "metadata": {},
   "source": [
    "HElib also got the correct answer.   Lets upload this to the database, then compare the timings with SEAL."
   ]
  },
  {
   "cell_type": "code",
   "execution_count": 12,
   "metadata": {},
   "outputs": [
    {
     "data": {
      "text/plain": [
       "True"
      ]
     },
     "execution_count": 12,
     "metadata": {},
     "output_type": "execute_result"
    }
   ],
   "source": [
    "benchmark_utils.upload_results(\"matrix_vector_mult_4x4x4\")"
   ]
  },
  {
   "cell_type": "code",
   "execution_count": 13,
   "metadata": {},
   "outputs": [
    {
     "data": {
      "text/html": [
       "<div>\n",
       "<style scoped>\n",
       "    .dataframe tbody tr th:only-of-type {\n",
       "        vertical-align: middle;\n",
       "    }\n",
       "\n",
       "    .dataframe tbody tr th {\n",
       "        vertical-align: top;\n",
       "    }\n",
       "\n",
       "    .dataframe thead th {\n",
       "        text-align: right;\n",
       "    }\n",
       "</style>\n",
       "<table border=\"1\" class=\"dataframe\">\n",
       "  <thead>\n",
       "    <tr style=\"text-align: right;\">\n",
       "      <th></th>\n",
       "      <th>Context</th>\n",
       "      <th>Gate</th>\n",
       "      <th>Time</th>\n",
       "    </tr>\n",
       "  </thead>\n",
       "  <tbody>\n",
       "    <tr>\n",
       "      <th>0</th>\n",
       "      <td>SEAL</td>\n",
       "      <td>ADD</td>\n",
       "      <td>1975.2</td>\n",
       "    </tr>\n",
       "    <tr>\n",
       "      <th>1</th>\n",
       "      <td>SEAL</td>\n",
       "      <td>ROTATE</td>\n",
       "      <td>12996.9</td>\n",
       "    </tr>\n",
       "    <tr>\n",
       "      <th>2</th>\n",
       "      <td>SEAL</td>\n",
       "      <td>MULTIPLY</td>\n",
       "      <td>44010.4</td>\n",
       "    </tr>\n",
       "    <tr>\n",
       "      <th>3</th>\n",
       "      <td>HElib_Fp</td>\n",
       "      <td>ADD</td>\n",
       "      <td>3235.1</td>\n",
       "    </tr>\n",
       "    <tr>\n",
       "      <th>4</th>\n",
       "      <td>HElib_Fp</td>\n",
       "      <td>ROTATE</td>\n",
       "      <td>208027.8</td>\n",
       "    </tr>\n",
       "    <tr>\n",
       "      <th>5</th>\n",
       "      <td>HElib_Fp</td>\n",
       "      <td>MULTIPLY</td>\n",
       "      <td>35171.2</td>\n",
       "    </tr>\n",
       "  </tbody>\n",
       "</table>\n",
       "</div>"
      ],
      "text/plain": [
       "    Context      Gate      Time\n",
       "0      SEAL       ADD    1975.2\n",
       "1      SEAL    ROTATE   12996.9\n",
       "2      SEAL  MULTIPLY   44010.4\n",
       "3  HElib_Fp       ADD    3235.1\n",
       "4  HElib_Fp    ROTATE  208027.8\n",
       "5  HElib_Fp  MULTIPLY   35171.2"
      ]
     },
     "execution_count": 13,
     "metadata": {},
     "output_type": "execute_result"
    }
   ],
   "source": [
    "rows = session.query(BenchmarkMeasurement).filter_by(circuit_name=\"matrix_vector_mult_4x4x4\").all()\n",
    "df_dict = {\"Context\": [], \"Gate\": [], \"Time\": []}\n",
    "for row in rows:\n",
    "    timingdict = benchmark_utils.timing_per_gate_type(row.timings, circuit)\n",
    "    for k,v in timingdict.items():\n",
    "        df_dict[\"Context\"].append(row.context)\n",
    "        df_dict[\"Gate\"].append(k)\n",
    "        df_dict[\"Time\"].append(v)\n",
    "df = pd.DataFrame(df_dict)\n",
    "df"
   ]
  },
  {
   "cell_type": "code",
   "execution_count": 14,
   "metadata": {},
   "outputs": [
    {
     "data": {
      "text/plain": [
       "<matplotlib.axes._subplots.AxesSubplot at 0x7fa886ab1710>"
      ]
     },
     "execution_count": 14,
     "metadata": {},
     "output_type": "execute_result"
    },
    {
     "data": {
      "image/png": "[encoded data removed]",
      "text/plain": [
       "<Figure size 432x288 with 1 Axes>"
      ]
     },
     "metadata": {},
     "output_type": "display_data"
    }
   ],
   "source": [
    "pivot_df = df.pivot(index='Context', columns='Gate', values='Time')\n",
    "pivot_df.plot(kind='bar',stacked=True)"
   ]
  },
  {
   "cell_type": "markdown",
   "metadata": {},
   "source": [
    "### b) A better way -  doing the same calculation with fewer ROTATEs.\n",
    "\n",
    "The paper describing the [GAZELLE](https://eprint.iacr.org/2018/073.pdf) framework includes a clever method for speeding up matrix-vector multiplication with SIMD operations.\n",
    "To minimize the number of intra-slot operations, we can express the matrix inputs as diagonal strips of the matrix.\n",
    "\n",
    "In this case, the circuit will look like:"
   ]
  },
  {
   "cell_type": "code",
   "execution_count": 15,
   "metadata": {},
   "outputs": [],
   "source": [
    "new_circuit = \"\"\"\n",
    "INPUTS mstrip_0 mstrip_1 mstrip_2 mstrip_3 vec \n",
    "CONST_INPUTS rotate_minus1\n",
    "OUTPUTS output_vec \n",
    "mstrip_0 vec MULTIPLY prod_0\n",
    "vec rotate_minus1 ROTATE vec_r1\n",
    "mstrip_1 vec_r1 MULTIPLY prod_1\n",
    "vec_r1 rotate_minus1 ROTATE vec_r2\n",
    "mstrip_2 vec_r2 MULTIPLY prod_2\n",
    "vec_r2 rotate_minus1 ROTATE vec_r3\n",
    "mstrip_3 vec_r3 MULTIPLY prod_3\n",
    "prod_0 prod_1 ADD sum_0\n",
    "sum_0 prod_2 ADD sum_1\n",
    "sum_1 prod_3 ADD output_vec\n",
    "\"\"\""
   ]
  },
  {
   "cell_type": "code",
   "execution_count": 16,
   "metadata": {},
   "outputs": [
    {
     "data": {
      "text/plain": [
       "{'content': '', 'status_code': 200}"
      ]
     },
     "execution_count": 16,
     "metadata": {},
     "output_type": "execute_result"
    }
   ],
   "source": [
    "sheep_client.new_job()\n",
    "sheep_client.set_context(\"SEAL\")\n",
    "sheep_client.set_input_type(\"int16_t\")\n",
    "sheep_client.set_circuit_text(new_circuit)\n"
   ]
  },
  {
   "cell_type": "markdown",
   "metadata": {},
   "source": [
    "We can set some of the inputs similarly to above."
   ]
  },
  {
   "cell_type": "code",
   "execution_count": 17,
   "metadata": {},
   "outputs": [],
   "source": [
    "const_input_vals = {\"rotate_minus1\": -1}\n",
    "input_vals = {\"vec\": [1,2,3,4]}"
   ]
  },
  {
   "cell_type": "markdown",
   "metadata": {},
   "source": [
    "So now we have to set the remaining inputs to be diagonal strips of the matrix:"
   ]
  },
  {
   "cell_type": "code",
   "execution_count": 18,
   "metadata": {},
   "outputs": [
    {
     "data": {
      "text/plain": [
       "{'content': '', 'status_code': 200}"
      ]
     },
     "execution_count": 18,
     "metadata": {},
     "output_type": "execute_result"
    }
   ],
   "source": [
    "input_vals[\"mstrip_0\"] = [1,6,11,16]\n",
    "input_vals[\"mstrip_1\"] = [2,7,12,13]\n",
    "input_vals[\"mstrip_2\"] = [3,8,9,14]\n",
    "input_vals[\"mstrip_3\"] = [4,5,10,15]\n",
    "sheep_client.set_inputs(input_vals)\n",
    "sheep_client.set_const_inputs(const_input_vals)"
   ]
  },
  {
   "cell_type": "code",
   "execution_count": 19,
   "metadata": {},
   "outputs": [
    {
     "data": {
      "text/plain": [
       "{'content': '', 'status_code': 200}"
      ]
     },
     "execution_count": 19,
     "metadata": {},
     "output_type": "execute_result"
    }
   ],
   "source": [
    "sheep_client.run_job()"
   ]
  },
  {
   "cell_type": "code",
   "execution_count": 20,
   "metadata": {},
   "outputs": [
    {
     "data": {
      "text/plain": [
       "{'content': {'cleartext check': {'is_correct': True},\n",
       "  'outputs': {'output_vec': ['30,70,110,150']},\n",
       "  'timings': {'decryption': '571.500000',\n",
       "   'encryption': '5022.600000',\n",
       "   'evaluation': '28350.800000',\n",
       "   'output_vec': '85.800000',\n",
       "   'prod_0': '6415.100000',\n",
       "   'prod_1': '6068.500000',\n",
       "   'prod_2': '6116.300000',\n",
       "   'prod_3': '5827.800000',\n",
       "   'sum_0': '145.800000',\n",
       "   'sum_1': '114.700000',\n",
       "   'vec_r1': '1193.600000',\n",
       "   'vec_r2': '823.000000',\n",
       "   'vec_r3': '792.000000'}},\n",
       " 'status_code': 200}"
      ]
     },
     "execution_count": 20,
     "metadata": {},
     "output_type": "execute_result"
    }
   ],
   "source": [
    "sheep_client.get_results()"
   ]
  },
  {
   "cell_type": "markdown",
   "metadata": {},
   "source": [
    "So this also got the right answer - [30,70,110,150].  Lets compare with HElib again:"
   ]
  },
  {
   "cell_type": "code",
   "execution_count": 21,
   "metadata": {},
   "outputs": [
    {
     "data": {
      "text/plain": [
       "True"
      ]
     },
     "execution_count": 21,
     "metadata": {},
     "output_type": "execute_result"
    }
   ],
   "source": [
    "benchmark_utils.upload_results(\"matrix_vector_mult_4x4x4_fast\")"
   ]
  },
  {
   "cell_type": "code",
   "execution_count": 22,
   "metadata": {},
   "outputs": [
    {
     "data": {
      "text/plain": [
       "{'content': '', 'status_code': 200}"
      ]
     },
     "execution_count": 22,
     "metadata": {},
     "output_type": "execute_result"
    }
   ],
   "source": [
    "sheep_client.new_job()\n",
    "sheep_client.set_context(\"HElib_Fp\")\n",
    "sheep_client.set_input_type(\"int16_t\")\n",
    "sheep_client.set_parameters({\"Levels\":10})\n",
    "sheep_client.set_circuit_text(new_circuit)\n",
    "sheep_client.set_inputs(input_vals)\n",
    "sheep_client.set_const_inputs(const_input_vals)\n",
    "sheep_client.run_job()"
   ]
  },
  {
   "cell_type": "code",
   "execution_count": 23,
   "metadata": {},
   "outputs": [
    {
     "data": {
      "text/plain": [
       "True"
      ]
     },
     "execution_count": 23,
     "metadata": {},
     "output_type": "execute_result"
    }
   ],
   "source": [
    "benchmark_utils.upload_results(\"matrix_vector_mult_4x4x4_fast\")"
   ]
  },
  {
   "cell_type": "code",
   "execution_count": 24,
   "metadata": {},
   "outputs": [
    {
     "data": {
      "text/plain": [
       "<matplotlib.axes._subplots.AxesSubplot at 0x7fa886a44048>"
      ]
     },
     "execution_count": 24,
     "metadata": {},
     "output_type": "execute_result"
    },
    {
     "data": {
      "image/png": "[encoded data removed]",
      "text/plain": [
       "<Figure size 432x288 with 1 Axes>"
      ]
     },
     "metadata": {},
     "output_type": "display_data"
    }
   ],
   "source": [
    "rows = session.query(BenchmarkMeasurement).filter_by(circuit_name=\"matrix_vector_mult_4x4x4_fast\").all()\n",
    "df_dict = {\"Context\": [], \"Gate\": [], \"Time\": []}\n",
    "for row in rows:\n",
    "    timingdict = benchmark_utils.timing_per_gate_type(row.timings, new_circuit)\n",
    "    for k,v in timingdict.items():\n",
    "        df_dict[\"Context\"].append(row.context)\n",
    "        df_dict[\"Gate\"].append(k)\n",
    "        df_dict[\"Time\"].append(v)\n",
    "df = pd.DataFrame(df_dict)\n",
    "pivot_df = df.pivot(index='Context', columns='Gate', values='Time')\n",
    "pivot_df.plot(kind='bar',stacked=True)"
   ]
  },
  {
   "cell_type": "markdown",
   "metadata": {},
   "source": [
    "So we can see that although SEAL and HElib take very similar time overall to process this circuit, the time is spent in different operations.  \n",
    "We can also see that both are a factor >10 faster than doing the computation the naive way."
   ]
  },
  {
   "cell_type": "markdown",
   "metadata": {},
   "source": [
    "### Generate circuits and inputs for matrix-vector multiplication\n",
    "\n",
    "Note that there is a function in ```pysheep.mid_level_benchmarks``` called ```generate_matrix_vector_mult``` that will take a matrix (as a list of lists) and a vector (as a list), and return a circuit, dict-of-input-vals, and dict-of-output-vals, for use in this scheme.\n",
    "\n",
    "Let's try it out:"
   ]
  },
  {
   "cell_type": "code",
   "execution_count": 25,
   "metadata": {},
   "outputs": [
    {
     "data": {
      "text/plain": [
       "{'content': '', 'status_code': 200}"
      ]
     },
     "execution_count": 25,
     "metadata": {},
     "output_type": "execute_result"
    }
   ],
   "source": [
    "sheep_client.new_job()"
   ]
  },
  {
   "cell_type": "code",
   "execution_count": 26,
   "metadata": {},
   "outputs": [
    {
     "data": {
      "text/plain": [
       "{'content': '', 'status_code': 200}"
      ]
     },
     "execution_count": 26,
     "metadata": {},
     "output_type": "execute_result"
    }
   ],
   "source": [
    "sheep_client.set_context(\"SEAL\")"
   ]
  },
  {
   "cell_type": "code",
   "execution_count": 27,
   "metadata": {},
   "outputs": [
    {
     "data": {
      "text/plain": [
       "{'content': '', 'status_code': 200}"
      ]
     },
     "execution_count": 27,
     "metadata": {},
     "output_type": "execute_result"
    }
   ],
   "source": [
    "sheep_client.set_input_type(\"int16_t\")"
   ]
  },
  {
   "cell_type": "code",
   "execution_count": 28,
   "metadata": {},
   "outputs": [],
   "source": [
    "matrix = [[1,2,3],[5,6,7],[9,10,11]]\n",
    "vec = [1,2,3]"
   ]
  },
  {
   "cell_type": "code",
   "execution_count": 29,
   "metadata": {},
   "outputs": [],
   "source": [
    "from pysheep.mid_level_benchmarks import *\n",
    "circ, inputs, const_inputs = generate_matrix_vector_mult(matrix,vec)"
   ]
  },
  {
   "cell_type": "code",
   "execution_count": 30,
   "metadata": {},
   "outputs": [
    {
     "data": {
      "text/plain": [
       "{'content': '', 'status_code': 200}"
      ]
     },
     "execution_count": 30,
     "metadata": {},
     "output_type": "execute_result"
    }
   ],
   "source": [
    "sheep_client.set_circuit_text(circ)\n",
    "sheep_client.set_inputs(inputs)\n",
    "sheep_client.set_const_inputs(const_inputs)"
   ]
  },
  {
   "cell_type": "code",
   "execution_count": 31,
   "metadata": {},
   "outputs": [
    {
     "name": "stdout",
     "output_type": "stream",
     "text": [
      "OUTPUTS output_vec\n",
      "CONST_INPUTS rotate_minus1\n",
      "INPUTS input_vec mstrip_0 mstrip_1 mstrip_2 \n",
      "input_vec ALIAS vec_r0\n",
      "mstrip_0 vec_r0 MULTIPLY prod_0\n",
      "vec_r0 rotate_minus1 ROTATE vec_r1\n",
      "mstrip_1 vec_r1  MULTIPLY prod_1\n",
      "vec_r1 rotate_minus1 ROTATE vec_r2\n",
      "mstrip_2 vec_r2  MULTIPLY prod_2\n",
      "prod_0 prod_1 ADD sum_0\n",
      "sum_0 prod_2 ADD sum_1\n",
      "sum_1 ALIAS output_vec\n",
      "\n"
     ]
    }
   ],
   "source": [
    "print(circ)"
   ]
  },
  {
   "cell_type": "code",
   "execution_count": 32,
   "metadata": {},
   "outputs": [
    {
     "data": {
      "text/plain": [
       "{'content': '', 'status_code': 200}"
      ]
     },
     "execution_count": 32,
     "metadata": {},
     "output_type": "execute_result"
    }
   ],
   "source": [
    "sheep_client.run_job()"
   ]
  },
  {
   "cell_type": "code",
   "execution_count": 33,
   "metadata": {},
   "outputs": [
    {
     "data": {
      "text/plain": [
       "{'content': {'cleartext check': {'is_correct': True},\n",
       "  'outputs': {'output_vec': ['14,38,62']},\n",
       "  'timings': {'decryption': '539.200000',\n",
       "   'encryption': '4103.400000',\n",
       "   'evaluation': '20865.200000',\n",
       "   'output_vec': '18.500000',\n",
       "   'prod_0': '6601.100000',\n",
       "   'prod_1': '5844.900000',\n",
       "   'prod_2': '5631.400000',\n",
       "   'sum_0': '133.600000',\n",
       "   'sum_1': '85.500000',\n",
       "   'vec_r0': '92.900000',\n",
       "   'vec_r1': '857.000000',\n",
       "   'vec_r2': '1018.500000'}},\n",
       " 'status_code': 200}"
      ]
     },
     "execution_count": 33,
     "metadata": {},
     "output_type": "execute_result"
    }
   ],
   "source": [
    "sheep_client.get_results()"
   ]
  },
  {
   "cell_type": "markdown",
   "metadata": {},
   "source": [
    "We can use this function to multiply any NxM matrix with vector of size N."
   ]
  },
  {
   "cell_type": "code",
   "execution_count": null,
   "metadata": {},
   "outputs": [],
   "source": []
  }
 ],
 "metadata": {
  "kernelspec": {
   "display_name": "Python 3",
   "language": "python",
   "name": "python3"
  },
  "language_info": {
   "codemirror_mode": {
    "name": "ipython",
    "version": 3
   },
   "file_extension": ".py",
   "mimetype": "text/x-python",
   "name": "python",
   "nbconvert_exporter": "python",
   "pygments_lexer": "ipython3",
   "version": "3.5.2"
  }
 },
 "nbformat": 4,
 "nbformat_minor": 2
}
