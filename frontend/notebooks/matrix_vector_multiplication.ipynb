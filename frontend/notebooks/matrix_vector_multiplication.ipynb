{
 "cells": [
  {
   "cell_type": "markdown",
   "metadata": {},
   "source": [
    "# Matrix vector multiplication in SHEEP\n",
    "Since we can use \"slots\", i.e. vectors of input values, and many libraries support SIMD operations (i.e. operating on many slots is just as quick as operating on single values), we can easily do component-wise multiplication.  However, as with vector dot products, we generally need to also sum over slots, which can be done using a sequence of \"ROTATE\" and \"ADD\" operations."
   ]
  },
  {
   "cell_type": "code",
   "execution_count": 57,
   "metadata": {},
   "outputs": [],
   "source": [
    "import os\n",
    "if \"SHEEP_HOME\" in os.environ.keys():\n",
    "  SHEEP_HOME = os.environ[\"SHEEP_HOME\"]\n",
    "else:\n",
    "  SHEEP_HOME = os.path.join(os.environ[\"HOME\"],\"SHEEP\",\"frontend\")\n",
    "import sys\n",
    "sys.path.append(SHEEP_HOME)\n",
    "\n",
    "from pysheep import sheep_client"
   ]
  },
  {
   "cell_type": "markdown",
   "metadata": {},
   "source": [
    "## Multiplying a 4x4 matrix with a 4-component vector\n"
   ]
  },
  {
   "cell_type": "markdown",
   "metadata": {},
   "source": [
    "Lets do the following calculation:\n",
    "\\begin{equation*}\n",
    "\\begin{vmatrix}\n",
    "1, 2 , 3 , 4\\\\\n",
    "5 , 6 , 7 , 8\\\\\n",
    "9, 10, 11, 12 \\\\\n",
    "13, 14 , 15, 16\n",
    "\\end{vmatrix}\n",
    "\\begin{vmatrix}\n",
    "1 \\\\\n",
    "2 \\\\\n",
    "3 \\\\\n",
    "4\n",
    "\\end{vmatrix}\n",
    "\\end{equation*}\n",
    "\n",
    "which should give us the answer {30, 55, 110, 150}\n"
   ]
  },
  {
   "cell_type": "markdown",
   "metadata": {},
   "source": [
    "### a) The straightforward (but non-optimal) way\n",
    "\n",
    "Essentially the each element of the output vector will be the dot product of the corresponding row of the matrix with the vector.  We can therefore do this in the same way as was demonstrated in the vector_dot_product notebook, i.e. component-wise multiplication followed by a sequence of rotations and additions.\n",
    "\n",
    "The circuit will look like:"
   ]
  },
  {
   "cell_type": "code",
   "execution_count": 77,
   "metadata": {},
   "outputs": [],
   "source": [
    "circuit = \"\"\"\n",
    "INPUTS mrow_0 mrow_1 mrow_2 mrow_3 vec mask\n",
    "CONST_INPUTS rotate_by_minus1 rotate_by_plus1 rotate_by_plus2 rotate_by_plus3\n",
    "OUTPUTS output_vec \n",
    "# dot product of the first row with the vector\n",
    "mrow_0 vec MULTIPLY prod_00\n",
    "prod_00 rotate_by_minus1 ROTATE prod_01\n",
    "prod_00 prod_01 ADD sum_00\n",
    "prod_01 rotate_by_minus1 ROTATE prod_02\n",
    "sum_00 prod_02 ADD sum_01\n",
    "prod_02 rotate_by_minus1 ROTATE prod_03\n",
    "sum_01 prod_03 ADD sum_0\n",
    "# dot product of the second row with the vector\n",
    "mrow_1 vec MULTIPLY prod_10\n",
    "prod_10 rotate_by_minus1 ROTATE prod_11\n",
    "prod_10 prod_11 ADD sum_10\n",
    "prod_11 rotate_by_minus1 ROTATE prod_12\n",
    "sum_10 prod_12 ADD sum_11\n",
    "prod_12 rotate_by_minus1 ROTATE prod_13\n",
    "sum_11 prod_13 ADD sum_1\n",
    "# dot product of the third row with the vector\n",
    "mrow_2 vec MULTIPLY prod_20\n",
    "prod_20 rotate_by_minus1 ROTATE prod_21\n",
    "prod_20 prod_21 ADD sum_20\n",
    "prod_21 rotate_by_minus1 ROTATE prod_22\n",
    "sum_20 prod_22 ADD sum_21\n",
    "prod_22 rotate_by_minus1 ROTATE prod_23\n",
    "sum_21 prod_23 ADD sum_2\n",
    "# dot product of the third row with the vector\n",
    "mrow_3 vec MULTIPLY prod_30\n",
    "prod_30 rotate_by_minus1 ROTATE prod_31\n",
    "prod_30 prod_31 ADD sum_30\n",
    "prod_31 rotate_by_minus1 ROTATE prod_32\n",
    "sum_30 prod_32 ADD sum_31\n",
    "prod_32 rotate_by_minus1 ROTATE prod_33\n",
    "sum_31 prod_33 ADD sum_3\n",
    "# now we have four vectors, sum_0, sum_1, sum_2 and sum_3, where the first element is \n",
    "# the dot product of that row.  We need to isolate just this element, using mask, which is [1,0,0,0]\n",
    "sum_0 mask MULTIPLY msum_0\n",
    "sum_1 mask MULTIPLY msum_10\n",
    "msum_10 rotate_by_plus1 ROTATE msum_1\n",
    "sum_2 mask MULTIPLY msum_20\n",
    "msum_20 rotate_by_plus2 ROTATE msum_2\n",
    "sum_3 mask MULTIPLY msum_30\n",
    "msum_30 rotate_by_plus3 ROTATE msum_3\n",
    "# now we should have four vectors with one non-zero element each in the right place - need to sum them\n",
    "msum_0 msum_1 ADD out_01\n",
    "out_01 msum_2 ADD out_02\n",
    "out_02 msum_3 ADD output_vec\n",
    "\"\"\""
   ]
  },
  {
   "cell_type": "code",
   "execution_count": 78,
   "metadata": {},
   "outputs": [
    {
     "data": {
      "text/plain": [
       "{'content': ['mrow_0', 'mrow_1', 'mrow_2', 'mrow_3', 'vec', 'mask'],\n",
       " 'status_code': 200}"
      ]
     },
     "execution_count": 78,
     "metadata": {},
     "output_type": "execute_result"
    }
   ],
   "source": [
    "sheep_client.new_job()\n",
    "#sheep_client.set_context(\"HElib_Fp\")\n",
    "sheep_client.set_context(\"HElib_Fp\")\n",
    "sheep_client.set_input_type(\"int16_t\")\n",
    "#sheep_client.set_parameters({\"NumSlots\": 4})\n",
    "#sheep_client.set_parameters({\"BaseParamSet\": 2})\n",
    "sheep_client.set_circuit_text(circuit)\n",
    "sheep_client.get_inputs()"
   ]
  },
  {
   "cell_type": "code",
   "execution_count": 79,
   "metadata": {},
   "outputs": [
    {
     "data": {
      "text/plain": [
       "{'content': ['rotate_by_minus1',\n",
       "  'rotate_by_plus1',\n",
       "  'rotate_by_plus2',\n",
       "  'rotate_by_plus3'],\n",
       " 'status_code': 200}"
      ]
     },
     "execution_count": 79,
     "metadata": {},
     "output_type": "execute_result"
    }
   ],
   "source": [
    "sheep_client.get_const_inputs()"
   ]
  },
  {
   "cell_type": "code",
   "execution_count": 80,
   "metadata": {},
   "outputs": [
    {
     "data": {
      "text/plain": [
       "{'content': '', 'status_code': 200}"
      ]
     },
     "execution_count": 80,
     "metadata": {},
     "output_type": "execute_result"
    }
   ],
   "source": [
    "sheep_client.set_inputs({\"mrow_0\": [1,2,3,4], \"mrow_1\": [5,6,7,8], \"mrow_2\": [9,10,11,12], \"mrow_3\": [13,14,15,16],\"vec\": [1,2,3,4], \"mask\": [1,0,0,0]})\n"
   ]
  },
  {
   "cell_type": "code",
   "execution_count": 81,
   "metadata": {},
   "outputs": [
    {
     "data": {
      "text/plain": [
       "{'content': '', 'status_code': 200}"
      ]
     },
     "execution_count": 81,
     "metadata": {},
     "output_type": "execute_result"
    }
   ],
   "source": [
    "sheep_client.set_const_inputs({\"rotate_by_minus1\": -1, \"rotate_by_plus1\": 1, \"rotate_by_plus2\": 2, \"rotate_by_plus3\":3})"
   ]
  },
  {
   "cell_type": "code",
   "execution_count": 82,
   "metadata": {},
   "outputs": [
    {
     "data": {
      "text/plain": [
       "{'content': '', 'status_code': 200}"
      ]
     },
     "execution_count": 82,
     "metadata": {},
     "output_type": "execute_result"
    }
   ],
   "source": [
    "sheep_client.run_job()"
   ]
  },
  {
   "cell_type": "code",
   "execution_count": 83,
   "metadata": {},
   "outputs": [
    {
     "data": {
      "text/plain": [
       "{'content': {'cleartext check': {'is_correct': False},\n",
       "  'outputs': {'output_vec': ['15177,-4917,8134,13412']},\n",
       "  'timings': {'decryption': '188.071000',\n",
       "   'encryption': '1577.778000',\n",
       "   'evaluation': '18309.498000',\n",
       "   'msum_0': '73.508000',\n",
       "   'msum_1': '58.284000',\n",
       "   'msum_10': '58.461000',\n",
       "   'msum_2': '58.789000',\n",
       "   'msum_20': '59.888000',\n",
       "   'msum_3': '58.525000',\n",
       "   'msum_30': '52.876000',\n",
       "   'out_01': '58.070000',\n",
       "   'out_02': '59.961000',\n",
       "   'output_vec': '73.531000',\n",
       "   'prod_00': '419.122000',\n",
       "   'prod_01': '757.893000',\n",
       "   'prod_02': '494.935000',\n",
       "   'prod_03': '794.257000',\n",
       "   'prod_10': '51.905000',\n",
       "   'prod_11': '79.247000',\n",
       "   'prod_12': '603.903000',\n",
       "   'prod_13': '752.294000',\n",
       "   'prod_20': '259.813000',\n",
       "   'prod_21': '915.882000',\n",
       "   'prod_22': '736.736000',\n",
       "   'prod_23': '896.536000',\n",
       "   'prod_30': '708.984000',\n",
       "   'prod_31': '248.487000',\n",
       "   'prod_32': '1014.472000',\n",
       "   'prod_33': '74.490000',\n",
       "   'sum_0': '449.708000',\n",
       "   'sum_00': '503.757000',\n",
       "   'sum_01': '401.786000',\n",
       "   'sum_1': '1056.101000',\n",
       "   'sum_10': '49.576000',\n",
       "   'sum_11': '1080.839000',\n",
       "   'sum_2': '711.606000',\n",
       "   'sum_20': '778.283000',\n",
       "   'sum_21': '250.791000',\n",
       "   'sum_3': '62.909000',\n",
       "   'sum_30': '891.165000',\n",
       "   'sum_31': '719.075000'}},\n",
       " 'status_code': 200}"
      ]
     },
     "execution_count": 83,
     "metadata": {},
     "output_type": "execute_result"
    }
   ],
   "source": [
    "sheep_client.get_results()"
   ]
  },
  {
   "cell_type": "markdown",
   "metadata": {},
   "source": [
    "### b) A better way -  doing the same calculation with fewer ROTATEs.\n",
    "To minimize the number of intra-slot operations, we can instead express the first three inputs as diagonal strips of the matrix.\n",
    "\n",
    "In this case, the circuit will look like:"
   ]
  },
  {
   "cell_type": "code",
   "execution_count": 71,
   "metadata": {},
   "outputs": [],
   "source": [
    "new_circuit = \"\"\"\n",
    "INPUTS mstrip_0 mstrip_1 mstrip_2 mstrip_3 vec \n",
    "CONST_INPUTS rotate_minus1\n",
    "OUTPUTS output_vec \n",
    "mstrip_0 vec MULTIPLY prod_0\n",
    "vec rotate_minus1 ROTATE vec_r1\n",
    "mstrip_1 vec_r1 MULTIPLY prod_1\n",
    "vec_r1 rotate_minus1 ROTATE vec_r2\n",
    "mstrip_2 vec_r2 MULTIPLY prod_2\n",
    "vec_r2 rotate_minus1 ROTATE vec_r3\n",
    "mstrip_3 vec_r3 MULTIPLY prod_3\n",
    "prod_0 prod_1 ADD sum_0\n",
    "sum_0 prod_2 ADD sum_1\n",
    "sum_1 prod_3 ADD output_vec\n",
    "\"\"\""
   ]
  },
  {
   "cell_type": "code",
   "execution_count": 72,
   "metadata": {},
   "outputs": [
    {
     "data": {
      "text/plain": [
       "{'content': '', 'status_code': 200}"
      ]
     },
     "execution_count": 72,
     "metadata": {},
     "output_type": "execute_result"
    }
   ],
   "source": [
    "sheep_client.new_job()\n",
    "sheep_client.set_context(\"HElib_Fp\")\n",
    "sheep_client.set_input_type(\"int16_t\")\n",
    "sheep_client.set_circuit_text(new_circuit)\n"
   ]
  },
  {
   "cell_type": "markdown",
   "metadata": {},
   "source": [
    "We can set some of the inputs similarly to above - the \"mask\" ones are [1,0,0], [0,1,0], [0,0,1] respectively"
   ]
  },
  {
   "cell_type": "code",
   "execution_count": 73,
   "metadata": {},
   "outputs": [],
   "source": [
    "const_input_vals = {\"rotate_minus1\": -1}\n",
    "input_vals = {\"vec\": [1,2,3,4]}"
   ]
  },
  {
   "cell_type": "markdown",
   "metadata": {},
   "source": [
    "So now we have to set the remaining inputs to be diagonal strips of the matrix:"
   ]
  },
  {
   "cell_type": "code",
   "execution_count": 74,
   "metadata": {},
   "outputs": [
    {
     "data": {
      "text/plain": [
       "{'content': '', 'status_code': 200}"
      ]
     },
     "execution_count": 74,
     "metadata": {},
     "output_type": "execute_result"
    }
   ],
   "source": [
    "input_vals[\"mstrip_0\"] = [1,6,11,16]\n",
    "input_vals[\"mstrip_1\"] = [2,7,12,13]\n",
    "input_vals[\"mstrip_2\"] = [3,8,9,14]\n",
    "input_vals[\"mstrip_3\"] = [4,5,10,15]\n",
    "sheep_client.set_inputs(input_vals)\n",
    "sheep_client.set_const_inputs(const_input_vals)"
   ]
  },
  {
   "cell_type": "code",
   "execution_count": 75,
   "metadata": {},
   "outputs": [
    {
     "data": {
      "text/plain": [
       "{'content': '', 'status_code': 200}"
      ]
     },
     "execution_count": 75,
     "metadata": {},
     "output_type": "execute_result"
    }
   ],
   "source": [
    "sheep_client.run_job()"
   ]
  },
  {
   "cell_type": "code",
   "execution_count": 76,
   "metadata": {},
   "outputs": [
    {
     "data": {
      "text/plain": [
       "{'content': {'cleartext check': {'is_correct': True},\n",
       "  'outputs': {'output_vec': ['30,70,110,150']},\n",
       "  'timings': {'decryption': '143.833000',\n",
       "   'encryption': '1292.325000',\n",
       "   'evaluation': '4458.559000',\n",
       "   'output_vec': '783.767000',\n",
       "   'prod_0': '51.385000',\n",
       "   'prod_1': '335.034000',\n",
       "   'prod_2': '351.104000',\n",
       "   'prod_3': '55.641000',\n",
       "   'sum_0': '745.061000',\n",
       "   'sum_1': '799.979000',\n",
       "   'vec_r1': '514.601000',\n",
       "   'vec_r2': '325.915000',\n",
       "   'vec_r3': '46.114000'}},\n",
       " 'status_code': 200}"
      ]
     },
     "execution_count": 76,
     "metadata": {},
     "output_type": "execute_result"
    }
   ],
   "source": [
    "sheep_client.get_results()"
   ]
  },
  {
   "cell_type": "code",
   "execution_count": null,
   "metadata": {},
   "outputs": [],
   "source": []
  }
 ],
 "metadata": {
  "kernelspec": {
   "display_name": "Python 3",
   "language": "python",
   "name": "python3"
  },
  "language_info": {
   "codemirror_mode": {
    "name": "ipython",
    "version": 3
   },
   "file_extension": ".py",
   "mimetype": "text/x-python",
   "name": "python",
   "nbconvert_exporter": "python",
   "pygments_lexer": "ipython3",
   "version": "3.6.3"
  }
 },
 "nbformat": 4,
 "nbformat_minor": 2
}
