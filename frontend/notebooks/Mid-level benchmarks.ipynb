{
 "cells": [
  {
   "cell_type": "markdown",
   "metadata": {},
   "source": [
    "## Mid-level benchmarks"
   ]
  },
  {
   "cell_type": "markdown",
   "metadata": {},
   "source": [
    "### Private Information Retrieval (PIR)\n",
    "\n",
    "One application of HE is to retrieve a data point from a database held elsewhere, without the database holder knowing which point is being requested. If Alice wants to query Bob's database, she simply encrypts an array full of zeros, except for a \"1\" in the position of the desired data point, and sends this ciphertext to Bob. He then performs homomorphic multiplication and addition, and sends the ciphertext back to Alice, who decrypts it to retrieve the data point she requested.\n",
    "\n",
    "To demonstrate this on a very small scale, lets look at a \"database\" containing only two values: 123 and 456:"
   ]
  },
  {
   "cell_type": "code",
   "execution_count": 1,
   "metadata": {},
   "outputs": [],
   "source": [
    "import os\n",
    "if \"SHEEP_HOME\" in os.environ.keys():\n",
    "  SHEEP_HOME = os.environ[\"SHEEP_HOME\"]\n",
    "else:\n",
    "  SHEEP_HOME = os.path.join(os.environ[\"HOME\"],\"SHEEP\",\"pysheep\")\n",
    "import sys\n",
    "sys.path.append(SHEEP_HOME)\n",
    "\n",
    "\n",
    "from pysheep.mid_level_benchmarks import generate_pir_circuit, \\\n",
    "    generate_variance_circuit, generate_bitonic_sort_circuit, generate_gaussian_inputs\n",
    "from pysheep import benchmark_utils\n",
    "from pysheep import common_utils\n",
    "from pysheep import sheep_client"
   ]
  },
  {
   "cell_type": "markdown",
   "metadata": {},
   "source": [
    "First lets setup the SHEEP client (assuming the SHEEP server is running).  We can choose the \"HElib_Fp\" context, and the input type to be 8-bit integers."
   ]
  },
  {
   "cell_type": "code",
   "execution_count": 2,
   "metadata": {},
   "outputs": [
    {
     "data": {
      "text/plain": [
       "{'content': '', 'status_code': 200}"
      ]
     },
     "execution_count": 2,
     "metadata": {},
     "output_type": "execute_result"
    }
   ],
   "source": [
    "sheep_client.new_job() \n",
    "sheep_client.set_context(\"HElib_Fp\")\n",
    "sheep_client.set_input_type(\"int16_t\")"
   ]
  },
  {
   "cell_type": "markdown",
   "metadata": {},
   "source": [
    "Now let's generate the circuit file for this simple PIR case with two values in the \"database\":"
   ]
  },
  {
   "cell_type": "code",
   "execution_count": 3,
   "metadata": {},
   "outputs": [],
   "source": [
    "circuit_file=generate_pir_circuit(2,[2])"
   ]
  },
  {
   "cell_type": "markdown",
   "metadata": {},
   "source": [
    "Lets give this to the SHEEP server, and then see what inputs it expects?"
   ]
  },
  {
   "cell_type": "code",
   "execution_count": 4,
   "metadata": {},
   "outputs": [
    {
     "data": {
      "text/plain": [
       "{'content': ['d_0_0_0', 'd_0_1_0', 's_0_0', 's_0_1'], 'status_code': 200}"
      ]
     },
     "execution_count": 4,
     "metadata": {},
     "output_type": "execute_result"
    }
   ],
   "source": [
    "sheep_client.set_circuit(circuit_file)\n",
    "sheep_client.get_inputs()"
   ]
  },
  {
   "cell_type": "markdown",
   "metadata": {},
   "source": [
    "\"d_a_b_c\" are the \"database\" values, and \"s_x_y\" are the \"selector\" values.  We can set d_0_0_0 and d_0_1_0 to \"123\" and \"456\" respectively.  Then, to select d_0_0_0 (which will hopefully be the value \"123\") from the database, we should set s_0_0 to 1 and s_0_1 to zero."
   ]
  },
  {
   "cell_type": "code",
   "execution_count": 5,
   "metadata": {},
   "outputs": [
    {
     "data": {
      "text/plain": [
       "{'content': '', 'status_code': 200}"
      ]
     },
     "execution_count": 5,
     "metadata": {},
     "output_type": "execute_result"
    }
   ],
   "source": [
    "sheep_client.set_inputs({\"d_0_0_0\": [123], \"d_0_1_0\": [456], \"s_0_0\": [1], \"s_0_1\": [0]})"
   ]
  },
  {
   "cell_type": "code",
   "execution_count": 6,
   "metadata": {},
   "outputs": [],
   "source": [
    "sheep_client.run_job()\n",
    "results = sheep_client.get_results()"
   ]
  },
  {
   "cell_type": "code",
   "execution_count": 7,
   "metadata": {},
   "outputs": [
    {
     "data": {
      "text/plain": [
       "{'content': {'cleartext check': {'is_correct': True},\n",
       "  'outputs': {'e_0_0': ['123']},\n",
       "  'timings': {'c_0_0_0': '1326.900000',\n",
       "   'c_0_1_0': '1265.000000',\n",
       "   'decryption': '319.100000',\n",
       "   'e_0_0': '67.000000',\n",
       "   'encryption': '3646.700000',\n",
       "   'evaluation': '2863.700000'}},\n",
       " 'status_code': 200}"
      ]
     },
     "execution_count": 7,
     "metadata": {},
     "output_type": "execute_result"
    }
   ],
   "source": [
    "results\n"
   ]
  },
  {
   "cell_type": "markdown",
   "metadata": {},
   "source": [
    "So we successfully got the output value \"123\", i.e. the first entry in the \"database\"."
   ]
  },
  {
   "cell_type": "markdown",
   "metadata": {},
   "source": [
    "### PIR with a more complex circuit"
   ]
  },
  {
   "cell_type": "code",
   "execution_count": 8,
   "metadata": {},
   "outputs": [
    {
     "data": {
      "text/plain": [
       "{'content': '', 'status_code': 200}"
      ]
     },
     "execution_count": 8,
     "metadata": {},
     "output_type": "execute_result"
    }
   ],
   "source": [
    "sheep_client.new_job()\n",
    "sheep_client.set_input_type(\"int16_t\")\n",
    "sheep_client.set_context(\"HElib_Fp\")"
   ]
  },
  {
   "cell_type": "markdown",
   "metadata": {},
   "source": [
    "Assuming we will normally want to query a database containing N>2 items, one might think that we need to encrypt and send N \"s\"-values to identify the data point that we want.  However, we can be smarter than that by using a binary tree structure for the data, and having the \"s\"-values dictate how we navigate the tree to locate the desired data point. "
   ]
  },
  {
   "cell_type": "markdown",
   "metadata": {},
   "source": [
    "Lets generate a circuit file corresponding to a database containing 32 values, arranged in a tree with 5 layers and 2 choices per layer ($2^5 = 32$)."
   ]
  },
  {
   "cell_type": "code",
   "execution_count": 9,
   "metadata": {},
   "outputs": [
    {
     "data": {
      "text/plain": [
       "'/frontend/benchmark_inputs/mid_level/circuits/circuit-pir-32_2_2_2_2_2.sheep'"
      ]
     },
     "execution_count": 9,
     "metadata": {},
     "output_type": "execute_result"
    }
   ],
   "source": [
    "circuit_file=generate_pir_circuit(32,[2,2,2,2,2])\n",
    "circuit_file"
   ]
  },
  {
   "cell_type": "markdown",
   "metadata": {},
   "source": [
    "Let's now fill this database with values 0-to-31:"
   ]
  },
  {
   "cell_type": "code",
   "execution_count": 10,
   "metadata": {},
   "outputs": [],
   "source": [
    "sheep_client.set_circuit(circuit_file)\n",
    "inputlist=sheep_client.get_inputs()['content']\n",
    "data = [(x, [i]) for (i, x) in enumerate(inputlist) if x.startswith('d_')]"
   ]
  },
  {
   "cell_type": "markdown",
   "metadata": {},
   "source": [
    "To start with, we'll set all the \"s\" (selector) inputs to zero:"
   ]
  },
  {
   "cell_type": "code",
   "execution_count": 11,
   "metadata": {},
   "outputs": [
    {
     "data": {
      "text/plain": [
       "{'d_0_0_0': [0],\n",
       " 'd_0_0_1': [1],\n",
       " 'd_0_0_10': [10],\n",
       " 'd_0_0_11': [11],\n",
       " 'd_0_0_12': [12],\n",
       " 'd_0_0_13': [13],\n",
       " 'd_0_0_14': [14],\n",
       " 'd_0_0_15': [15],\n",
       " 'd_0_0_2': [2],\n",
       " 'd_0_0_3': [3],\n",
       " 'd_0_0_4': [4],\n",
       " 'd_0_0_5': [5],\n",
       " 'd_0_0_6': [6],\n",
       " 'd_0_0_7': [7],\n",
       " 'd_0_0_8': [8],\n",
       " 'd_0_0_9': [9],\n",
       " 'd_0_1_0': [16],\n",
       " 'd_0_1_1': [17],\n",
       " 'd_0_1_10': [26],\n",
       " 'd_0_1_11': [27],\n",
       " 'd_0_1_12': [28],\n",
       " 'd_0_1_13': [29],\n",
       " 'd_0_1_14': [30],\n",
       " 'd_0_1_15': [31],\n",
       " 'd_0_1_2': [18],\n",
       " 'd_0_1_3': [19],\n",
       " 'd_0_1_4': [20],\n",
       " 'd_0_1_5': [21],\n",
       " 'd_0_1_6': [22],\n",
       " 'd_0_1_7': [23],\n",
       " 'd_0_1_8': [24],\n",
       " 'd_0_1_9': [25],\n",
       " 's_0_0': [0],\n",
       " 's_0_1': [0],\n",
       " 's_1_0': [0],\n",
       " 's_1_1': [0],\n",
       " 's_2_0': [0],\n",
       " 's_2_1': [0],\n",
       " 's_3_0': [0],\n",
       " 's_3_1': [0],\n",
       " 's_4_0': [0],\n",
       " 's_4_1': [0]}"
      ]
     },
     "execution_count": 11,
     "metadata": {},
     "output_type": "execute_result"
    }
   ],
   "source": [
    "data += [(x, [0]) for (i, x) in enumerate(inputlist) if x.startswith('s_')]\n",
    "data = dict(data)\n",
    "data"
   ]
  },
  {
   "cell_type": "markdown",
   "metadata": {},
   "source": [
    "Now we need to set certain selector variables to \"1\" to navigate down the tree.  Suppose we want to choose the last element of the database (should be value \"31\") - we need to go down the right-hand branches:"
   ]
  },
  {
   "cell_type": "code",
   "execution_count": 12,
   "metadata": {},
   "outputs": [],
   "source": [
    "data['s_0_1'] = [1]\n",
    "data['s_1_1'] = [1]\n",
    "data['s_2_1'] = [1]\n",
    "data['s_3_1'] = [1]\n",
    "data['s_4_1'] = [1]"
   ]
  },
  {
   "cell_type": "code",
   "execution_count": 13,
   "metadata": {},
   "outputs": [
    {
     "data": {
      "text/plain": [
       "{'content': '', 'status_code': 200}"
      ]
     },
     "execution_count": 13,
     "metadata": {},
     "output_type": "execute_result"
    }
   ],
   "source": [
    "sheep_client.set_inputs(data)"
   ]
  },
  {
   "cell_type": "code",
   "execution_count": 14,
   "metadata": {},
   "outputs": [
    {
     "data": {
      "text/plain": [
       "{'content': '', 'status_code': 200}"
      ]
     },
     "execution_count": 14,
     "metadata": {},
     "output_type": "execute_result"
    }
   ],
   "source": [
    "sheep_client.set_timeout(120)\n",
    "sheep_client.set_parameters({\"Levels\": 30})"
   ]
  },
  {
   "cell_type": "code",
   "execution_count": 15,
   "metadata": {},
   "outputs": [
    {
     "data": {
      "text/plain": [
       "{'content': '', 'status_code': 200}"
      ]
     },
     "execution_count": 15,
     "metadata": {},
     "output_type": "execute_result"
    }
   ],
   "source": [
    "sheep_client.run_job()"
   ]
  },
  {
   "cell_type": "code",
   "execution_count": 16,
   "metadata": {},
   "outputs": [],
   "source": [
    "results = sheep_client.get_results()"
   ]
  },
  {
   "cell_type": "code",
   "execution_count": 17,
   "metadata": {},
   "outputs": [
    {
     "data": {
      "text/plain": [
       "{'content': {'cleartext check': {'is_correct': True},\n",
       "  'outputs': {'e_4_0': ['31']},\n",
       "  'timings': {'c_0_0_0': '3506.700000',\n",
       "   'c_0_0_1': '3382.600000',\n",
       "   'c_0_0_10': '3440.900000',\n",
       "   'c_0_0_11': '3532.100000',\n",
       "   'c_0_0_12': '3479.900000',\n",
       "   'c_0_0_13': '3493.700000',\n",
       "   'c_0_0_14': '3426.700000',\n",
       "   'c_0_0_15': '3415.500000',\n",
       "   'c_0_0_2': '3420.400000',\n",
       "   'c_0_0_3': '3382.200000',\n",
       "   'c_0_0_4': '3418.900000',\n",
       "   'c_0_0_5': '3459.200000',\n",
       "   'c_0_0_6': '3407.700000',\n",
       "   'c_0_0_7': '3373.500000',\n",
       "   'c_0_0_8': '3371.900000',\n",
       "   'c_0_0_9': '3576.000000',\n",
       "   'c_0_1_0': '3377.400000',\n",
       "   'c_0_1_1': '3471.700000',\n",
       "   'c_0_1_10': '3442.200000',\n",
       "   'c_0_1_11': '3382.500000',\n",
       "   'c_0_1_12': '3375.800000',\n",
       "   'c_0_1_13': '3439.200000',\n",
       "   'c_0_1_14': '3373.400000',\n",
       "   'c_0_1_15': '3392.700000',\n",
       "   'c_0_1_2': '3407.000000',\n",
       "   'c_0_1_3': '3371.600000',\n",
       "   'c_0_1_4': '3414.200000',\n",
       "   'c_0_1_5': '3366.900000',\n",
       "   'c_0_1_6': '3366.800000',\n",
       "   'c_0_1_7': '3432.700000',\n",
       "   'c_0_1_8': '3385.600000',\n",
       "   'c_0_1_9': '3370.700000',\n",
       "   'c_1_0_0': '87.300000',\n",
       "   'c_1_0_1': '89.400000',\n",
       "   'c_1_0_2': '91.400000',\n",
       "   'c_1_0_3': '90.700000',\n",
       "   'c_1_0_4': '97.200000',\n",
       "   'c_1_0_5': '93.100000',\n",
       "   'c_1_0_6': '91.300000',\n",
       "   'c_1_0_7': '91.400000',\n",
       "   'c_1_1_0': '91.200000',\n",
       "   'c_1_1_1': '90.900000',\n",
       "   'c_1_1_2': '90.200000',\n",
       "   'c_1_1_3': '92.300000',\n",
       "   'c_1_1_4': '90.800000',\n",
       "   'c_1_1_5': '92.000000',\n",
       "   'c_1_1_6': '99.600000',\n",
       "   'c_1_1_7': '98.100000',\n",
       "   'c_2_0_0': '168.500000',\n",
       "   'c_2_0_1': '165.000000',\n",
       "   'c_2_0_2': '167.700000',\n",
       "   'c_2_0_3': '164.900000',\n",
       "   'c_2_1_0': '168.000000',\n",
       "   'c_2_1_1': '165.800000',\n",
       "   'c_2_1_2': '168.000000',\n",
       "   'c_2_1_3': '168.500000',\n",
       "   'c_3_0_0': '199.500000',\n",
       "   'c_3_0_1': '200.200000',\n",
       "   'c_3_1_0': '202.700000',\n",
       "   'c_3_1_1': '199.600000',\n",
       "   'c_4_0_0': '259.000000',\n",
       "   'c_4_1_0': '250.200000',\n",
       "   'd_1_0_0': '4761.600000',\n",
       "   'd_1_0_1': '4787.400000',\n",
       "   'd_1_0_2': '4776.000000',\n",
       "   'd_1_0_3': '4966.400000',\n",
       "   'd_1_0_4': '4706.500000',\n",
       "   'd_1_0_5': '4765.300000',\n",
       "   'd_1_0_6': '4893.200000',\n",
       "   'd_1_0_7': '4742.600000',\n",
       "   'd_1_1_0': '5305.900000',\n",
       "   'd_1_1_1': '5216.200000',\n",
       "   'd_1_1_2': '5280.900000',\n",
       "   'd_1_1_3': '5232.100000',\n",
       "   'd_1_1_4': '5705.100000',\n",
       "   'd_1_1_5': '5767.900000',\n",
       "   'd_1_1_6': '80.200000',\n",
       "   'd_1_1_7': '80.100000',\n",
       "   'd_2_0_0': '118.900000',\n",
       "   'd_2_0_1': '123.200000',\n",
       "   'd_2_0_2': '125.400000',\n",
       "   'd_2_0_3': '217.200000',\n",
       "   'd_2_1_0': '170.000000',\n",
       "   'd_2_1_1': '169.200000',\n",
       "   'd_2_1_2': '167.300000',\n",
       "   'd_2_1_3': '168.200000',\n",
       "   'd_3_0_0': '207.800000',\n",
       "   'd_3_0_1': '199.900000',\n",
       "   'd_3_1_0': '199.900000',\n",
       "   'd_3_1_1': '201.300000',\n",
       "   'd_4_0_0': '231.700000',\n",
       "   'd_4_1_0': '225.700000',\n",
       "   'decryption': '965.500000',\n",
       "   'e_0_0': '4201.300000',\n",
       "   'e_0_1': '4121.800000',\n",
       "   'e_0_10': '4074.500000',\n",
       "   'e_0_11': '4119.500000',\n",
       "   'e_0_12': '4081.800000',\n",
       "   'e_0_13': '4123.000000',\n",
       "   'e_0_14': '4081.300000',\n",
       "   'e_0_15': '4081.600000',\n",
       "   'e_0_2': '4159.300000',\n",
       "   'e_0_3': '4081.900000',\n",
       "   'e_0_4': '4276.700000',\n",
       "   'e_0_5': '4131.100000',\n",
       "   'e_0_6': '4149.000000',\n",
       "   'e_0_7': '4120.700000',\n",
       "   'e_0_8': '4078.400000',\n",
       "   'e_0_9': '4142.300000',\n",
       "   'e_1_0': '104.500000',\n",
       "   'e_1_1': '111.000000',\n",
       "   'e_1_2': '110.400000',\n",
       "   'e_1_3': '111.700000',\n",
       "   'e_1_4': '110.400000',\n",
       "   'e_1_5': '112.800000',\n",
       "   'e_1_6': '112.700000',\n",
       "   'e_1_7': '111.900000',\n",
       "   'e_2_0': '166.000000',\n",
       "   'e_2_1': '164.100000',\n",
       "   'e_2_2': '169.400000',\n",
       "   'e_2_3': '168.500000',\n",
       "   'e_3_0': '234.800000',\n",
       "   'e_3_1': '741.500000',\n",
       "   'e_4_0': '277.500000',\n",
       "   'encryption': '122100.500000',\n",
       "   'evaluation': '275257.100000'}},\n",
       " 'status_code': 200}"
      ]
     },
     "execution_count": 17,
     "metadata": {},
     "output_type": "execute_result"
    }
   ],
   "source": [
    "results"
   ]
  },
  {
   "cell_type": "markdown",
   "metadata": {},
   "source": [
    "## Calculating mean and variance of a set of inputs\n",
    "\n",
    "One may wish to calculate statistical properties of a set of encrypted inputs, such as mean, standard deviation etc.   Currently the contexts implemented in SHEEP do not have \"Divide\" operations, so calculating these exact values via only homomorphic operations on the ciphertext is not possible.  \n",
    "\n",
    "However, the client will necessarily know \"N\", the number of inputs, so can perform division in the clear on the decrypted results of the homomorphic calculations.\n",
    "\n",
    "We therefore only need homomorphic addition and multiplication.  Simply summing the inputs $x_i$ gives us $N\\bar{x}$. \n",
    "Meanwhile $\\Sigma_{i=0}^N(Nx_i - N\\bar{x})^2$  is $N^3$ times the variance.\n",
    "\n"
   ]
  },
  {
   "cell_type": "code",
   "execution_count": 41,
   "metadata": {},
   "outputs": [
    {
     "data": {
      "text/plain": [
       "{'content': '', 'status_code': 200}"
      ]
     },
     "execution_count": 41,
     "metadata": {},
     "output_type": "execute_result"
    }
   ],
   "source": [
    "# reset the sheep server settings, - this time we'll use uint32_t and SEAL\n",
    "sheep_client.new_job()\n",
    "sheep_client.set_input_type(\"uint32_t\")\n",
    "sheep_client.set_context(\"SEAL\")"
   ]
  },
  {
   "cell_type": "markdown",
   "metadata": {},
   "source": [
    "Let's generate a circuit to calculate $(N \\times mean)$ and ($N^3 \\times variance)$ of a set of 10 inputs:"
   ]
  },
  {
   "cell_type": "code",
   "execution_count": 42,
   "metadata": {},
   "outputs": [
    {
     "name": "stdout",
     "output_type": "stream",
     "text": [
      "CONST_INPUTS N\n",
      "INPUTS x_0 x_1 x_2 x_3 x_4 x_5 x_6 x_7 x_8 x_9\n",
      "OUTPUTS Nxbar varianceN3\n",
      " x_0 x_1 ADD y_0\n",
      " y_0 x_2 ADD y_1\n",
      " y_1 x_3 ADD y_2\n",
      " y_2 x_4 ADD y_3\n",
      " y_3 x_5 ADD y_4\n",
      " y_4 x_6 ADD y_5\n",
      " y_5 x_7 ADD y_6\n",
      " y_6 x_8 ADD y_7\n",
      " y_7 x_9 ADD y_8\n",
      " y_8 ALIAS Nxbar\n",
      " x_0 N MULTBYCONST Nx_0\n",
      " Nxbar Nx_0 SUBTRACT v_0\n",
      " v_0 ALIAS vv_0\n",
      " v_0 vv_0 MULTIPLY s_0\n",
      " x_1 N MULTBYCONST Nx_1\n",
      " Nxbar Nx_1 SUBTRACT v_1\n",
      " v_1 ALIAS vv_1\n",
      " v_1 vv_1 MULTIPLY s_1\n",
      " x_2 N MULTBYCONST Nx_2\n",
      " Nxbar Nx_2 SUBTRACT v_2\n",
      " v_2 ALIAS vv_2\n",
      " v_2 vv_2 MULTIPLY s_2\n",
      " x_3 N MULTBYCONST Nx_3\n",
      " Nxbar Nx_3 SUBTRACT v_3\n",
      " v_3 ALIAS vv_3\n",
      " v_3 vv_3 MULTIPLY s_3\n",
      " x_4 N MULTBYCONST Nx_4\n",
      " Nxbar Nx_4 SUBTRACT v_4\n",
      " v_4 ALIAS vv_4\n",
      " v_4 vv_4 MULTIPLY s_4\n",
      " x_5 N MULTBYCONST Nx_5\n",
      " Nxbar Nx_5 SUBTRACT v_5\n",
      " v_5 ALIAS vv_5\n",
      " v_5 vv_5 MULTIPLY s_5\n",
      " x_6 N MULTBYCONST Nx_6\n",
      " Nxbar Nx_6 SUBTRACT v_6\n",
      " v_6 ALIAS vv_6\n",
      " v_6 vv_6 MULTIPLY s_6\n",
      " x_7 N MULTBYCONST Nx_7\n",
      " Nxbar Nx_7 SUBTRACT v_7\n",
      " v_7 ALIAS vv_7\n",
      " v_7 vv_7 MULTIPLY s_7\n",
      " x_8 N MULTBYCONST Nx_8\n",
      " Nxbar Nx_8 SUBTRACT v_8\n",
      " v_8 ALIAS vv_8\n",
      " v_8 vv_8 MULTIPLY s_8\n",
      " x_9 N MULTBYCONST Nx_9\n",
      " Nxbar Nx_9 SUBTRACT v_9\n",
      " v_9 ALIAS vv_9\n",
      " v_9 vv_9 MULTIPLY s_9\n",
      " s_0 s_1 ADD ss_0\n",
      " ss_0 s_2 ADD ss_1\n",
      " ss_1 s_3 ADD ss_2\n",
      " ss_2 s_4 ADD ss_3\n",
      " ss_3 s_5 ADD ss_4\n",
      " ss_4 s_6 ADD ss_5\n",
      " ss_5 s_7 ADD ss_6\n",
      " ss_6 s_8 ADD ss_7\n",
      " ss_7 s_9 ADD ss_8\n",
      " ss_8 ALIAS varianceN3\n",
      "\n"
     ]
    }
   ],
   "source": [
    "num_inputs = 10\n",
    "circuit_file = generate_variance_circuit(num_inputs)\n",
    "sheep_client.set_circuit(circuit_file)\n",
    "print(sheep_client.get_circuit()[\"content\"][\"circuit\"])"
   ]
  },
  {
   "cell_type": "markdown",
   "metadata": {},
   "source": [
    "To generate the inputs, lets use a Gaussian with $\\mu=50$ and $\\sigma = 10$ (all input values rounded to integers):"
   ]
  },
  {
   "cell_type": "code",
   "execution_count": 43,
   "metadata": {},
   "outputs": [
    {
     "data": {
      "text/plain": [
       "{'x_0': [34],\n",
       " 'x_1': [56],\n",
       " 'x_2': [55],\n",
       " 'x_3': [43],\n",
       " 'x_4': [48],\n",
       " 'x_5': [54],\n",
       " 'x_6': [71],\n",
       " 'x_7': [56],\n",
       " 'x_8': [48],\n",
       " 'x_9': [34]}"
      ]
     },
     "execution_count": 43,
     "metadata": {},
     "output_type": "execute_result"
    }
   ],
   "source": [
    "input_vals = generate_gaussian_inputs(num_inputs,50,10)\n",
    "input_vals"
   ]
  },
  {
   "cell_type": "code",
   "execution_count": 44,
   "metadata": {},
   "outputs": [
    {
     "data": {
      "text/plain": [
       "{'content': '', 'status_code': 200}"
      ]
     },
     "execution_count": 44,
     "metadata": {},
     "output_type": "execute_result"
    }
   ],
   "source": [
    "sheep_client.set_inputs(input_vals)\n",
    "sheep_client.set_const_inputs({\"N\": 10})"
   ]
  },
  {
   "cell_type": "code",
   "execution_count": 45,
   "metadata": {},
   "outputs": [],
   "source": [
    "sheep_client.run_job()\n",
    "results = sheep_client.get_results()['content']"
   ]
  },
  {
   "cell_type": "code",
   "execution_count": 46,
   "metadata": {},
   "outputs": [
    {
     "data": {
      "text/plain": [
       "{'Nxbar': ['499'], 'varianceN3': ['30368']}"
      ]
     },
     "execution_count": 46,
     "metadata": {},
     "output_type": "execute_result"
    }
   ],
   "source": [
    "results[\"outputs\"]"
   ]
  },
  {
   "cell_type": "markdown",
   "metadata": {},
   "source": [
    "In the clear, we can then divide these by $N$ and $N^3$ respectively:"
   ]
  },
  {
   "cell_type": "code",
   "execution_count": 47,
   "metadata": {},
   "outputs": [
    {
     "name": "stdout",
     "output_type": "stream",
     "text": [
      "49.9 30.368\n"
     ]
    }
   ],
   "source": [
    "print(float(results[\"outputs\"][\"Nxbar\"][0])/num_inputs , float(results[\"outputs\"][\"varianceN3\"][0])/pow(num_inputs,3))"
   ]
  },
  {
   "cell_type": "markdown",
   "metadata": {},
   "source": [
    "## Bitonic sort\n",
    "\n",
    "Sorting a list of inputs is another non-trivial operation that can be performed using a combination of straightforward homomorphic operations - namely \"Select\" and \"Compare\".\n"
   ]
  },
  {
   "cell_type": "code",
   "execution_count": 2,
   "metadata": {},
   "outputs": [
    {
     "data": {
      "text/plain": [
       "{'content': '', 'status_code': 200}"
      ]
     },
     "execution_count": 2,
     "metadata": {},
     "output_type": "execute_result"
    }
   ],
   "source": [
    "sheep_client.new_job()\n",
    "sheep_client.set_input_type(\"int8_t\")\n",
    "sheep_client.set_context(\"HElib_F2\")\n",
    "circuit_file = os.path.join(SHEEP_HOME,\"benchmark_inputs\",\"mid_level\",\"circuits\",\"circuit-bitonic-sort-4.sheep\")\n",
    "sheep_client.set_circuit(circuit_file)"
   ]
  },
  {
   "cell_type": "markdown",
   "metadata": {},
   "source": [
    "What inputs does this circuit expect?"
   ]
  },
  {
   "cell_type": "code",
   "execution_count": 3,
   "metadata": {},
   "outputs": [
    {
     "data": {
      "text/plain": [
       "{'content': ['i0', 'i1', 'i2', 'i3'], 'status_code': 200}"
      ]
     },
     "execution_count": 3,
     "metadata": {},
     "output_type": "execute_result"
    }
   ],
   "source": [
    "sheep_client.get_inputs()"
   ]
  },
  {
   "cell_type": "code",
   "execution_count": 4,
   "metadata": {},
   "outputs": [
    {
     "data": {
      "text/plain": [
       "{'content': '', 'status_code': 200}"
      ]
     },
     "execution_count": 4,
     "metadata": {},
     "output_type": "execute_result"
    }
   ],
   "source": [
    "sheep_client.set_inputs({\"i0\":[4],\"i1\":[8],\"i2\":[1],\"i3\": [3]})"
   ]
  },
  {
   "cell_type": "code",
   "execution_count": 5,
   "metadata": {},
   "outputs": [],
   "source": [
    "sheep_client.set_timeout(120)\n",
    "sheep_client.run_job()\n",
    "results = sheep_client.get_results()['content']"
   ]
  },
  {
   "cell_type": "code",
   "execution_count": 6,
   "metadata": {},
   "outputs": [
    {
     "data": {
      "text/plain": [
       "{'w31': ['1'], 'w32': ['3'], 'w36': ['4'], 'w37': ['8']}"
      ]
     },
     "execution_count": 6,
     "metadata": {},
     "output_type": "execute_result"
    }
   ],
   "source": [
    "results[\"outputs\"]"
   ]
  },
  {
   "cell_type": "code",
   "execution_count": 7,
   "metadata": {},
   "outputs": [
    {
     "data": {
      "text/plain": [
       "{'content': 'uploaded OK', 'status_code': 200}"
      ]
     },
     "execution_count": 7,
     "metadata": {},
     "output_type": "execute_result"
    }
   ],
   "source": [
    "sheep_client.upload_results(\"bitonic_sort_4\")"
   ]
  },
  {
   "cell_type": "code",
   "execution_count": 8,
   "metadata": {},
   "outputs": [],
   "source": [
    "sheep_client.set_context(\"TFHE\")\n",
    "sheep_client.run_job()\n",
    "results_tfhe = sheep_client.get_results()['content']"
   ]
  },
  {
   "cell_type": "code",
   "execution_count": 9,
   "metadata": {},
   "outputs": [
    {
     "data": {
      "text/plain": [
       "{'w31': ['1'], 'w32': ['3'], 'w36': ['4'], 'w37': ['8']}"
      ]
     },
     "execution_count": 9,
     "metadata": {},
     "output_type": "execute_result"
    }
   ],
   "source": [
    "results_tfhe[\"outputs\"]"
   ]
  },
  {
   "cell_type": "code",
   "execution_count": 10,
   "metadata": {},
   "outputs": [
    {
     "data": {
      "text/plain": [
       "{'content': 'uploaded OK', 'status_code': 200}"
      ]
     },
     "execution_count": 10,
     "metadata": {},
     "output_type": "execute_result"
    }
   ],
   "source": [
    "sheep_client.upload_results(\"bitonic_sort_4\")"
   ]
  },
  {
   "cell_type": "code",
   "execution_count": 11,
   "metadata": {},
   "outputs": [],
   "source": [
    "import pandas as pd\n",
    "from pysheep.database import session, BenchmarkMeasurement, Timing"
   ]
  },
  {
   "cell_type": "code",
   "execution_count": 15,
   "metadata": {},
   "outputs": [],
   "source": [
    "rows = session.query(BenchmarkMeasurement).filter_by(circuit_name=\"bitonic_sort_4\").all()"
   ]
  },
  {
   "cell_type": "code",
   "execution_count": 21,
   "metadata": {},
   "outputs": [],
   "source": [
    "circuit = sheep_client.get_circuit()[\"content\"][\"circuit\"]\n",
    "timing_results = results[\"timings\"]"
   ]
  },
  {
   "cell_type": "code",
   "execution_count": 22,
   "metadata": {},
   "outputs": [],
   "source": [
    "from pysheep.benchmark_utils import *\n",
    "timingdict = timing_per_gate_type(timing_results, circuit)"
   ]
  },
  {
   "cell_type": "code",
   "execution_count": 23,
   "metadata": {},
   "outputs": [
    {
     "data": {
      "text/plain": [
       "{'ALIAS': 9098438.3, 'COMPARE': 9044573.299999999, 'SELECT': 27303934.0}"
      ]
     },
     "execution_count": 23,
     "metadata": {},
     "output_type": "execute_result"
    }
   ],
   "source": [
    "timingdict"
   ]
  },
  {
   "cell_type": "code",
   "execution_count": null,
   "metadata": {},
   "outputs": [],
   "source": []
  }
 ],
 "metadata": {
  "kernelspec": {
   "display_name": "Python 3",
   "language": "python",
   "name": "python3"
  },
  "language_info": {
   "codemirror_mode": {
    "name": "ipython",
    "version": 3
   },
   "file_extension": ".py",
   "mimetype": "text/x-python",
   "name": "python",
   "nbconvert_exporter": "python",
   "pygments_lexer": "ipython3",
   "version": "3.5.2"
  }
 },
 "nbformat": 4,
 "nbformat_minor": 2
}
