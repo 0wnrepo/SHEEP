{
 "cells": [
  {
   "cell_type": "markdown",
   "metadata": {},
   "source": [
    "## Mid-level benchmarks"
   ]
  },
  {
   "cell_type": "markdown",
   "metadata": {},
   "source": [
    "### Private Information Retrieval (PIR)\n",
    "\n",
    "One application of HE is to retrieve a data point from a database held elsewhere, without the database holder knowing which point is being requested. If Alice wants to query Bob's database, she simply encrypts an array full of zeros, except for a \"1\" in the position of the desired data point, and sends this ciphertext to Bob. He then performs homomorphic multiplication and addition, and sends the ciphertext back to Alice, who decrypts it to retrieve the data point she requested.\n",
    "\n",
    "To demonstrate this on a very small scale, lets look at a \"database\" containing only two values: 123 and 456:"
   ]
  },
  {
   "cell_type": "code",
   "execution_count": 1,
   "metadata": {},
   "outputs": [],
   "source": [
    "from pysheep.common.database import BenchmarkMeasurement, session, build_filter\n",
    "from pysheep.benchmarks.mid_level_benchmarks import generate_pir_circuit, \\\n",
    "    generate_variance_circuit, generate_bitonic_sort_circuit, generate_gaussian_inputs\n",
    "from pysheep.benchmarks import benchmark_utils\n",
    "from pysheep.common import common_utils"
   ]
  },
  {
   "cell_type": "markdown",
   "metadata": {},
   "source": [
    "First let's generate the circuit file for this simple case:"
   ]
  },
  {
   "cell_type": "code",
   "execution_count": 2,
   "metadata": {},
   "outputs": [],
   "source": [
    "circuit_file=generate_pir_circuit(2,[2])"
   ]
  },
  {
   "cell_type": "markdown",
   "metadata": {},
   "source": [
    "What inputs does this circuit expect?"
   ]
  },
  {
   "cell_type": "code",
   "execution_count": 3,
   "metadata": {},
   "outputs": [
    {
     "data": {
      "text/plain": [
       "['d_0_0_0', 'd_0_1_0', 's_0_0', 's_0_1']"
      ]
     },
     "execution_count": 3,
     "metadata": {},
     "output_type": "execute_result"
    }
   ],
   "source": [
    "common_utils.get_inputs(circuit_file)"
   ]
  },
  {
   "cell_type": "markdown",
   "metadata": {},
   "source": [
    "\"d_a_b_c\" are the \"database\" values, and \"s_x_y\" are the \"selector\" values.  We can set d_0_0_0 and d_0_1_0 to \"123\" and \"456\" respectively.  Then, to select d_0_0_0 (which will hopefully be the value \"123\") from the database, we should set s_0_0 to 1 and s_0_1 to zero."
   ]
  },
  {
   "cell_type": "code",
   "execution_count": 4,
   "metadata": {},
   "outputs": [],
   "source": [
    "inputs_file = common_utils.write_inputs_file({\"d_0_0_0\": 123, \"d_0_1_0\": 456, \"s_0_0\": 1, \"s_0_1\": 0})"
   ]
  },
  {
   "cell_type": "code",
   "execution_count": 5,
   "metadata": {},
   "outputs": [],
   "source": [
    "results = benchmark_utils.run_circuit(circuit_file,inputs_file,\"int8_t\",\"HElib_Fp\")"
   ]
  },
  {
   "cell_type": "code",
   "execution_count": 6,
   "metadata": {},
   "outputs": [
    {
     "data": {
      "text/plain": [
       "{'e_0_0': '123'}"
      ]
     },
     "execution_count": 6,
     "metadata": {},
     "output_type": "execute_result"
    }
   ],
   "source": [
    "results\n"
   ]
  },
  {
   "cell_type": "markdown",
   "metadata": {},
   "source": [
    "Assuming we will normally want to query a database containing N>2 items, one might think that we need to encrypt and send N \"s\"-values to identify the data point that we want.  However, we can be smarter than that by using a binary tree structure for the data, and having the \"s\"-values dictate how we navigate the tree to locate the desired data point. "
   ]
  },
  {
   "cell_type": "markdown",
   "metadata": {},
   "source": [
    "Lets generate a circuit file corresponding to a database containing 32 values, arranged in a tree with 5 layers and 2 choices per layer ($2^5 = 32$)."
   ]
  },
  {
   "cell_type": "code",
   "execution_count": 7,
   "metadata": {},
   "outputs": [],
   "source": [
    "circuit_file=generate_pir_circuit(128,[2,2,2,2,2,2,2])"
   ]
  },
  {
   "cell_type": "markdown",
   "metadata": {},
   "source": [
    "Let's now fill this database with values 0-to-31:"
   ]
  },
  {
   "cell_type": "code",
   "execution_count": 8,
   "metadata": {},
   "outputs": [],
   "source": [
    "inputlist=common_utils.get_inputs(circuit_file)\n",
    "data = [(x, i) for (i, x) in enumerate(inputlist) if x.startswith('d_')]"
   ]
  },
  {
   "cell_type": "markdown",
   "metadata": {},
   "source": [
    "To start with, we'll set all the \"s\" (selector) inputs to zero:"
   ]
  },
  {
   "cell_type": "code",
   "execution_count": 9,
   "metadata": {},
   "outputs": [],
   "source": [
    "data += [(x, 0) for (i, x) in enumerate(inputlist) if x.startswith('s_')]\n",
    "data = dict(data)\n"
   ]
  },
  {
   "cell_type": "markdown",
   "metadata": {},
   "source": [
    "Now we need to set certain selector variables to \"1\" to navigate down the tree.  Suppose we want to choose the last element of the database (should be value \"31\") - we need to go down the right-hand branches:"
   ]
  },
  {
   "cell_type": "code",
   "execution_count": 10,
   "metadata": {},
   "outputs": [],
   "source": [
    "data['s_0_1'] = 1\n",
    "data['s_1_1'] = 1\n",
    "data['s_2_1'] = 1\n",
    "data['s_3_1'] = 1\n",
    "data['s_4_1'] = 1\n",
    "data['s_5_1'] = 1\n",
    "data['s_6_1'] = 1"
   ]
  },
  {
   "cell_type": "code",
   "execution_count": 11,
   "metadata": {},
   "outputs": [],
   "source": [
    "inputs_file = common_utils.write_inputs_file(data)"
   ]
  },
  {
   "cell_type": "code",
   "execution_count": 12,
   "metadata": {},
   "outputs": [],
   "source": [
    "results = benchmark_utils.run_circuit(circuit_file,inputs_file,\"int16_t\",\"HElib_Fp\")"
   ]
  },
  {
   "cell_type": "code",
   "execution_count": 13,
   "metadata": {},
   "outputs": [
    {
     "data": {
      "text/plain": [
       "{'e_6_0': '28404'}"
      ]
     },
     "execution_count": 13,
     "metadata": {},
     "output_type": "execute_result"
    }
   ],
   "source": [
    "results"
   ]
  },
  {
   "cell_type": "markdown",
   "metadata": {},
   "source": [
    "## Calculating mean and variance of a set of inputs\n",
    "\n",
    "One may wish to calculate statistical properties of a set of encrypted inputs, such as mean, standard deviation etc.   Currently the contexts implemented in SHEEP do not have \"Divide\" operations, so calculating these exact values via only homomorphic operations on the ciphertext is not possible.  \n",
    "\n",
    "However, the client will necessarily know \"N\", the number of inputs, so can perform division in the clear on the decrypted results of the homomorphic calculations.\n",
    "\n",
    "We therefore only need homomorphic addition and multiplication.  Simply summing the inputs $x_i$ gives us $N\\bar{x}$. \n",
    "Meanwhile $\\Sigma_{i=0}^N(Nx_i - N\\bar{x})^2$  is $N^3$ times the variance.\n",
    "\n"
   ]
  },
  {
   "cell_type": "markdown",
   "metadata": {},
   "source": [
    "Let's generate a circuit to calculate $(N \\times mean)$ and ($N^3 \\times variance)$ of a set of 20 inputs:"
   ]
  },
  {
   "cell_type": "code",
   "execution_count": 21,
   "metadata": {},
   "outputs": [],
   "source": [
    "num_inputs = 20\n",
    "circuit_file = generate_variance_circuit(num_inputs)"
   ]
  },
  {
   "cell_type": "markdown",
   "metadata": {},
   "source": [
    "To generate the inputs, lets use a Gaussian with $\\mu=50$ and $\\sigma = 10$ (all input values rounded to integers):"
   ]
  },
  {
   "cell_type": "code",
   "execution_count": 22,
   "metadata": {},
   "outputs": [],
   "source": [
    "input_vals = generate_gaussian_inputs(num_inputs,50,10)\n",
    "inputs_file = benchmark_utils.write_inputs_file(input_vals)"
   ]
  },
  {
   "cell_type": "code",
   "execution_count": 23,
   "metadata": {},
   "outputs": [
    {
     "data": {
      "text/plain": [
       "'/Users/nbarlow/SHEEP/benchmark_inputs/mid_level/circuits/circuit-variance-20.sheep'"
      ]
     },
     "execution_count": 23,
     "metadata": {},
     "output_type": "execute_result"
    }
   ],
   "source": [
    "circuit_file\n"
   ]
  },
  {
   "cell_type": "code",
   "execution_count": 24,
   "metadata": {},
   "outputs": [],
   "source": [
    "results = benchmark_utils.run_circuit(circuit_file,inputs_file,\"uint32_t\",\"HElib_Fp\")"
   ]
  },
  {
   "cell_type": "code",
   "execution_count": 25,
   "metadata": {},
   "outputs": [
    {
     "data": {
      "text/plain": [
       "{'Nxbar': '941', 'varianceN3': '27347'}"
      ]
     },
     "execution_count": 25,
     "metadata": {},
     "output_type": "execute_result"
    }
   ],
   "source": [
    "results"
   ]
  },
  {
   "cell_type": "markdown",
   "metadata": {},
   "source": [
    "In the clear, we can then divide these by $N$ and $N^3$ respectively:"
   ]
  },
  {
   "cell_type": "code",
   "execution_count": 26,
   "metadata": {},
   "outputs": [
    {
     "name": "stdout",
     "output_type": "stream",
     "text": [
      "47.05 3.418375\n"
     ]
    }
   ],
   "source": [
    "print(float(results[\"Nxbar\"])/num_inputs , float(results[\"varianceN3\"])/pow(num_inputs,3))"
   ]
  },
  {
   "cell_type": "markdown",
   "metadata": {},
   "source": [
    "## Bitonic sort\n",
    "\n",
    "Sorting a list of inputs is another non-trivial operation that can be performed using a combination of straightforward homomorphic operations - namely \"Select\" and \"Compare\".\n"
   ]
  },
  {
   "cell_type": "code",
   "execution_count": 29,
   "metadata": {},
   "outputs": [],
   "source": [
    "circuit_file = generate_bitonic_sort_circuit(4)"
   ]
  },
  {
   "cell_type": "markdown",
   "metadata": {},
   "source": [
    "What inputs does this circuit expect?"
   ]
  },
  {
   "cell_type": "code",
   "execution_count": 31,
   "metadata": {},
   "outputs": [
    {
     "data": {
      "text/plain": [
       "['i0', 'i1', 'i2', 'i3']"
      ]
     },
     "execution_count": 31,
     "metadata": {},
     "output_type": "execute_result"
    }
   ],
   "source": [
    "common_utils.get_inputs(circuit_file)"
   ]
  },
  {
   "cell_type": "code",
   "execution_count": 32,
   "metadata": {},
   "outputs": [],
   "source": [
    "inputs_file = benchmark_utils.write_inputs_file({\"i0\":4,\"i1\":8,\"i2\":1,\"i3\": 3})"
   ]
  },
  {
   "cell_type": "code",
   "execution_count": 33,
   "metadata": {},
   "outputs": [],
   "source": [
    "results = benchmark_utils.run_circuit(circuit_file,inputs_file,\"int8_t\",\"HElib_F2\")"
   ]
  },
  {
   "cell_type": "code",
   "execution_count": 34,
   "metadata": {},
   "outputs": [
    {
     "data": {
      "text/plain": [
       "{'w31': '1', 'w32': '3', 'w36': '4', 'w37': '8'}"
      ]
     },
     "execution_count": 34,
     "metadata": {},
     "output_type": "execute_result"
    }
   ],
   "source": [
    "results"
   ]
  },
  {
   "cell_type": "code",
   "execution_count": 35,
   "metadata": {},
   "outputs": [],
   "source": [
    "results_tfhe = benchmark_utils.run_circuit(circuit_file,inputs_file,\"int8_t\",\"TFHE\")"
   ]
  },
  {
   "cell_type": "code",
   "execution_count": 36,
   "metadata": {},
   "outputs": [
    {
     "data": {
      "text/plain": [
       "{'w31': '1', 'w32': '3', 'w36': '4', 'w37': '8'}"
      ]
     },
     "execution_count": 36,
     "metadata": {},
     "output_type": "execute_result"
    }
   ],
   "source": [
    "results_tfhe"
   ]
  },
  {
   "cell_type": "code",
   "execution_count": 37,
   "metadata": {},
   "outputs": [],
   "source": [
    "import pandas as pd\n",
    "all_rows = pd.read_sql(session.query(BenchmarkMeasurement).filter(BenchmarkMeasurement.circuit_name==\"bitonic-sort\").statement,session.bind)"
   ]
  },
  {
   "cell_type": "code",
   "execution_count": 38,
   "metadata": {},
   "outputs": [
    {
     "data": {
      "text/html": [
       "<div>\n",
       "<style scoped>\n",
       "    .dataframe tbody tr th:only-of-type {\n",
       "        vertical-align: middle;\n",
       "    }\n",
       "\n",
       "    .dataframe tbody tr th {\n",
       "        vertical-align: top;\n",
       "    }\n",
       "\n",
       "    .dataframe thead th {\n",
       "        text-align: right;\n",
       "    }\n",
       "</style>\n",
       "<table border=\"1\" class=\"dataframe\">\n",
       "  <thead>\n",
       "    <tr style=\"text-align: right;\">\n",
       "      <th></th>\n",
       "      <th>context_name</th>\n",
       "      <th>input_bitwidth</th>\n",
       "      <th>circuit_name</th>\n",
       "      <th>execution_time</th>\n",
       "      <th>num_inputs</th>\n",
       "    </tr>\n",
       "  </thead>\n",
       "  <tbody>\n",
       "    <tr>\n",
       "      <th>0</th>\n",
       "      <td>HElib_F2</td>\n",
       "      <td>8</td>\n",
       "      <td>bitonic-sort</td>\n",
       "      <td>8.0</td>\n",
       "      <td>4</td>\n",
       "    </tr>\n",
       "    <tr>\n",
       "      <th>1</th>\n",
       "      <td>TFHE</td>\n",
       "      <td>8</td>\n",
       "      <td>bitonic-sort</td>\n",
       "      <td>10.0</td>\n",
       "      <td>4</td>\n",
       "    </tr>\n",
       "  </tbody>\n",
       "</table>\n",
       "</div>"
      ],
      "text/plain": [
       "  context_name  input_bitwidth  circuit_name  execution_time  num_inputs\n",
       "0     HElib_F2               8  bitonic-sort             8.0           4\n",
       "1         TFHE               8  bitonic-sort            10.0           4"
      ]
     },
     "execution_count": 38,
     "metadata": {},
     "output_type": "execute_result"
    }
   ],
   "source": [
    "all_rows[[\"context_name\",\"input_bitwidth\",\"circuit_name\",\"execution_time\",\"num_inputs\"]]"
   ]
  },
  {
   "cell_type": "code",
   "execution_count": null,
   "metadata": {},
   "outputs": [],
   "source": []
  }
 ],
 "metadata": {
  "kernelspec": {
   "display_name": "Python 3",
   "language": "python",
   "name": "python3"
  },
  "language_info": {
   "codemirror_mode": {
    "name": "ipython",
    "version": 3
   },
   "file_extension": ".py",
   "mimetype": "text/x-python",
   "name": "python",
   "nbconvert_exporter": "python",
   "pygments_lexer": "ipython3",
   "version": "3.6.4"
  }
 },
 "nbformat": 4,
 "nbformat_minor": 2
}
