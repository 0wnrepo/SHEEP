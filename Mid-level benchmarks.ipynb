{
 "cells": [
  {
   "cell_type": "markdown",
   "metadata": {},
   "source": [
    "## Mid-level benchmarks"
   ]
  },
  {
   "cell_type": "markdown",
   "metadata": {},
   "source": [
    "### Private Information Retrieval (PIR)\n",
    "\n",
    "One application of HE is to retrieve a data point from a database held elsewhere, without the database holder knowing which point is being requested. If Alice wants to query Bob's database, she simply encrypts an array full of zeros, except for a \"1\" in the position of the desired data point, and sends this ciphertext to Bob. He then performs homomorphic multiplication and addition, and sends the ciphertext back to Alice, who decrypts it to retrieve the data point she requested.\n",
    "\n",
    "To demonstrate this on a very small scale, lets look at a \"database\" containing only two values: 123 and 456:"
   ]
  },
  {
   "cell_type": "code",
   "execution_count": 1,
   "metadata": {},
   "outputs": [],
   "source": [
    "from frontend.database import session\n",
    "from scripts import generate_pir_circuit, generate_variance_circuit, run_circuit\n"
   ]
  },
  {
   "cell_type": "markdown",
   "metadata": {},
   "source": [
    "First let's generate the circuit file for this simple case:"
   ]
  },
  {
   "cell_type": "code",
   "execution_count": 2,
   "metadata": {},
   "outputs": [],
   "source": [
    "circuit_file=generate_pir_circuit.generate(2,[2])"
   ]
  },
  {
   "cell_type": "markdown",
   "metadata": {},
   "source": [
    "What inputs does this circuit expect?"
   ]
  },
  {
   "cell_type": "code",
   "execution_count": 3,
   "metadata": {},
   "outputs": [
    {
     "data": {
      "text/plain": [
       "['d_0_0_0', 'd_0_1_0', 's_0_0', 's_0_1']"
      ]
     },
     "execution_count": 3,
     "metadata": {},
     "output_type": "execute_result"
    }
   ],
   "source": [
    "run_circuit.get_inputs(circuit_file)"
   ]
  },
  {
   "cell_type": "markdown",
   "metadata": {},
   "source": [
    "\"d_a_b_c\" are the \"database\" values, and \"s_x_y\" are the \"selector\" values.  We can set d_0_0_0 and d_0_1_0 to \"123\" and \"456\" respectively.  Then, to select d_0_0_0 (which will hopefully be the value \"123\") from the database, we should set s_0_0 to 1 and s_0_1 to zero."
   ]
  },
  {
   "cell_type": "code",
   "execution_count": 4,
   "metadata": {},
   "outputs": [],
   "source": [
    "inputs_file = run_circuit.write_inputs_file({\"d_0_0_0\": 123, \"d_0_1_0\": 456, \"s_0_0\": 1, \"s_0_1\": 0})"
   ]
  },
  {
   "cell_type": "code",
   "execution_count": 5,
   "metadata": {},
   "outputs": [
    {
     "data": {
      "text/plain": [
       "'/Users/nbarlow/SHEEP/benchmark_inputs/mid_level/inputs/TMPinputs-660567ba-1618-43ec-8deb-e0c0ff4320ea.txt'"
      ]
     },
     "execution_count": 5,
     "metadata": {},
     "output_type": "execute_result"
    }
   ],
   "source": [
    "inputs_file"
   ]
  },
  {
   "cell_type": "code",
   "execution_count": 6,
   "metadata": {},
   "outputs": [],
   "source": [
    "results = run_circuit.run_circuit(circuit_file,inputs_file,\"int16_t\",\"HElib_Fp\")"
   ]
  },
  {
   "cell_type": "code",
   "execution_count": 7,
   "metadata": {},
   "outputs": [
    {
     "data": {
      "text/plain": [
       "{'e_0_0': '123'}"
      ]
     },
     "execution_count": 7,
     "metadata": {},
     "output_type": "execute_result"
    }
   ],
   "source": [
    "results\n"
   ]
  },
  {
   "cell_type": "markdown",
   "metadata": {},
   "source": [
    "Assuming we will normally want to query a database containing N>2 items, one might think that we need to encrypt and send N \"s\"-values to identify the data point that we want.  However, we can be smarter than that by using a binary tree structure for the data, and having the \"s\"-values dictate how we navigate the tree to locate the desired data point. "
   ]
  },
  {
   "cell_type": "markdown",
   "metadata": {},
   "source": [
    "Lets generate a circuit file corresponding to a database containing 32 values, arranged in a tree with 5 layers and 2 choices per layer ($2^5 = 32$)."
   ]
  },
  {
   "cell_type": "code",
   "execution_count": 8,
   "metadata": {},
   "outputs": [],
   "source": [
    "circuit_file=generate_pir_circuit.generate(32,[2,2,2,2,2])"
   ]
  },
  {
   "cell_type": "markdown",
   "metadata": {},
   "source": [
    "Let's now fill this database with values 0-to-31:"
   ]
  },
  {
   "cell_type": "code",
   "execution_count": 9,
   "metadata": {},
   "outputs": [],
   "source": [
    "inputlist=run_circuit.get_inputs(circuit_file)\n",
    "data = [(x, i) for (i, x) in enumerate(inputlist) if x.startswith('d_')]"
   ]
  },
  {
   "cell_type": "markdown",
   "metadata": {},
   "source": [
    "To start with, we'll set all the \"s\" (selector) inputs to zero:"
   ]
  },
  {
   "cell_type": "code",
   "execution_count": 10,
   "metadata": {},
   "outputs": [],
   "source": [
    "data += [(x, 0) for (i, x) in enumerate(inputlist) if x.startswith('s_')]\n",
    "data = dict(data)\n"
   ]
  },
  {
   "cell_type": "markdown",
   "metadata": {},
   "source": [
    "Now we need to set certain selector variables to \"1\" to navigate down the tree.  Suppose we want to choose the last element of the database (should be value \"31\") - we need to go down the right-hand branches:"
   ]
  },
  {
   "cell_type": "code",
   "execution_count": 11,
   "metadata": {},
   "outputs": [],
   "source": [
    "data['s_0_0'] = 1\n",
    "data['s_0_1'] = 1\n",
    "data['s_0_2'] = 1\n",
    "data['s_0_3'] = 1\n",
    "data['s_0_4'] = 1"
   ]
  },
  {
   "cell_type": "code",
   "execution_count": 12,
   "metadata": {},
   "outputs": [],
   "source": [
    "inputs_file = run_circuit.write_inputs_file(data)"
   ]
  },
  {
   "cell_type": "code",
   "execution_count": 13,
   "metadata": {},
   "outputs": [],
   "source": [
    "results = run_circuit.run_circuit(circuit_file,inputs_file,\"int16_t\",\"HElib_F2\")"
   ]
  },
  {
   "cell_type": "code",
   "execution_count": 14,
   "metadata": {},
   "outputs": [
    {
     "data": {
      "text/plain": [
       "{'e_4_0': '0'}"
      ]
     },
     "execution_count": 14,
     "metadata": {},
     "output_type": "execute_result"
    }
   ],
   "source": [
    "results"
   ]
  },
  {
   "cell_type": "markdown",
   "metadata": {},
   "source": [
    "## Calculating mean and variance of a set of inputs\n",
    "\n",
    "One may wish to calculate statistical properties of a set of encrypted inputs, such as mean, standard deviation etc.   Currently the contexts implemented in SHEEP do not have \"Divide\" operations, so calculating these exact values via only homomorphic operations on the ciphertext is not possible.  \n",
    "\n",
    "However, the client will necessarily know \"N\", the number of inputs, so can perform division in the clear on the decrypted results of the homomorphic calculations.\n",
    "\n",
    "We therefore only need homomorphic addition and multiplication.  Simply summing the inputs $x_i$ gives us $N\\bar{x}$. \n",
    "Meanwhile $\\Sigma_{i=0}^N(Nx_i - N\\bar{x})^2$  is $N^3$ times the variance.\n",
    "\n"
   ]
  },
  {
   "cell_type": "markdown",
   "metadata": {},
   "source": [
    "Let's generate a circuit to calculate $(N \\times mean)$ and ($N^3 \\times variance)$ of a set of 20 inputs:"
   ]
  },
  {
   "cell_type": "code",
   "execution_count": 35,
   "metadata": {},
   "outputs": [],
   "source": [
    "num_inputs = 20\n",
    "circuit_file = generate_variance_circuit.generate(num_inputs)"
   ]
  },
  {
   "cell_type": "markdown",
   "metadata": {},
   "source": [
    "To generate the inputs, lets use a Gaussian with $\\mu=50$ and $\\sigma = 10$ (all input values rounded to integers):"
   ]
  },
  {
   "cell_type": "code",
   "execution_count": 36,
   "metadata": {},
   "outputs": [],
   "source": [
    "input_vals = generate_variance_circuit.generate_inputs(num_inputs,50,10)\n",
    "inputs_file = run_circuit.write_inputs_file(input_vals)"
   ]
  },
  {
   "cell_type": "code",
   "execution_count": null,
   "metadata": {},
   "outputs": [],
   "source": [
    "results = run_circuit.run_circuit(circuit_file,inputs_file,\"uint32_t\",\"TFHE\",num_inputs,\"debugvariance.txt\")"
   ]
  },
  {
   "cell_type": "code",
   "execution_count": 39,
   "metadata": {},
   "outputs": [
    {
     "data": {
      "text/plain": [
       "{'Nxbar': '1040', 'varianceN3': '4790'}"
      ]
     },
     "execution_count": 39,
     "metadata": {},
     "output_type": "execute_result"
    }
   ],
   "source": [
    "results"
   ]
  },
  {
   "cell_type": "markdown",
   "metadata": {},
   "source": [
    "In the clear, we can then divide these by $N$ and $N^3$ respectively:"
   ]
  },
  {
   "cell_type": "code",
   "execution_count": 40,
   "metadata": {},
   "outputs": [
    {
     "name": "stdout",
     "output_type": "stream",
     "text": [
      "52.0 0.59875\n"
     ]
    }
   ],
   "source": [
    "print(float(results[\"Nxbar\"])/num_inputs , float(results[\"varianceN3\"])/pow(num_inputs,3))"
   ]
  },
  {
   "cell_type": "code",
   "execution_count": null,
   "metadata": {},
   "outputs": [],
   "source": []
  }
 ],
 "metadata": {
  "kernelspec": {
   "display_name": "Python 3",
   "language": "python",
   "name": "python3"
  },
  "language_info": {
   "codemirror_mode": {
    "name": "ipython",
    "version": 3
   },
   "file_extension": ".py",
   "mimetype": "text/x-python",
   "name": "python",
   "nbconvert_exporter": "python",
   "pygments_lexer": "ipython3",
   "version": "3.6.3"
  }
 },
 "nbformat": 4,
 "nbformat_minor": 2
}
