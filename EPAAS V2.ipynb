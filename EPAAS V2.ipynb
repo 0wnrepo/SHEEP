{
 "cells": [
  {
   "cell_type": "code",
   "execution_count": 1,
   "metadata": {},
   "outputs": [],
   "source": [
    "from frontend.database import session\n",
    "from scripts import generate_fc_layer_circuit, benchmark_utils\n",
    "from scripts.circuit import circuit\n",
    "from scripts.particles import variables, enc_vec\n",
    "from scripts.reusable_modules import oneb_adder, nb_adder\n",
    "import numpy as np"
   ]
  },
  {
   "cell_type": "code",
   "execution_count": 2,
   "metadata": {},
   "outputs": [
    {
     "name": "stdout",
     "output_type": "stream",
     "text": [
      "['in0745E', 'in1E6A1', 'in2C39A', 'in361A1']\n"
     ]
    }
   ],
   "source": [
    "from scripts.functions import reduce_add\n",
    "inp = enc_vec(name='in', nb=4)\n",
    "print inp.get_variables()\n",
    "out = enc_vec(name='out', nb=3)\n",
    "ra = reduce_add('adder', inp, out)\n",
    "ra_obj = circuit('reduce_add', ra)\n",
    "ra_obj.write_file(filename='./test.sheep')"
   ]
  },
  {
   "cell_type": "code",
   "execution_count": 3,
   "metadata": {},
   "outputs": [
    {
     "name": "stdout",
     "output_type": "stream",
     "text": [
      "['in0745E', 'in1E6A1', 'in2C39A', 'in361A1']\n",
      "in0745E in1E6A1 ADD adder_red_out_1_adder_02b_adder_0_tmp11\n",
      "adder_red_out_1_adder_02b_adder_0_tmp11 ALIAS adder_red_out_10C601866A88\n",
      "in0745E in1E6A1 MULTIPLY adder_red_out_1_adder_02b_adder_0_tmp26\n",
      "adder_red_out_1_adder_02b_adder_0_tmp26 ALIAS adder_red_out_1_adder_0_carry_1EE\n",
      "adder_red_out_1_adder_0_carry_1EE ALIAS adder_red_out_11CE082FE710\n",
      "in2C39A in361A1 ADD adder_red_out_1_adder_12b_adder_0_tmp1D\n",
      "adder_red_out_1_adder_12b_adder_0_tmp1D ALIAS adder_red_out_12A91A892E12\n",
      "in2C39A in361A1 MULTIPLY adder_red_out_1_adder_12b_adder_0_tmp2F\n",
      "adder_red_out_1_adder_12b_adder_0_tmp2F ALIAS adder_red_out_1_adder_1_carry_196\n",
      "adder_red_out_1_adder_1_carry_196 ALIAS adder_red_out_13F703CDC920\n",
      "adder_red_out_10C601866A88 adder_red_out_12A91A892E12 ADD adder_red_out_2_adder_02b_adder_0_tmp12\n",
      "adder_red_out_2_adder_02b_adder_0_tmp12 ALIAS adder_red_out_202E6932CCC7\n",
      "adder_red_out_10C601866A88 adder_red_out_12A91A892E12 MULTIPLY adder_red_out_2_adder_02b_adder_0_tmp2F\n",
      "adder_red_out_2_adder_02b_adder_0_tmp2F ALIAS adder_red_out_2_adder_0_carry_1F1\n",
      "adder_red_out_11CE082FE710 adder_red_out_13F703CDC920 ADD adder_red_out_2_adder_02b_adder_1_tmp1F\n",
      "adder_red_out_2_adder_02b_adder_1_tmp1F adder_red_out_2_adder_0_carry_1F1 ADD adder_red_out_2176F234E7A1\n",
      "adder_red_out_11CE082FE710 adder_red_out_13F703CDC920 MULTIPLY adder_red_out_2_adder_02b_adder_1_tmp23\n",
      "adder_red_out_2_adder_0_carry_1F1 adder_red_out_2_adder_02b_adder_1_tmp1F MULTIPLY adder_red_out_2_adder_02b_adder_1_tmp32\n",
      "adder_red_out_2_adder_02b_adder_1_tmp32 adder_red_out_2_adder_02b_adder_1_tmp23 MAXIMUM adder_red_out_2_adder_0_carry_27D\n",
      "adder_red_out_2_adder_0_carry_27D ALIAS adder_red_out_22F14DAD76CF\n",
      "adder_red_out_202E6932CCC7 ALIAS out066D9\n",
      "adder_red_out_2176F234E7A1 ALIAS out10A8E\n",
      "adder_red_out_22F14DAD76CF ALIAS out2223D\n",
      "['out066D9', 'out10A8E', 'out2223D']\n"
     ]
    }
   ],
   "source": [
    "print(inp.get_variables())\n",
    "print(ra)\n",
    "print(out.get_variables())"
   ]
  },
  {
   "cell_type": "code",
   "execution_count": 10,
   "metadata": {
    "scrolled": true
   },
   "outputs": [
    {
     "name": "stdout",
     "output_type": "stream",
     "text": [
      "0.152057\n"
     ]
    }
   ],
   "source": [
    "import math\n",
    "nb = 3\n",
    "depth = int(math.floor(math.log(nb, 2)))\n",
    "samples=20\n",
    "inp = enc_vec(name='in', nb=nb)\n",
    "out = enc_vec(name='out', nb=depth+1)\n",
    "ra = reduce_add('adder', inp, out)\n",
    "ra_obj = circuit('reduce_add', ra)\n",
    "ra_obj.write_file(filename='./test.sheep')\n",
    "processing_time = np.zeros(samples)\n",
    "for idx in range(0, samples):\n",
    "    inp_arr_val = list(map(lambda x : int(x), np.random.uniform(size=nb)> 0.5))\n",
    "    inp_dict = inp.get_input_dict(inp_arr_val)\n",
    "    inputs_file = benchmark_utils.write_inputs_file(inp_dict)\n",
    "    results = benchmark_utils.run_circuit('./test.sheep',inputs_file,\"bool\",\"TFHE\")\n",
    "    processing_time[idx] = results['Processing times (s)']['circuit_evaluation']\n",
    "    out_vars = out.get_variables()\n",
    "    err_str = str(''.join(results['Outputs'][var] for var in out_vars)[::-1]) +\" -- \"+ str(np.asarray(inp_arr_val).sum())\n",
    "    assert int(''.join(results['Outputs'][var] for var in out_vars)[::-1], 2) == np.asarray(inp_arr_val).sum(), err_str\n",
    "print(processing_time.mean())"
   ]
  },
  {
   "cell_type": "code",
   "execution_count": 5,
   "metadata": {},
   "outputs": [
    {
     "data": {
      "text/plain": [
       "False"
      ]
     },
     "execution_count": 5,
     "metadata": {},
     "output_type": "execute_result"
    }
   ],
   "source": [
    "s = np.asarray([1,2,3])\n",
    "isinstance(s, np.matrix)"
   ]
  },
  {
   "cell_type": "code",
   "execution_count": 6,
   "metadata": {},
   "outputs": [
    {
     "data": {
      "text/plain": [
       "3"
      ]
     },
     "execution_count": 6,
     "metadata": {},
     "output_type": "execute_result"
    }
   ],
   "source": [
    "s.size"
   ]
  },
  {
   "cell_type": "code",
   "execution_count": null,
   "metadata": {},
   "outputs": [
    {
     "name": "stdout",
     "output_type": "stream",
     "text": [
      "([1, 0, 1, 0, 1, 0, 0, 0, 1, 0, 0, 1, 0, 0, 1, 1, 1, 1, 1, 1, 1, 1, 0, 1, 0, 1, 1, 1, 1, 1], <scripts.particles.enc_vec object at 0x10520e690>)\n",
      "(array([1, 1, 1, 0, 1, 1, 0, 1, 0, 0, 1, 1, 0, 0, 0, 0, 1, 0, 0, 0, 1, 1,\n",
      "       1, 1, 1, 1, 1, 1, 0, 0]), [1, 0, 1, 0, 1, 0, 0, 0, 1, 0, 0, 1, 0, 0, 1, 1, 1, 1, 1, 1, 1, 1, 0, 1, 0, 1, 1, 1, 1, 1], array([ True, False,  True,  True,  True, False,  True, False, False,\n",
      "        True, False,  True,  True,  True, False, False,  True, False,\n",
      "       False, False,  True,  True, False,  True, False,  True,  True,\n",
      "        True, False, False]))\n",
      "([1, 1, 1, 0, 0, 0, 0, 0, 0, 0, 1, 1, 1, 1, 0, 0, 1, 0, 0, 1, 1, 1, 0, 1, 1, 0, 0, 1, 0, 1], <scripts.particles.enc_vec object at 0x10520e690>)\n"
     ]
    }
   ],
   "source": [
    "from scripts.nn_layer import linear_layer\n",
    "nb = 30\n",
    "samples = 10\n",
    "inputs = enc_vec(name='nn_input', nb=nb)\n",
    "depth = int(math.ceil(math.log(nb*1.0, 2)))\n",
    "outputs = enc_vec(name='nn_outputs', nb=depth+1)\n",
    "weight = np.asarray(list(map(lambda x : int(x), np.random.uniform(size=nb)> 0.5)))\n",
    "layer = linear_layer(name='linear', weight=weight,\n",
    "                    inputs=inputs, outputs=outputs)\n",
    "layer_obj = circuit('linear_layer', layer)\n",
    "layer_obj.write_file(filename='./test.sheep')\n",
    "processing_time = np.zeros(samples)\n",
    "for idx in range(0, samples):\n",
    "    inp_arr_val = list(map(lambda x : int(x), np.random.uniform(size=nb)> 0.5))\n",
    "    #print(inp_arr_val, inp)\n",
    "    inp_dict = inputs.get_input_dict(inp_arr_val)\n",
    "    inputs_file = benchmark_utils.write_inputs_file(inp_dict)\n",
    "    results = benchmark_utils.run_circuit('./test.sheep',inputs_file,\"bool\",\"TFHE\")\n",
    "    processing_time[idx] = results['Processing times (s)']['circuit_evaluation']\n",
    "    out_vars = outputs.get_variables()\n",
    "    xor_val = (weight == np.asarray([x for x in inp_arr_val]))\n",
    "    print(weight, inp_arr_val, xor_val)\n",
    "    err_str = str(''.join(results['Outputs'][var] for var in out_vars)[::-1]) +\" -- \"+ str(np.asarray(xor_val).sum())\n",
    "    assert int(''.join(results['Outputs'][var] for var in out_vars)[::-1], 2) == np.asarray(xor_val).sum(), err_str\n",
    "print(processing_time.mean())"
   ]
  },
  {
   "cell_type": "code",
   "execution_count": null,
   "metadata": {},
   "outputs": [],
   "source": []
  }
 ],
 "metadata": {
  "kernelspec": {
   "display_name": "Python 2",
   "language": "python",
   "name": "python2"
  },
  "language_info": {
   "codemirror_mode": {
    "name": "ipython",
    "version": 2
   },
   "file_extension": ".py",
   "mimetype": "text/x-python",
   "name": "python",
   "nbconvert_exporter": "python",
   "pygments_lexer": "ipython2",
   "version": "2.7.14"
  }
 },
 "nbformat": 4,
 "nbformat_minor": 2
}
