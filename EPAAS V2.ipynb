{
 "cells": [
  {
   "cell_type": "code",
   "execution_count": 1,
   "metadata": {},
   "outputs": [],
   "source": [
    "from frontend.database import session\n",
    "from scripts import generate_fc_layer_circuit, benchmark_utils\n",
    "from scripts.circuit import circuit\n",
    "from scripts.particles import variables, enc_vec\n",
    "from scripts.reusable_modules import oneb_adder, nb_adder\n",
    "import numpy as np"
   ]
  },
  {
   "cell_type": "code",
   "execution_count": 2,
   "metadata": {},
   "outputs": [
    {
     "name": "stdout",
     "output_type": "stream",
     "text": [
      "['in0C898', 'in19E40', 'in21852', 'in388C0']\n"
     ]
    }
   ],
   "source": [
    "from scripts.functions import reduce_add\n",
    "inp = enc_vec(name='in', nb=4)\n",
    "print inp.get_variables()\n",
    "out = enc_vec(name='out', nb=3)\n",
    "ra = reduce_add('adder', inp, out)\n",
    "ra_obj = circuit('reduce_add', ra)\n",
    "ra_obj.write_file(filename='./test.sheep')"
   ]
  },
  {
   "cell_type": "code",
   "execution_count": 3,
   "metadata": {},
   "outputs": [
    {
     "name": "stdout",
     "output_type": "stream",
     "text": [
      "['in0C898', 'in19E40', 'in21852', 'in388C0']\n",
      "in0C898 in19E40 ADD adder_red_out_1_adder_02b_adder_0_tmp12\n",
      "adder_red_out_1_adder_02b_adder_0_tmp12 ALIAS adder_red_out_100AA37B1F40\n",
      "in0C898 in19E40 MULTIPLY adder_red_out_1_adder_02b_adder_0_tmp29\n",
      "adder_red_out_1_adder_02b_adder_0_tmp29 ALIAS adder_red_out_1_adder_0_carry_1FF\n",
      "adder_red_out_1_adder_0_carry_1FF ALIAS adder_red_out_111056B3B4CD\n",
      "in21852 in388C0 ADD adder_red_out_1_adder_12b_adder_0_tmp1C\n",
      "adder_red_out_1_adder_12b_adder_0_tmp1C ALIAS adder_red_out_12C1EFD88089\n",
      "in21852 in388C0 MULTIPLY adder_red_out_1_adder_12b_adder_0_tmp23\n",
      "adder_red_out_1_adder_12b_adder_0_tmp23 ALIAS adder_red_out_1_adder_1_carry_13C\n",
      "adder_red_out_1_adder_1_carry_13C ALIAS adder_red_out_135BDE697086\n",
      "adder_red_out_100AA37B1F40 adder_red_out_12C1EFD88089 ADD adder_red_out_2_adder_02b_adder_0_tmp19\n",
      "adder_red_out_2_adder_02b_adder_0_tmp19 ALIAS adder_red_out_203583C21F86\n",
      "adder_red_out_100AA37B1F40 adder_red_out_12C1EFD88089 MULTIPLY adder_red_out_2_adder_02b_adder_0_tmp28\n",
      "adder_red_out_2_adder_02b_adder_0_tmp28 ALIAS adder_red_out_2_adder_0_carry_153\n",
      "adder_red_out_111056B3B4CD adder_red_out_135BDE697086 ADD adder_red_out_2_adder_02b_adder_1_tmp10\n",
      "adder_red_out_2_adder_02b_adder_1_tmp10 adder_red_out_2_adder_0_carry_153 ADD adder_red_out_21BDDB2E6E69\n",
      "adder_red_out_111056B3B4CD adder_red_out_135BDE697086 MULTIPLY adder_red_out_2_adder_02b_adder_1_tmp20\n",
      "adder_red_out_2_adder_0_carry_153 adder_red_out_2_adder_02b_adder_1_tmp10 MULTIPLY adder_red_out_2_adder_02b_adder_1_tmp30\n",
      "adder_red_out_2_adder_02b_adder_1_tmp30 adder_red_out_2_adder_02b_adder_1_tmp20 MAXIMUM adder_red_out_2_adder_0_carry_2BB\n",
      "adder_red_out_2_adder_0_carry_2BB ALIAS adder_red_out_225617F8024C\n",
      "adder_red_out_203583C21F86 ALIAS out0E43E\n",
      "adder_red_out_21BDDB2E6E69 ALIAS out1414A\n",
      "adder_red_out_225617F8024C ALIAS out26E9B\n",
      "['out0E43E', 'out1414A', 'out26E9B']\n"
     ]
    }
   ],
   "source": [
    "print(inp.get_variables())\n",
    "print(ra)\n",
    "print(out.get_variables())"
   ]
  },
  {
   "cell_type": "code",
   "execution_count": 6,
   "metadata": {
    "scrolled": false
   },
   "outputs": [
    {
     "name": "stdout",
     "output_type": "stream",
     "text": [
      "35.0\n"
     ]
    }
   ],
   "source": [
    "import math\n",
    "nb = 191\n",
    "depth = int(math.floor(math.log(nb, 2)))\n",
    "samples=3\n",
    "inp = enc_vec(name='in', nb=nb)\n",
    "out = enc_vec(name='out', nb=depth+1)\n",
    "ra = reduce_add('adder', inp, out)\n",
    "ra_obj = circuit('reduce_add', ra)\n",
    "ra_obj.write_file(filename='./test.sheep')\n",
    "processing_time = np.zeros(samples)\n",
    "for idx in range(0, samples):\n",
    "    inp_arr_val = list(map(lambda x : int(x), np.random.uniform(size=nb)> 0.5))\n",
    "    inp_dict = inp.get_input_dict(inp_arr_val)\n",
    "    inputs_file = benchmark_utils.write_inputs_file(inp_dict)\n",
    "    results = benchmark_utils.run_circuit('./test.sheep',inputs_file,\"bool\",\"TFHE\")\n",
    "    processing_time[idx] = results['Processing times (s)']['circuit_evaluation']\n",
    "    out_vars = out.get_variables()\n",
    "    err_str = str(''.join(results['Outputs'][var] for var in out_vars)[::-1]) +\" -- \"+ str(np.asarray(inp_arr_val).sum())\n",
    "    assert int(''.join(results['Outputs'][var] for var in out_vars)[::-1], 2) == np.asarray(inp_arr_val).sum(), err_str\n",
    "print(processing_time.mean())"
   ]
  }
 ],
 "metadata": {
  "kernelspec": {
   "display_name": "Python 2",
   "language": "python",
   "name": "python2"
  },
  "language_info": {
   "codemirror_mode": {
    "name": "ipython",
    "version": 2
   },
   "file_extension": ".py",
   "mimetype": "text/x-python",
   "name": "python",
   "nbconvert_exporter": "python",
   "pygments_lexer": "ipython2",
   "version": "2.7.14"
  }
 },
 "nbformat": 4,
 "nbformat_minor": 2
}
