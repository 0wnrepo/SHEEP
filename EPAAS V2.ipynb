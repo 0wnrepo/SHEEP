{
 "cells": [
  {
   "cell_type": "code",
   "execution_count": 1,
   "metadata": {},
   "outputs": [],
   "source": [
    "from frontend.database import session\n",
    "from scripts import generate_fc_layer_circuit, benchmark_utils\n",
    "from scripts.circuit import circuit\n",
    "from scripts.particles import variables, enc_vec, enc_mat\n",
    "from scripts.reusable_modules import oneb_adder, nb_adder\n",
    "import numpy as np"
   ]
  },
  {
   "cell_type": "code",
   "execution_count": 2,
   "metadata": {},
   "outputs": [],
   "source": [
    "from scripts.functions import reduce_add\n",
    "inp = enc_vec(name='in', nb=4)\n",
    "out = enc_vec(name='out', nb=3)\n",
    "ra = reduce_add('adder', inp, out)\n",
    "ra_obj = circuit('reduce_add', ra)\n",
    "ra_obj.write_file(filename='./test.sheep')"
   ]
  },
  {
   "cell_type": "markdown",
   "metadata": {},
   "source": [
    "# NB bit adder"
   ]
  },
  {
   "cell_type": "code",
   "execution_count": 3,
   "metadata": {
    "scrolled": false
   },
   "outputs": [
    {
     "name": "stdout",
     "output_type": "stream",
     "text": [
      "1.0\n"
     ]
    }
   ],
   "source": [
    "import math\n",
    "nb = 25\n",
    "depth = int(math.floor(math.log(nb, 2)))\n",
    "samples=2\n",
    "inp = enc_vec(name='in', nb=nb)\n",
    "out = enc_vec(name='out', nb=depth+1)\n",
    "ra = reduce_add('adder', inp, out)\n",
    "ra_obj = circuit('reduce_add', ra)\n",
    "ra_obj.write_file(filename='./test.sheep')\n",
    "processing_time = np.zeros(samples)\n",
    "for idx in range(0, samples):\n",
    "    inp_arr_val = list(map(lambda x : int(x), np.random.uniform(size=nb)> 0.5))\n",
    "    inp_dict = inp.get_input_dict(inp_arr_val)\n",
    "    inputs_file = benchmark_utils.write_inputs_file(inp_dict)\n",
    "    results = benchmark_utils.run_circuit('./test.sheep',inputs_file,\"bool\",\"TFHE\", eval_strategy='parallel')\n",
    "    processing_time[idx] = results['Processing times (s)']['circuit_evaluation']\n",
    "    out_vars = out.get_variables()\n",
    "    err_str = str(''.join(results['Outputs'][var] for var in out_vars)[::-1]) +\" -- \"+ str(np.asarray(inp_arr_val).sum())\n",
    "    assert int(''.join(results['Outputs'][var] for var in out_vars)[::-1], 2) == np.asarray(inp_arr_val).sum(), err_str\n",
    "print(processing_time.mean())"
   ]
  },
  {
   "cell_type": "markdown",
   "metadata": {},
   "source": [
    "# Encrypted Prediction as a Service"
   ]
  },
  {
   "cell_type": "code",
   "execution_count": 32,
   "metadata": {},
   "outputs": [
    {
     "name": "stderr",
     "output_type": "stream",
     "text": [
      "100%|██████████| 1/1 [00:00<00:00,  1.06it/s]"
     ]
    },
    {
     "name": "stdout",
     "output_type": "stream",
     "text": [
      "0.4946\n"
     ]
    },
    {
     "name": "stderr",
     "output_type": "stream",
     "text": [
      "\n"
     ]
    }
   ],
   "source": [
    "from scripts.nn_layer import linear_layer_1d\n",
    "from tqdm import tqdm\n",
    "nb = 10\n",
    "samples = 1\n",
    "inputs = enc_vec(name='nn_input', nb=nb)\n",
    "depth = int(math.ceil(math.log(nb*1.0, 2)))\n",
    "outputs = enc_vec(name='nn_outputs', nb=1)\n",
    "outputs_sum = enc_vec(name='sum_outputs', nb=depth+1)\n",
    "weight = np.asarray(list(map(lambda x : int(x), np.random.uniform(size=nb)> 0.5)))\n",
    "layer = linear_layer_1d(name='linear', weight=weight,\n",
    "                    inputs=inputs, outputs=outputs)\n",
    "layer_obj = circuit('linear_layer', layer, const_inputs=[])\n",
    "layer_obj.write_file(filename='./test_linear.sheep')\n",
    "processing_time = np.zeros(samples)\n",
    "for idx in tqdm(range(0, samples)):\n",
    "    inp_arr_val = list(map(lambda x : int(x), np.random.uniform(size=nb)> 0.5))\n",
    "    inp_dict = inputs.get_input_dict(inp_arr_val)\n",
    "    inputs_file = benchmark_utils.write_inputs_file(inp_dict)\n",
    "    results = benchmark_utils.run_circuit('./test_linear.sheep',inputs_file,\"bool\",\"TFHE\",eval_strategy='parallel')\n",
    "    processing_time[idx] = results['Processing times (s)']['circuit_evaluation']\n",
    "    out_vars = outputs.get_variables()\n",
    "    xor_val = (weight == np.asarray([x for x in inp_arr_val]))\n",
    "    err_str = str(''.join(results['Outputs'][var] for var in out_vars)[::-1]) +\" -- \"+ str(np.asarray(xor_val).sum())\n",
    "    assert int(''.join(results['Outputs'][var] for var in out_vars)[::-1], 2) == int(np.asarray(xor_val).sum()>nb/2), err_str\n",
    "print(processing_time.mean())"
   ]
  },
  {
   "cell_type": "markdown",
   "metadata": {},
   "source": [
    "# Comparing Numbers (Ciphertext with Plaintext)"
   ]
  },
  {
   "cell_type": "code",
   "execution_count": 5,
   "metadata": {},
   "outputs": [
    {
     "name": "stdout",
     "output_type": "stream",
     "text": [
      "True\n",
      "125(CP) is smaller than 126(PT)\n",
      "0.36815\n"
     ]
    }
   ],
   "source": [
    "from scripts.reusable_modules import compare_cp\n",
    "cp_inp_val = [1, 0, 1, 1, 1, 1, 1]#[x for x in bin(np.asarray(inp_arr_val).sum())][::-1][:-2] #map(lambda x: int(x), inp_arr_val)[::-1]\n",
    "tgt = 126#len(cp_inp_val)/2\n",
    "comp_inp = enc_vec(name='cp_inp',nb = len(cp_inp_val))\n",
    "out_vec = enc_vec(name='cp_out', nb=1)\n",
    "cp_circ = compare_cp(name='cp', inputs=(comp_inp, tgt), outputs=out_vec)\n",
    "sum_obj = circuit('cp', cp_circ)\n",
    "sum_obj.write_file(filename='./test_cp.sheep')\n",
    "inputs_file = benchmark_utils.write_inputs_file(comp_inp.get_input_dict(cp_inp_val))\n",
    "results = benchmark_utils.run_circuit('./test_cp.sheep',inputs_file,\"bool\",\"TFHE\",eval_strategy='parallel')\n",
    "processing_time[idx] = results['Processing times (s)']['circuit_evaluation']\n",
    "print(int(results['Outputs'][out_vec.get_variables()[0]]) == int(int(''.join(map(lambda x : str(x), cp_inp_val)),2) >= tgt))\n",
    "if int(results['Outputs'][out_vec.get_variables()[0]]) == 1:\n",
    "    print str( int(int(''.join(map(lambda x : str(x), cp_inp_val[::-1])),2)))+\"(CP) is greater than \"+str(tgt)+str(\"(PT)\")\n",
    "else:\n",
    "    print str( int(int(''.join(map(lambda x : str(x), cp_inp_val[::-1])),2)))+\"(CP) is smaller than \"+str(tgt)+str(\"(PT)\")\n",
    "print(results['Processing times (s)']['circuit_evaluation'])\n"
   ]
  },
  {
   "cell_type": "code",
   "execution_count": 31,
   "metadata": {},
   "outputs": [
    {
     "name": "stderr",
     "output_type": "stream",
     "text": [
      "100%|██████████| 1/1 [08:13<00:00, 493.40s/it]"
     ]
    },
    {
     "name": "stdout",
     "output_type": "stream",
     "text": [
      "486.0\n"
     ]
    },
    {
     "name": "stderr",
     "output_type": "stream",
     "text": [
      "\n"
     ]
    }
   ],
   "source": [
    "from scripts.nn_layer import linear_layer\n",
    "from tqdm import tqdm\n",
    "nb = 1024\n",
    "samples = 1\n",
    "num_out=10\n",
    "depth = int(math.ceil(math.log(nb*1.0, 2)))\n",
    "inputs =enc_mat(name='nn_input'+str(idx)+'_', size= (1, nb))\n",
    "outputs = enc_mat(name='nn_outputs'+str(idx)+'_', size=(num_out, 1))\n",
    "weight = (np.random.uniform(size=(num_out, nb))> 0.5).astype(int)\n",
    "layer = linear_layer(name='linear', weight=weight,\n",
    "                    inputs=inputs, outputs=outputs)\n",
    "layer_obj = circuit('linear_layer', layer, const_inputs=[])\n",
    "layer_obj.write_file(filename='./test_linear.sheep')\n",
    "processing_time = np.zeros(samples)\n",
    "for idx in tqdm(range(0, samples)):\n",
    "    inp_arr_val = list(map(lambda x : int(x), np.random.uniform(size=nb*1)> 0.5))\n",
    "    inp_dict = inputs.get_input_dict(inp_arr_val)\n",
    "    inputs_file = benchmark_utils.write_inputs_file(inp_dict)\n",
    "    results = benchmark_utils.run_circuit('./test_linear.sheep',inputs_file,\"bool\",\"TFHE\",eval_strategy='parallel')\n",
    "    processing_time[idx] = results['Processing times (s)']['circuit_evaluation']\n",
    "    out_vars = outputs.get_variables()\n",
    "    xor_val = (weight == np.asarray([x for x in inp_arr_val]))\n",
    "    #print(xor_val)\n",
    "    out_bit_vec = np.asarray([int(results['Outputs'][var]) for var in out_vars])\n",
    "    true_bit_vec = (np.sum(np.asarray(xor_val), axis=1)>nb/2).astype(int)\n",
    "    assert np.alltrue(out_bit_vec == true_bit_vec)\n",
    "print(processing_time.mean())"
   ]
  },
  {
   "cell_type": "markdown",
   "metadata": {},
   "source": [
    "|Input Dim | Output Dim | Time|\n",
    "|:---------| ---------- |:---:|\n",
    "|100       |    10      | 48s |\n",
    "|500       |    2       | 47s |\n",
    "|1024      |    10      | 487s|"
   ]
  },
  {
   "cell_type": "code",
   "execution_count": null,
   "metadata": {},
   "outputs": [],
   "source": []
  }
 ],
 "metadata": {
  "kernelspec": {
   "display_name": "Python 2",
   "language": "python",
   "name": "python2"
  },
  "language_info": {
   "codemirror_mode": {
    "name": "ipython",
    "version": 2
   },
   "file_extension": ".py",
   "mimetype": "text/x-python",
   "name": "python",
   "nbconvert_exporter": "python",
   "pygments_lexer": "ipython2",
   "version": "2.7.14"
  }
 },
 "nbformat": 4,
 "nbformat_minor": 2
}
